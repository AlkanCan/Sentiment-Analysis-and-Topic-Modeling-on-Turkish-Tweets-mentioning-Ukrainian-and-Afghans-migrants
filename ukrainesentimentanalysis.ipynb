{
 "cells": [
  {
   "cell_type": "code",
   "execution_count": 41,
   "id": "5059f3b9",
   "metadata": {},
   "outputs": [],
   "source": [
    "\n",
    "from sklearn.feature_extraction.text import CountVectorizer\n",
    "import pandas as pd\n"
   ]
  },
  {
   "cell_type": "code",
   "execution_count": 42,
   "id": "c3c2dfd4",
   "metadata": {},
   "outputs": [],
   "source": [
    "df=pd.read_csv('ukrainefinal_lemmatized.csv')"
   ]
  },
  {
   "cell_type": "code",
   "execution_count": 43,
   "id": "6d92d65d",
   "metadata": {},
   "outputs": [],
   "source": [
    "df1=pd.read_csv('annotated_tweets_ukraine_lemmatized.csv')"
   ]
  },
  {
   "cell_type": "code",
   "execution_count": 44,
   "id": "560b2ca1",
   "metadata": {},
   "outputs": [
    {
     "data": {
      "text/html": [
       "<div>\n",
       "<style scoped>\n",
       "    .dataframe tbody tr th:only-of-type {\n",
       "        vertical-align: middle;\n",
       "    }\n",
       "\n",
       "    .dataframe tbody tr th {\n",
       "        vertical-align: top;\n",
       "    }\n",
       "\n",
       "    .dataframe thead th {\n",
       "        text-align: right;\n",
       "    }\n",
       "</style>\n",
       "<table border=\"1\" class=\"dataframe\">\n",
       "  <thead>\n",
       "    <tr style=\"text-align: right;\">\n",
       "      <th></th>\n",
       "      <th>Unnamed: 0</th>\n",
       "      <th>date</th>\n",
       "      <th>Tweet</th>\n",
       "      <th>id</th>\n",
       "    </tr>\n",
       "  </thead>\n",
       "  <tbody>\n",
       "    <tr>\n",
       "      <th>0</th>\n",
       "      <td>0</td>\n",
       "      <td>2022-02-24 00:01:49+00:00</td>\n",
       "      <td>russia ukraine war uşarusya ukrayna savaş abda...</td>\n",
       "      <td>1.496636e+18</td>\n",
       "    </tr>\n",
       "    <tr>\n",
       "      <th>1</th>\n",
       "      <td>1</td>\n",
       "      <td>2022-02-24 00:09:13+00:00</td>\n",
       "      <td>🇺🇦 🇷🇺 ukrayna ş o göndermek talep etmek</td>\n",
       "      <td>1.496638e+18</td>\n",
       "    </tr>\n",
       "    <tr>\n",
       "      <th>2</th>\n",
       "      <td>2</td>\n",
       "      <td>2022-02-24 00:10:06+00:00</td>\n",
       "      <td>abd dışiş bakmak yardım ceset torba moskova ge...</td>\n",
       "      <td>1.496639e+18</td>\n",
       "    </tr>\n",
       "    <tr>\n",
       "      <th>3</th>\n",
       "      <td>3</td>\n",
       "      <td>2022-02-24 00:12:33+00:00</td>\n",
       "      <td>şimdi anadil rusça olmak ukrayna ukraince yaza...</td>\n",
       "      <td>1.496639e+18</td>\n",
       "    </tr>\n",
       "    <tr>\n",
       "      <th>4</th>\n",
       "      <td>4</td>\n",
       "      <td>2022-02-24 00:39:51+00:00</td>\n",
       "      <td>ukrayna ge uyumak</td>\n",
       "      <td>1.496646e+18</td>\n",
       "    </tr>\n",
       "    <tr>\n",
       "      <th>...</th>\n",
       "      <td>...</td>\n",
       "      <td>...</td>\n",
       "      <td>...</td>\n",
       "      <td>...</td>\n",
       "    </tr>\n",
       "    <tr>\n",
       "      <th>35067</th>\n",
       "      <td>35067</td>\n",
       "      <td>2022-08-23 21:52:43+00:00</td>\n",
       "      <td>almanya ukrayna mülteci sayı açık</td>\n",
       "      <td>1.562196e+18</td>\n",
       "    </tr>\n",
       "    <tr>\n",
       "      <th>35068</th>\n",
       "      <td>35068</td>\n",
       "      <td>2022-08-23 21:53:25+00:00</td>\n",
       "      <td>te pavlov evin sovyet anavatan savunu toplantı...</td>\n",
       "      <td>1.562196e+18</td>\n",
       "    </tr>\n",
       "    <tr>\n",
       "      <th>35069</th>\n",
       "      <td>35069</td>\n",
       "      <td>2022-08-23 22:21:28+00:00</td>\n",
       "      <td>maalesef geç kalmak yer suriye ukrayna doldurm...</td>\n",
       "      <td>1.562203e+18</td>\n",
       "    </tr>\n",
       "    <tr>\n",
       "      <th>35070</th>\n",
       "      <td>35070</td>\n",
       "      <td>2022-08-23 22:21:51+00:00</td>\n",
       "      <td>trabzon havaî fişek uzak gören ukrayna</td>\n",
       "      <td>1.562203e+18</td>\n",
       "    </tr>\n",
       "    <tr>\n",
       "      <th>35071</th>\n",
       "      <td>35071</td>\n",
       "      <td>2022-08-23 22:23:30+00:00</td>\n",
       "      <td>ukrayna yer ermeni demek şık olur</td>\n",
       "      <td>1.562204e+18</td>\n",
       "    </tr>\n",
       "  </tbody>\n",
       "</table>\n",
       "<p>35072 rows × 4 columns</p>\n",
       "</div>"
      ],
      "text/plain": [
       "       Unnamed: 0                       date  \\\n",
       "0               0  2022-02-24 00:01:49+00:00   \n",
       "1               1  2022-02-24 00:09:13+00:00   \n",
       "2               2  2022-02-24 00:10:06+00:00   \n",
       "3               3  2022-02-24 00:12:33+00:00   \n",
       "4               4  2022-02-24 00:39:51+00:00   \n",
       "...           ...                        ...   \n",
       "35067       35067  2022-08-23 21:52:43+00:00   \n",
       "35068       35068  2022-08-23 21:53:25+00:00   \n",
       "35069       35069  2022-08-23 22:21:28+00:00   \n",
       "35070       35070  2022-08-23 22:21:51+00:00   \n",
       "35071       35071  2022-08-23 22:23:30+00:00   \n",
       "\n",
       "                                                   Tweet            id  \n",
       "0      russia ukraine war uşarusya ukrayna savaş abda...  1.496636e+18  \n",
       "1                🇺🇦 🇷🇺 ukrayna ş o göndermek talep etmek  1.496638e+18  \n",
       "2      abd dışiş bakmak yardım ceset torba moskova ge...  1.496639e+18  \n",
       "3      şimdi anadil rusça olmak ukrayna ukraince yaza...  1.496639e+18  \n",
       "4                                      ukrayna ge uyumak  1.496646e+18  \n",
       "...                                                  ...           ...  \n",
       "35067                  almanya ukrayna mülteci sayı açık  1.562196e+18  \n",
       "35068  te pavlov evin sovyet anavatan savunu toplantı...  1.562196e+18  \n",
       "35069  maalesef geç kalmak yer suriye ukrayna doldurm...  1.562203e+18  \n",
       "35070             trabzon havaî fişek uzak gören ukrayna  1.562203e+18  \n",
       "35071                  ukrayna yer ermeni demek şık olur  1.562204e+18  \n",
       "\n",
       "[35072 rows x 4 columns]"
      ]
     },
     "execution_count": 44,
     "metadata": {},
     "output_type": "execute_result"
    }
   ],
   "source": [
    "df"
   ]
  },
  {
   "cell_type": "code",
   "execution_count": 45,
   "id": "6ff4a252",
   "metadata": {},
   "outputs": [],
   "source": [
    "vector=CountVectorizer()"
   ]
  },
  {
   "cell_type": "code",
   "execution_count": 46,
   "id": "e67ae455",
   "metadata": {},
   "outputs": [],
   "source": [
    "X=df['Tweet']"
   ]
  },
  {
   "cell_type": "code",
   "execution_count": 47,
   "id": "2819ab58",
   "metadata": {},
   "outputs": [],
   "source": [
    "X_train=df1['Tweet']"
   ]
  },
  {
   "cell_type": "code",
   "execution_count": 48,
   "id": "ce91c807",
   "metadata": {},
   "outputs": [],
   "source": [
    "X_train=vector.fit_transform(X_train)"
   ]
  },
  {
   "cell_type": "code",
   "execution_count": 49,
   "id": "f5ccd36f",
   "metadata": {},
   "outputs": [],
   "source": [
    "X_pred=df['Tweet']"
   ]
  },
  {
   "cell_type": "code",
   "execution_count": 50,
   "id": "af1e7783",
   "metadata": {},
   "outputs": [],
   "source": [
    "X_pred=vector.transform(X_pred)"
   ]
  },
  {
   "cell_type": "code",
   "execution_count": 51,
   "id": "59244eef",
   "metadata": {},
   "outputs": [],
   "source": [
    "ytrain=df1['Sentiment']"
   ]
  },
  {
   "cell_type": "code",
   "execution_count": 52,
   "id": "7ff6b88d",
   "metadata": {},
   "outputs": [],
   "source": [
    "from sklearn.linear_model import LogisticRegression\n",
    "log_reg = LogisticRegression()\n",
    "log_reg.fit(X_train, ytrain)\n",
    "ypred = log_reg.predict(X_pred)\n"
   ]
  },
  {
   "cell_type": "code",
   "execution_count": 53,
   "id": "e4a5420b",
   "metadata": {},
   "outputs": [
    {
     "data": {
      "text/plain": [
       "array(['Neutral', 'Neutral', 'Neutral', ..., 'Neutral', 'Neutral',\n",
       "       'Neutral'], dtype=object)"
      ]
     },
     "execution_count": 53,
     "metadata": {},
     "output_type": "execute_result"
    }
   ],
   "source": [
    "ypred"
   ]
  },
  {
   "cell_type": "code",
   "execution_count": 54,
   "id": "3e553349",
   "metadata": {},
   "outputs": [],
   "source": [
    "df2 = pd.concat([X.reset_index(drop=True), pd.Series(ypred, name=\"PredictedSentiment\")], axis=1)"
   ]
  },
  {
   "cell_type": "code",
   "execution_count": 67,
   "id": "c0b161f9",
   "metadata": {},
   "outputs": [
    {
     "data": {
      "text/plain": [
       "Neutral     30701\n",
       "Positive     3042\n",
       "Negative     1329\n",
       "Name: PredictedSentiment, dtype: int64"
      ]
     },
     "execution_count": 67,
     "metadata": {},
     "output_type": "execute_result"
    }
   ],
   "source": [
    "df5['PredictedSentiment'].value_counts()"
   ]
  },
  {
   "cell_type": "code",
   "execution_count": 56,
   "id": "b2694dc4",
   "metadata": {},
   "outputs": [],
   "source": [
    "df2.to_csv('predictedsentiment_ukraine.csv')"
   ]
  },
  {
   "cell_type": "code",
   "execution_count": 57,
   "id": "c4ba817f",
   "metadata": {},
   "outputs": [],
   "source": [
    "all_tweets_ukraine=pd.read_excel('ukrainefinaldataset.xlsx')"
   ]
  },
  {
   "cell_type": "code",
   "execution_count": 58,
   "id": "0add0f94",
   "metadata": {},
   "outputs": [
    {
     "data": {
      "text/html": [
       "<div>\n",
       "<style scoped>\n",
       "    .dataframe tbody tr th:only-of-type {\n",
       "        vertical-align: middle;\n",
       "    }\n",
       "\n",
       "    .dataframe tbody tr th {\n",
       "        vertical-align: top;\n",
       "    }\n",
       "\n",
       "    .dataframe thead th {\n",
       "        text-align: right;\n",
       "    }\n",
       "</style>\n",
       "<table border=\"1\" class=\"dataframe\">\n",
       "  <thead>\n",
       "    <tr style=\"text-align: right;\">\n",
       "      <th></th>\n",
       "      <th>date</th>\n",
       "      <th>Tweet</th>\n",
       "      <th>id</th>\n",
       "    </tr>\n",
       "  </thead>\n",
       "  <tbody>\n",
       "    <tr>\n",
       "      <th>0</th>\n",
       "      <td>2022-02-24 00:01:49+00:00</td>\n",
       "      <td>#Russia #Ukraine #War #USA\\n#Rusya #Ukrayna #S...</td>\n",
       "      <td>1.496636e+18</td>\n",
       "    </tr>\n",
       "    <tr>\n",
       "      <th>1</th>\n",
       "      <td>2022-02-24 00:09:13+00:00</td>\n",
       "      <td>🇺🇦 🇷🇺 Ukraynalılar S-400'leri onlara göndermem...</td>\n",
       "      <td>1.496638e+18</td>\n",
       "    </tr>\n",
       "    <tr>\n",
       "      <th>2</th>\n",
       "      <td>2022-02-24 00:10:06+00:00</td>\n",
       "      <td>ABD Dışişleri Bakan Yardımcısı: \"Ceset torbala...</td>\n",
       "      <td>1.496639e+18</td>\n",
       "    </tr>\n",
       "    <tr>\n",
       "      <th>3</th>\n",
       "      <td>2022-02-24 00:12:33+00:00</td>\n",
       "      <td>Şimdi anadili #Rusça olan #Ukraynalılar #Ukrai...</td>\n",
       "      <td>1.496639e+18</td>\n",
       "    </tr>\n",
       "    <tr>\n",
       "      <th>4</th>\n",
       "      <td>2022-02-24 00:39:51+00:00</td>\n",
       "      <td>Ukraynalılar bu gece uyumuyor.</td>\n",
       "      <td>1.496646e+18</td>\n",
       "    </tr>\n",
       "    <tr>\n",
       "      <th>...</th>\n",
       "      <td>...</td>\n",
       "      <td>...</td>\n",
       "      <td>...</td>\n",
       "    </tr>\n",
       "    <tr>\n",
       "      <th>35067</th>\n",
       "      <td>2022-08-23 21:52:43+00:00</td>\n",
       "      <td>Almanya'daki Ukraynalı Mülteci Sayısı Açıkland...</td>\n",
       "      <td>1.562196e+18</td>\n",
       "    </tr>\n",
       "    <tr>\n",
       "      <th>35068</th>\n",
       "      <td>2022-08-23 21:53:25+00:00</td>\n",
       "      <td>1983'te Pavlov evinde Sovyetler Anavatan savun...</td>\n",
       "      <td>1.562196e+18</td>\n",
       "    </tr>\n",
       "    <tr>\n",
       "      <th>35069</th>\n",
       "      <td>2022-08-23 22:21:28+00:00</td>\n",
       "      <td>@ulkeinceleme Maalesef geç kaldınız o yerleri ...</td>\n",
       "      <td>1.562203e+18</td>\n",
       "    </tr>\n",
       "    <tr>\n",
       "      <th>35070</th>\n",
       "      <td>2022-08-23 22:21:51+00:00</td>\n",
       "      <td>trabzondaki havai fişekleri uzaktan gören ukra...</td>\n",
       "      <td>1.562203e+18</td>\n",
       "    </tr>\n",
       "    <tr>\n",
       "      <th>35071</th>\n",
       "      <td>2022-08-23 22:23:30+00:00</td>\n",
       "      <td>@stipanovic31 Ukraynalılar yerine ermeniler de...</td>\n",
       "      <td>1.562204e+18</td>\n",
       "    </tr>\n",
       "  </tbody>\n",
       "</table>\n",
       "<p>35072 rows × 3 columns</p>\n",
       "</div>"
      ],
      "text/plain": [
       "                            date  \\\n",
       "0      2022-02-24 00:01:49+00:00   \n",
       "1      2022-02-24 00:09:13+00:00   \n",
       "2      2022-02-24 00:10:06+00:00   \n",
       "3      2022-02-24 00:12:33+00:00   \n",
       "4      2022-02-24 00:39:51+00:00   \n",
       "...                          ...   \n",
       "35067  2022-08-23 21:52:43+00:00   \n",
       "35068  2022-08-23 21:53:25+00:00   \n",
       "35069  2022-08-23 22:21:28+00:00   \n",
       "35070  2022-08-23 22:21:51+00:00   \n",
       "35071  2022-08-23 22:23:30+00:00   \n",
       "\n",
       "                                                   Tweet            id  \n",
       "0      #Russia #Ukraine #War #USA\\n#Rusya #Ukrayna #S...  1.496636e+18  \n",
       "1      🇺🇦 🇷🇺 Ukraynalılar S-400'leri onlara göndermem...  1.496638e+18  \n",
       "2      ABD Dışişleri Bakan Yardımcısı: \"Ceset torbala...  1.496639e+18  \n",
       "3      Şimdi anadili #Rusça olan #Ukraynalılar #Ukrai...  1.496639e+18  \n",
       "4                         Ukraynalılar bu gece uyumuyor.  1.496646e+18  \n",
       "...                                                  ...           ...  \n",
       "35067  Almanya'daki Ukraynalı Mülteci Sayısı Açıkland...  1.562196e+18  \n",
       "35068  1983'te Pavlov evinde Sovyetler Anavatan savun...  1.562196e+18  \n",
       "35069  @ulkeinceleme Maalesef geç kaldınız o yerleri ...  1.562203e+18  \n",
       "35070  trabzondaki havai fişekleri uzaktan gören ukra...  1.562203e+18  \n",
       "35071  @stipanovic31 Ukraynalılar yerine ermeniler de...  1.562204e+18  \n",
       "\n",
       "[35072 rows x 3 columns]"
      ]
     },
     "execution_count": 58,
     "metadata": {},
     "output_type": "execute_result"
    }
   ],
   "source": [
    "all_tweets_ukraine"
   ]
  },
  {
   "cell_type": "code",
   "execution_count": 59,
   "id": "9af1a432",
   "metadata": {},
   "outputs": [],
   "source": [
    "df5 = pd.concat([all_tweets_ukraine.reset_index(drop=True), pd.Series(ypred, name=\"PredictedSentiment\")], axis=1)"
   ]
  },
  {
   "cell_type": "code",
   "execution_count": 60,
   "id": "480702c7",
   "metadata": {},
   "outputs": [
    {
     "data": {
      "text/html": [
       "<div>\n",
       "<style scoped>\n",
       "    .dataframe tbody tr th:only-of-type {\n",
       "        vertical-align: middle;\n",
       "    }\n",
       "\n",
       "    .dataframe tbody tr th {\n",
       "        vertical-align: top;\n",
       "    }\n",
       "\n",
       "    .dataframe thead th {\n",
       "        text-align: right;\n",
       "    }\n",
       "</style>\n",
       "<table border=\"1\" class=\"dataframe\">\n",
       "  <thead>\n",
       "    <tr style=\"text-align: right;\">\n",
       "      <th></th>\n",
       "      <th>date</th>\n",
       "      <th>Tweet</th>\n",
       "      <th>id</th>\n",
       "      <th>PredictedSentiment</th>\n",
       "    </tr>\n",
       "  </thead>\n",
       "  <tbody>\n",
       "    <tr>\n",
       "      <th>0</th>\n",
       "      <td>2022-02-24 00:01:49+00:00</td>\n",
       "      <td>#Russia #Ukraine #War #USA\\n#Rusya #Ukrayna #S...</td>\n",
       "      <td>1.496636e+18</td>\n",
       "      <td>Neutral</td>\n",
       "    </tr>\n",
       "    <tr>\n",
       "      <th>1</th>\n",
       "      <td>2022-02-24 00:09:13+00:00</td>\n",
       "      <td>🇺🇦 🇷🇺 Ukraynalılar S-400'leri onlara göndermem...</td>\n",
       "      <td>1.496638e+18</td>\n",
       "      <td>Neutral</td>\n",
       "    </tr>\n",
       "    <tr>\n",
       "      <th>2</th>\n",
       "      <td>2022-02-24 00:10:06+00:00</td>\n",
       "      <td>ABD Dışişleri Bakan Yardımcısı: \"Ceset torbala...</td>\n",
       "      <td>1.496639e+18</td>\n",
       "      <td>Neutral</td>\n",
       "    </tr>\n",
       "    <tr>\n",
       "      <th>3</th>\n",
       "      <td>2022-02-24 00:12:33+00:00</td>\n",
       "      <td>Şimdi anadili #Rusça olan #Ukraynalılar #Ukrai...</td>\n",
       "      <td>1.496639e+18</td>\n",
       "      <td>Neutral</td>\n",
       "    </tr>\n",
       "    <tr>\n",
       "      <th>4</th>\n",
       "      <td>2022-02-24 00:39:51+00:00</td>\n",
       "      <td>Ukraynalılar bu gece uyumuyor.</td>\n",
       "      <td>1.496646e+18</td>\n",
       "      <td>Neutral</td>\n",
       "    </tr>\n",
       "    <tr>\n",
       "      <th>...</th>\n",
       "      <td>...</td>\n",
       "      <td>...</td>\n",
       "      <td>...</td>\n",
       "      <td>...</td>\n",
       "    </tr>\n",
       "    <tr>\n",
       "      <th>35067</th>\n",
       "      <td>2022-08-23 21:52:43+00:00</td>\n",
       "      <td>Almanya'daki Ukraynalı Mülteci Sayısı Açıkland...</td>\n",
       "      <td>1.562196e+18</td>\n",
       "      <td>Neutral</td>\n",
       "    </tr>\n",
       "    <tr>\n",
       "      <th>35068</th>\n",
       "      <td>2022-08-23 21:53:25+00:00</td>\n",
       "      <td>1983'te Pavlov evinde Sovyetler Anavatan savun...</td>\n",
       "      <td>1.562196e+18</td>\n",
       "      <td>Positive</td>\n",
       "    </tr>\n",
       "    <tr>\n",
       "      <th>35069</th>\n",
       "      <td>2022-08-23 22:21:28+00:00</td>\n",
       "      <td>@ulkeinceleme Maalesef geç kaldınız o yerleri ...</td>\n",
       "      <td>1.562203e+18</td>\n",
       "      <td>Neutral</td>\n",
       "    </tr>\n",
       "    <tr>\n",
       "      <th>35070</th>\n",
       "      <td>2022-08-23 22:21:51+00:00</td>\n",
       "      <td>trabzondaki havai fişekleri uzaktan gören ukra...</td>\n",
       "      <td>1.562203e+18</td>\n",
       "      <td>Neutral</td>\n",
       "    </tr>\n",
       "    <tr>\n",
       "      <th>35071</th>\n",
       "      <td>2022-08-23 22:23:30+00:00</td>\n",
       "      <td>@stipanovic31 Ukraynalılar yerine ermeniler de...</td>\n",
       "      <td>1.562204e+18</td>\n",
       "      <td>Neutral</td>\n",
       "    </tr>\n",
       "  </tbody>\n",
       "</table>\n",
       "<p>35072 rows × 4 columns</p>\n",
       "</div>"
      ],
      "text/plain": [
       "                            date  \\\n",
       "0      2022-02-24 00:01:49+00:00   \n",
       "1      2022-02-24 00:09:13+00:00   \n",
       "2      2022-02-24 00:10:06+00:00   \n",
       "3      2022-02-24 00:12:33+00:00   \n",
       "4      2022-02-24 00:39:51+00:00   \n",
       "...                          ...   \n",
       "35067  2022-08-23 21:52:43+00:00   \n",
       "35068  2022-08-23 21:53:25+00:00   \n",
       "35069  2022-08-23 22:21:28+00:00   \n",
       "35070  2022-08-23 22:21:51+00:00   \n",
       "35071  2022-08-23 22:23:30+00:00   \n",
       "\n",
       "                                                   Tweet            id  \\\n",
       "0      #Russia #Ukraine #War #USA\\n#Rusya #Ukrayna #S...  1.496636e+18   \n",
       "1      🇺🇦 🇷🇺 Ukraynalılar S-400'leri onlara göndermem...  1.496638e+18   \n",
       "2      ABD Dışişleri Bakan Yardımcısı: \"Ceset torbala...  1.496639e+18   \n",
       "3      Şimdi anadili #Rusça olan #Ukraynalılar #Ukrai...  1.496639e+18   \n",
       "4                         Ukraynalılar bu gece uyumuyor.  1.496646e+18   \n",
       "...                                                  ...           ...   \n",
       "35067  Almanya'daki Ukraynalı Mülteci Sayısı Açıkland...  1.562196e+18   \n",
       "35068  1983'te Pavlov evinde Sovyetler Anavatan savun...  1.562196e+18   \n",
       "35069  @ulkeinceleme Maalesef geç kaldınız o yerleri ...  1.562203e+18   \n",
       "35070  trabzondaki havai fişekleri uzaktan gören ukra...  1.562203e+18   \n",
       "35071  @stipanovic31 Ukraynalılar yerine ermeniler de...  1.562204e+18   \n",
       "\n",
       "      PredictedSentiment  \n",
       "0                Neutral  \n",
       "1                Neutral  \n",
       "2                Neutral  \n",
       "3                Neutral  \n",
       "4                Neutral  \n",
       "...                  ...  \n",
       "35067            Neutral  \n",
       "35068           Positive  \n",
       "35069            Neutral  \n",
       "35070            Neutral  \n",
       "35071            Neutral  \n",
       "\n",
       "[35072 rows x 4 columns]"
      ]
     },
     "execution_count": 60,
     "metadata": {},
     "output_type": "execute_result"
    }
   ],
   "source": [
    "df5"
   ]
  },
  {
   "cell_type": "code",
   "execution_count": 61,
   "id": "594d5716",
   "metadata": {},
   "outputs": [],
   "source": [
    "df5.to_csv('ukrainewithpredictedsentiment.csv')"
   ]
  },
  {
   "cell_type": "code",
   "execution_count": 62,
   "id": "68a8708c",
   "metadata": {},
   "outputs": [],
   "source": [
    "df5.to_excel('ukrainewithpredictedsentiment.xlsx')"
   ]
  },
  {
   "cell_type": "code",
   "execution_count": 63,
   "id": "8c50cd9a",
   "metadata": {},
   "outputs": [],
   "source": [
    "import pandas as pd\n",
    "import numpy as np\n",
    "import sys\n",
    "import matplotlib.pyplot as plt"
   ]
  },
  {
   "cell_type": "code",
   "execution_count": 66,
   "id": "e751abe6",
   "metadata": {},
   "outputs": [
    {
     "data": {
      "image/png": "[encoded data removed]",
      "text/plain": [
       "<Figure size 432x288 with 1 Axes>"
      ]
     },
     "metadata": {},
     "output_type": "display_data"
    }
   ],
   "source": [
    "plt.pie(df5['PredictedSentiment'].value_counts(),labels=['Neutral','Positive','Negative'],autopct='%1.1f%%')\n",
    "plt.show()"
   ]
  },
  {
   "cell_type": "code",
   "execution_count": null,
   "id": "a307479d",
   "metadata": {},
   "outputs": [],
   "source": []
  }
 ],
 "metadata": {
  "kernelspec": {
   "display_name": "Python 3 (ipykernel)",
   "language": "python",
   "name": "python3"
  },
  "language_info": {
   "codemirror_mode": {
    "name": "ipython",
    "version": 3
   },
   "file_extension": ".py",
   "mimetype": "text/x-python",
   "name": "python",
   "nbconvert_exporter": "python",
   "pygments_lexer": "ipython3",
   "version": "3.9.12"
  }
 },
 "nbformat": 4,
 "nbformat_minor": 5
}
