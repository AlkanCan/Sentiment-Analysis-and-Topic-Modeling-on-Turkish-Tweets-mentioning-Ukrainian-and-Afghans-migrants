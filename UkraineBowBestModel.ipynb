{
 "cells": [
  {
   "cell_type": "code",
   "execution_count": 22,
   "id": "1588c417",
   "metadata": {},
   "outputs": [],
   "source": [
    "\n",
    "from sklearn.feature_extraction.text import CountVectorizer\n",
    "import pandas as pd\n",
    "from sklearn.model_selection import train_test_split\n",
    "from sklearn.metrics import accuracy_score\n",
    "from sklearn.metrics import classification_report\n",
    "from sklearn.metrics import confusion_matrix"
   ]
  },
  {
   "cell_type": "code",
   "execution_count": 23,
   "id": "7cd20a60",
   "metadata": {},
   "outputs": [],
   "source": [
    "df=pd.read_csv(\"annotated_tweets_ukraine_lemmatized.csv\")"
   ]
  },
  {
   "cell_type": "code",
   "execution_count": 24,
   "id": "cdd0a273",
   "metadata": {},
   "outputs": [
    {
     "data": {
      "text/plain": [
       "Neutral     1148\n",
       "Positive     208\n",
       "Negative     144\n",
       "Name: Sentiment, dtype: int64"
      ]
     },
     "execution_count": 24,
     "metadata": {},
     "output_type": "execute_result"
    }
   ],
   "source": [
    "df['Sentiment'].value_counts()"
   ]
  },
  {
   "cell_type": "code",
   "execution_count": 25,
   "id": "296a6168",
   "metadata": {},
   "outputs": [],
   "source": [
    "X=df['Tweet']\n",
    "y=df['Sentiment']"
   ]
  },
  {
   "cell_type": "code",
   "execution_count": 26,
   "id": "11b0750d",
   "metadata": {},
   "outputs": [],
   "source": [
    "Xtrain, Xtest, ytrain, ytest = train_test_split(X, y,test_size=0.2,stratify=y,random_state=1)"
   ]
  },
  {
   "cell_type": "code",
   "execution_count": 27,
   "id": "b1fb8628",
   "metadata": {},
   "outputs": [
    {
     "data": {
      "text/plain": [
       "984     Neutral\n",
       "201     Neutral\n",
       "549     Neutral\n",
       "506     Neutral\n",
       "485    Positive\n",
       "         ...   \n",
       "671    Positive\n",
       "166     Neutral\n",
       "798     Neutral\n",
       "703    Positive\n",
       "615    Positive\n",
       "Name: Sentiment, Length: 300, dtype: object"
      ]
     },
     "execution_count": 27,
     "metadata": {},
     "output_type": "execute_result"
    }
   ],
   "source": [
    "ytest"
   ]
  },
  {
   "cell_type": "code",
   "execution_count": 28,
   "id": "bf2fcffa",
   "metadata": {},
   "outputs": [],
   "source": [
    "vector=CountVectorizer()"
   ]
  },
  {
   "cell_type": "code",
   "execution_count": 29,
   "id": "089bd117",
   "metadata": {},
   "outputs": [],
   "source": [
    "X_train=vector.fit_transform(Xtrain)"
   ]
  },
  {
   "cell_type": "code",
   "execution_count": 30,
   "id": "eb3dd397",
   "metadata": {},
   "outputs": [],
   "source": [
    "X_test=vector.transform(Xtest)"
   ]
  },
  {
   "cell_type": "code",
   "execution_count": 31,
   "id": "e31eff36",
   "metadata": {},
   "outputs": [],
   "source": [
    "#MULTINOMIAL NAIVE BAYES"
   ]
  },
  {
   "cell_type": "code",
   "execution_count": 32,
   "id": "e27682a1",
   "metadata": {},
   "outputs": [],
   "source": [
    "from sklearn.naive_bayes import MultinomialNB\n"
   ]
  },
  {
   "cell_type": "code",
   "execution_count": 33,
   "id": "4ae2fb8c",
   "metadata": {},
   "outputs": [
    {
     "name": "stdout",
     "output_type": "stream",
     "text": [
      "              precision    recall  f1-score   support\n",
      "\n",
      "    Negative       0.00      0.00      0.00        29\n",
      "     Neutral       0.80      0.96      0.87       230\n",
      "    Positive       0.56      0.34      0.42        41\n",
      "\n",
      "    accuracy                           0.78       300\n",
      "   macro avg       0.45      0.43      0.43       300\n",
      "weighted avg       0.69      0.78      0.73       300\n",
      "\n"
     ]
    },
    {
     "name": "stderr",
     "output_type": "stream",
     "text": [
      "C:\\Users\\Alkan\\anaconda3\\lib\\site-packages\\sklearn\\metrics\\_classification.py:1318: UndefinedMetricWarning: Precision and F-score are ill-defined and being set to 0.0 in labels with no predicted samples. Use `zero_division` parameter to control this behavior.\n",
      "  _warn_prf(average, modifier, msg_start, len(result))\n",
      "C:\\Users\\Alkan\\anaconda3\\lib\\site-packages\\sklearn\\metrics\\_classification.py:1318: UndefinedMetricWarning: Precision and F-score are ill-defined and being set to 0.0 in labels with no predicted samples. Use `zero_division` parameter to control this behavior.\n",
      "  _warn_prf(average, modifier, msg_start, len(result))\n",
      "C:\\Users\\Alkan\\anaconda3\\lib\\site-packages\\sklearn\\metrics\\_classification.py:1318: UndefinedMetricWarning: Precision and F-score are ill-defined and being set to 0.0 in labels with no predicted samples. Use `zero_division` parameter to control this behavior.\n",
      "  _warn_prf(average, modifier, msg_start, len(result))\n"
     ]
    }
   ],
   "source": [
    "model=MultinomialNB()\n",
    "model.fit(X_train,ytrain)\n",
    "y_pred=model.predict(X_test)\n",
    "print(classification_report(ytest,y_pred))"
   ]
  },
  {
   "cell_type": "code",
   "execution_count": 34,
   "id": "358d8084",
   "metadata": {
    "scrolled": true
   },
   "outputs": [
    {
     "name": "stdout",
     "output_type": "stream",
     "text": [
      "              precision    recall  f1-score   support\n",
      "\n",
      "    Negative       1.00      0.03      0.07        29\n",
      "     Neutral       0.79      0.97      0.87       230\n",
      "    Positive       0.43      0.15      0.22        41\n",
      "\n",
      "    accuracy                           0.77       300\n",
      "   macro avg       0.74      0.38      0.38       300\n",
      "weighted avg       0.76      0.77      0.70       300\n",
      "\n"
     ]
    }
   ],
   "source": [
    "from sklearn.ensemble import RandomForestClassifier\n",
    "rmodel=RandomForestClassifier()\n",
    "rmodel.fit(X_train,ytrain)\n",
    "ypred1=rmodel.predict(X_test)\n",
    "print(classification_report(ytest,ypred1))"
   ]
  },
  {
   "cell_type": "code",
   "execution_count": 35,
   "id": "b949f15d",
   "metadata": {},
   "outputs": [
    {
     "name": "stdout",
     "output_type": "stream",
     "text": [
      "              precision    recall  f1-score   support\n",
      "\n",
      "    Negative       0.00      0.00      0.00        29\n",
      "     Neutral       0.77      1.00      0.87       230\n",
      "    Positive       0.50      0.02      0.05        41\n",
      "\n",
      "    accuracy                           0.77       300\n",
      "   macro avg       0.42      0.34      0.30       300\n",
      "weighted avg       0.66      0.77      0.67       300\n",
      "\n"
     ]
    },
    {
     "name": "stderr",
     "output_type": "stream",
     "text": [
      "C:\\Users\\Alkan\\anaconda3\\lib\\site-packages\\sklearn\\metrics\\_classification.py:1318: UndefinedMetricWarning: Precision and F-score are ill-defined and being set to 0.0 in labels with no predicted samples. Use `zero_division` parameter to control this behavior.\n",
      "  _warn_prf(average, modifier, msg_start, len(result))\n",
      "C:\\Users\\Alkan\\anaconda3\\lib\\site-packages\\sklearn\\metrics\\_classification.py:1318: UndefinedMetricWarning: Precision and F-score are ill-defined and being set to 0.0 in labels with no predicted samples. Use `zero_division` parameter to control this behavior.\n",
      "  _warn_prf(average, modifier, msg_start, len(result))\n",
      "C:\\Users\\Alkan\\anaconda3\\lib\\site-packages\\sklearn\\metrics\\_classification.py:1318: UndefinedMetricWarning: Precision and F-score are ill-defined and being set to 0.0 in labels with no predicted samples. Use `zero_division` parameter to control this behavior.\n",
      "  _warn_prf(average, modifier, msg_start, len(result))\n"
     ]
    }
   ],
   "source": [
    "from sklearn.svm import SVC\n",
    "smodel=SVC()\n",
    "smodel.fit(X_train, ytrain)\n",
    "ypred2=smodel.predict(X_test)\n",
    "accuracy_score(ytest,ypred2)\n",
    "print(classification_report(ytest,ypred2))"
   ]
  },
  {
   "cell_type": "code",
   "execution_count": 36,
   "id": "2d8688c1",
   "metadata": {},
   "outputs": [
    {
     "name": "stdout",
     "output_type": "stream",
     "text": [
      "              precision    recall  f1-score   support\n",
      "\n",
      "    Negative       0.00      0.00      0.00        29\n",
      "     Neutral       0.77      1.00      0.87       230\n",
      "    Positive       0.00      0.00      0.00        41\n",
      "\n",
      "    accuracy                           0.77       300\n",
      "   macro avg       0.26      0.33      0.29       300\n",
      "weighted avg       0.59      0.77      0.67       300\n",
      "\n"
     ]
    },
    {
     "name": "stderr",
     "output_type": "stream",
     "text": [
      "C:\\Users\\Alkan\\anaconda3\\lib\\site-packages\\sklearn\\metrics\\_classification.py:1318: UndefinedMetricWarning: Precision and F-score are ill-defined and being set to 0.0 in labels with no predicted samples. Use `zero_division` parameter to control this behavior.\n",
      "  _warn_prf(average, modifier, msg_start, len(result))\n",
      "C:\\Users\\Alkan\\anaconda3\\lib\\site-packages\\sklearn\\metrics\\_classification.py:1318: UndefinedMetricWarning: Precision and F-score are ill-defined and being set to 0.0 in labels with no predicted samples. Use `zero_division` parameter to control this behavior.\n",
      "  _warn_prf(average, modifier, msg_start, len(result))\n",
      "C:\\Users\\Alkan\\anaconda3\\lib\\site-packages\\sklearn\\metrics\\_classification.py:1318: UndefinedMetricWarning: Precision and F-score are ill-defined and being set to 0.0 in labels with no predicted samples. Use `zero_division` parameter to control this behavior.\n",
      "  _warn_prf(average, modifier, msg_start, len(result))\n"
     ]
    }
   ],
   "source": [
    "from sklearn.neighbors import KNeighborsClassifier\n",
    "kmodel = KNeighborsClassifier()\n",
    "kmodel.fit(X_train, ytrain)\n",
    "ypred3=kmodel.predict(X_test)\n",
    "accuracy_score(ytest,ypred3)\n",
    "print(classification_report(ytest,ypred3))"
   ]
  },
  {
   "cell_type": "code",
   "execution_count": 37,
   "id": "e37713f0",
   "metadata": {},
   "outputs": [],
   "source": [
    "from sklearn.linear_model import LogisticRegression"
   ]
  },
  {
   "cell_type": "code",
   "execution_count": 38,
   "id": "567d744e",
   "metadata": {},
   "outputs": [
    {
     "name": "stdout",
     "output_type": "stream",
     "text": [
      "              precision    recall  f1-score   support\n",
      "\n",
      "    Negative       0.38      0.17      0.24        29\n",
      "     Neutral       0.83      0.93      0.88       230\n",
      "    Positive       0.53      0.39      0.45        41\n",
      "\n",
      "    accuracy                           0.78       300\n",
      "   macro avg       0.58      0.50      0.52       300\n",
      "weighted avg       0.75      0.78      0.76       300\n",
      "\n"
     ]
    }
   ],
   "source": [
    "log_reg = LogisticRegression()\n",
    "\n",
    "log_reg.fit(X_train, ytrain)\n",
    "ypred4 = log_reg.predict(X_test)\n",
    "accuracy_score(ytest,ypred4)\n",
    "print(classification_report(ytest,ypred4))"
   ]
  },
  {
   "cell_type": "code",
   "execution_count": null,
   "id": "7f23f35d",
   "metadata": {},
   "outputs": [],
   "source": []
  },
  {
   "cell_type": "code",
   "execution_count": null,
   "id": "57e12cb1",
   "metadata": {},
   "outputs": [],
   "source": []
  },
  {
   "cell_type": "code",
   "execution_count": null,
   "id": "bc5a884b",
   "metadata": {},
   "outputs": [],
   "source": []
  }
 ],
 "metadata": {
  "kernelspec": {
   "display_name": "Python 3 (ipykernel)",
   "language": "python",
   "name": "python3"
  },
  "language_info": {
   "codemirror_mode": {
    "name": "ipython",
    "version": 3
   },
   "file_extension": ".py",
   "mimetype": "text/x-python",
   "name": "python",
   "nbconvert_exporter": "python",
   "pygments_lexer": "ipython3",
   "version": "3.9.12"
  }
 },
 "nbformat": 4,
 "nbformat_minor": 5
}
