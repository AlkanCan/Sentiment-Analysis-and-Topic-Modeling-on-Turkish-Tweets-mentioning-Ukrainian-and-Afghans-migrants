{
 "cells": [
  {
   "cell_type": "code",
   "execution_count": 1,
   "id": "c1e3fb11",
   "metadata": {},
   "outputs": [],
   "source": [
    "import numpy as np \n",
    "import pandas as pd\n",
    "\n",
    "from gsdmm import MovieGroupProcess\n",
    "\n",
    "from gensim.models.coherencemodel import CoherenceModel\n",
    "from gensim import corpora, models\n",
    "from gensim.utils import simple_preprocess\n",
    "import gensim\n",
    "from gensim.models.ldamulticore import LdaMulticore\n",
    "import re\n",
    "import spacy\n",
    "\n",
    "from gensim.models import Phrases\n",
    "from gensim.models.phrases import Phraser"
   ]
  },
  {
   "cell_type": "code",
   "execution_count": 2,
   "id": "9f9693ca",
   "metadata": {},
   "outputs": [],
   "source": [
    "df=pd.read_csv(\"predictedsentiment_afghans_logistic.csv\")"
   ]
  },
  {
   "cell_type": "code",
   "execution_count": 3,
   "id": "4315f4d7",
   "metadata": {},
   "outputs": [
    {
     "data": {
      "text/html": [
       "<div>\n",
       "<style scoped>\n",
       "    .dataframe tbody tr th:only-of-type {\n",
       "        vertical-align: middle;\n",
       "    }\n",
       "\n",
       "    .dataframe tbody tr th {\n",
       "        vertical-align: top;\n",
       "    }\n",
       "\n",
       "    .dataframe thead th {\n",
       "        text-align: right;\n",
       "    }\n",
       "</style>\n",
       "<table border=\"1\" class=\"dataframe\">\n",
       "  <thead>\n",
       "    <tr style=\"text-align: right;\">\n",
       "      <th></th>\n",
       "      <th>Unnamed: 0</th>\n",
       "      <th>Tweet</th>\n",
       "      <th>PredictedSentiment</th>\n",
       "    </tr>\n",
       "  </thead>\n",
       "  <tbody>\n",
       "    <tr>\n",
       "      <th>0</th>\n",
       "      <td>0</td>\n",
       "      <td>sn çelik birgün çıkmak kür emeklilikteyasatakı...</td>\n",
       "      <td>Negative</td>\n",
       "    </tr>\n",
       "    <tr>\n",
       "      <th>1</th>\n",
       "      <td>1</td>\n",
       "      <td>suriye esed gidermek suriye suriye gönderilirs...</td>\n",
       "      <td>Negative</td>\n",
       "    </tr>\n",
       "    <tr>\n",
       "      <th>2</th>\n",
       "      <td>2</td>\n",
       "      <td>suriye afgan zaman beri türkiye cumhuriyet vat...</td>\n",
       "      <td>Negative</td>\n",
       "    </tr>\n",
       "    <tr>\n",
       "      <th>3</th>\n",
       "      <td>3</td>\n",
       "      <td>afgan lunapark yakmışlaraqp li orman yakmak va...</td>\n",
       "      <td>Neutral</td>\n",
       "    </tr>\n",
       "    <tr>\n",
       "      <th>4</th>\n",
       "      <td>4</td>\n",
       "      <td>galatasaray türkiye derken doğru söylüyorlarmı...</td>\n",
       "      <td>Neutral</td>\n",
       "    </tr>\n",
       "    <tr>\n",
       "      <th>...</th>\n",
       "      <td>...</td>\n",
       "      <td>...</td>\n",
       "      <td>...</td>\n",
       "    </tr>\n",
       "    <tr>\n",
       "      <th>30547</th>\n",
       "      <td>30547</td>\n",
       "      <td>türkiye avrupa geçmek hayalî kuran milyonlarca...</td>\n",
       "      <td>Neutral</td>\n",
       "    </tr>\n",
       "    <tr>\n",
       "      <th>30548</th>\n",
       "      <td>30548</td>\n",
       "      <td>afgan giz çekip tıktoka at bir desen bir kepaz...</td>\n",
       "      <td>Neutral</td>\n",
       "    </tr>\n",
       "    <tr>\n",
       "      <th>30549</th>\n",
       "      <td>30549</td>\n",
       "      <td>avrupa halk huzur güvenlik baş sarmak suriye a...</td>\n",
       "      <td>Neutral</td>\n",
       "    </tr>\n",
       "    <tr>\n",
       "      <th>30550</th>\n",
       "      <td>30550</td>\n",
       "      <td>özür rağmen yalan kararlıları̇ngiliz basın yem...</td>\n",
       "      <td>Neutral</td>\n",
       "    </tr>\n",
       "    <tr>\n",
       "      <th>30551</th>\n",
       "      <td>30551</td>\n",
       "      <td>kaşımak bıkmak di mi bugün ağustos siz kuyruk ...</td>\n",
       "      <td>Neutral</td>\n",
       "    </tr>\n",
       "  </tbody>\n",
       "</table>\n",
       "<p>30552 rows × 3 columns</p>\n",
       "</div>"
      ],
      "text/plain": [
       "       Unnamed: 0                                              Tweet  \\\n",
       "0               0  sn çelik birgün çıkmak kür emeklilikteyasatakı...   \n",
       "1               1  suriye esed gidermek suriye suriye gönderilirs...   \n",
       "2               2  suriye afgan zaman beri türkiye cumhuriyet vat...   \n",
       "3               3  afgan lunapark yakmışlaraqp li orman yakmak va...   \n",
       "4               4  galatasaray türkiye derken doğru söylüyorlarmı...   \n",
       "...           ...                                                ...   \n",
       "30547       30547  türkiye avrupa geçmek hayalî kuran milyonlarca...   \n",
       "30548       30548  afgan giz çekip tıktoka at bir desen bir kepaz...   \n",
       "30549       30549  avrupa halk huzur güvenlik baş sarmak suriye a...   \n",
       "30550       30550  özür rağmen yalan kararlıları̇ngiliz basın yem...   \n",
       "30551       30551  kaşımak bıkmak di mi bugün ağustos siz kuyruk ...   \n",
       "\n",
       "      PredictedSentiment  \n",
       "0               Negative  \n",
       "1               Negative  \n",
       "2               Negative  \n",
       "3                Neutral  \n",
       "4                Neutral  \n",
       "...                  ...  \n",
       "30547            Neutral  \n",
       "30548            Neutral  \n",
       "30549            Neutral  \n",
       "30550            Neutral  \n",
       "30551            Neutral  \n",
       "\n",
       "[30552 rows x 3 columns]"
      ]
     },
     "execution_count": 3,
     "metadata": {},
     "output_type": "execute_result"
    }
   ],
   "source": [
    "df"
   ]
  },
  {
   "cell_type": "code",
   "execution_count": 6,
   "id": "cefba752",
   "metadata": {},
   "outputs": [
    {
     "data": {
      "text/html": [
       "<div>\n",
       "<style scoped>\n",
       "    .dataframe tbody tr th:only-of-type {\n",
       "        vertical-align: middle;\n",
       "    }\n",
       "\n",
       "    .dataframe tbody tr th {\n",
       "        vertical-align: top;\n",
       "    }\n",
       "\n",
       "    .dataframe thead th {\n",
       "        text-align: right;\n",
       "    }\n",
       "</style>\n",
       "<table border=\"1\" class=\"dataframe\">\n",
       "  <thead>\n",
       "    <tr style=\"text-align: right;\">\n",
       "      <th></th>\n",
       "      <th>Unnamed: 0</th>\n",
       "      <th>Tweet</th>\n",
       "      <th>PredictedSentiment</th>\n",
       "    </tr>\n",
       "  </thead>\n",
       "  <tbody>\n",
       "    <tr>\n",
       "      <th>327</th>\n",
       "      <td>327</td>\n",
       "      <td>kimse sormak soru cevap veremez sanmak vere va...</td>\n",
       "      <td>Positive</td>\n",
       "    </tr>\n",
       "    <tr>\n",
       "      <th>471</th>\n",
       "      <td>471</td>\n",
       "      <td>i̇lber ortay afgan ziraat sektör ihtiyaç var a...</td>\n",
       "      <td>Positive</td>\n",
       "    </tr>\n",
       "    <tr>\n",
       "      <th>562</th>\n",
       "      <td>562</td>\n",
       "      <td>bağım afganı̇stanafganistan demek beri i̇ngili...</td>\n",
       "      <td>Positive</td>\n",
       "    </tr>\n",
       "    <tr>\n",
       "      <th>581</th>\n",
       "      <td>581</td>\n",
       "      <td>afgan çalışkan demek utanmak türk tembel çalış...</td>\n",
       "      <td>Positive</td>\n",
       "    </tr>\n",
       "    <tr>\n",
       "      <th>679</th>\n",
       "      <td>679</td>\n",
       "      <td>konu ırk faşist kadar suriye afgan afro köken ...</td>\n",
       "      <td>Positive</td>\n",
       "    </tr>\n",
       "    <tr>\n",
       "      <th>...</th>\n",
       "      <td>...</td>\n",
       "      <td>...</td>\n",
       "      <td>...</td>\n",
       "    </tr>\n",
       "    <tr>\n",
       "      <th>29845</th>\n",
       "      <td>29845</td>\n",
       "      <td>fetö millî güvenlik tehdit etmiyorsuriyeafganl...</td>\n",
       "      <td>Positive</td>\n",
       "    </tr>\n",
       "    <tr>\n",
       "      <th>29944</th>\n",
       "      <td>29944</td>\n",
       "      <td>ekran kişi yarış soyad bakmak türk türki ırk g...</td>\n",
       "      <td>Positive</td>\n",
       "    </tr>\n",
       "    <tr>\n",
       "      <th>30119</th>\n",
       "      <td>30119</td>\n",
       "      <td>dost ülkü değil iyi parti şehit kurşun sıkan h...</td>\n",
       "      <td>Positive</td>\n",
       "    </tr>\n",
       "    <tr>\n",
       "      <th>30197</th>\n",
       "      <td>30197</td>\n",
       "      <td>afgan mülteci sorun siyasî bir hesap olmak öte...</td>\n",
       "      <td>Positive</td>\n",
       "    </tr>\n",
       "    <tr>\n",
       "      <th>30393</th>\n",
       "      <td>30393</td>\n",
       "      <td>as on tam türk değil çok afgan özyeğin zaman ı...</td>\n",
       "      <td>Positive</td>\n",
       "    </tr>\n",
       "  </tbody>\n",
       "</table>\n",
       "<p>345 rows × 3 columns</p>\n",
       "</div>"
      ],
      "text/plain": [
       "       Unnamed: 0                                              Tweet  \\\n",
       "327           327  kimse sormak soru cevap veremez sanmak vere va...   \n",
       "471           471  i̇lber ortay afgan ziraat sektör ihtiyaç var a...   \n",
       "562           562  bağım afganı̇stanafganistan demek beri i̇ngili...   \n",
       "581           581  afgan çalışkan demek utanmak türk tembel çalış...   \n",
       "679           679  konu ırk faşist kadar suriye afgan afro köken ...   \n",
       "...           ...                                                ...   \n",
       "29845       29845  fetö millî güvenlik tehdit etmiyorsuriyeafganl...   \n",
       "29944       29944  ekran kişi yarış soyad bakmak türk türki ırk g...   \n",
       "30119       30119  dost ülkü değil iyi parti şehit kurşun sıkan h...   \n",
       "30197       30197  afgan mülteci sorun siyasî bir hesap olmak öte...   \n",
       "30393       30393  as on tam türk değil çok afgan özyeğin zaman ı...   \n",
       "\n",
       "      PredictedSentiment  \n",
       "327             Positive  \n",
       "471             Positive  \n",
       "562             Positive  \n",
       "581             Positive  \n",
       "679             Positive  \n",
       "...                  ...  \n",
       "29845           Positive  \n",
       "29944           Positive  \n",
       "30119           Positive  \n",
       "30197           Positive  \n",
       "30393           Positive  \n",
       "\n",
       "[345 rows x 3 columns]"
      ]
     },
     "execution_count": 6,
     "metadata": {},
     "output_type": "execute_result"
    }
   ],
   "source": [
    "negative = df[df[\"PredictedSentiment\"] == \"Positive\"]\n",
    "negative"
   ]
  },
  {
   "cell_type": "code",
   "execution_count": 7,
   "id": "50b98d69",
   "metadata": {},
   "outputs": [],
   "source": [
    "def make_n_grams(texts):\n",
    "    bigram = gensim.models.Phrases(texts, min_count=5, threshold=100)  # higher threshold fewer phrases.\n",
    "    bigram_mod = gensim.models.phrases.Phraser(bigram)\n",
    "    trigram = gensim.models.Phrases(bigram[texts], threshold=100)\n",
    "    trigram_mod = gensim.models.phrases.Phraser(trigram)\n",
    "    bigrams_text = [bigram_mod[doc] for doc in texts]\n",
    "    trigrams_text =  [trigram_mod[bigram_mod[doc]] for doc in bigrams_text]\n",
    "    return trigrams_text"
   ]
  },
  {
   "cell_type": "code",
   "execution_count": 8,
   "id": "59aa5fcb",
   "metadata": {},
   "outputs": [
    {
     "name": "stderr",
     "output_type": "stream",
     "text": [
      "C:\\Users\\Alkan\\AppData\\Local\\Temp\\ipykernel_21032\\1752566637.py:1: SettingWithCopyWarning: \n",
      "A value is trying to be set on a copy of a slice from a DataFrame.\n",
      "Try using .loc[row_indexer,col_indexer] = value instead\n",
      "\n",
      "See the caveats in the documentation: https://pandas.pydata.org/pandas-docs/stable/user_guide/indexing.html#returning-a-view-versus-a-copy\n",
      "  negative['Tweet'] = negative.Tweet.values.tolist()\n"
     ]
    }
   ],
   "source": [
    "\n",
    "negative['Tweet'] = negative.Tweet.values.tolist()\n",
    "\n",
    "def sent_to_words(sentences):\n",
    "    for sentence in sentences:\n",
    "        yield(gensim.utils.simple_preprocess(str(sentence)))"
   ]
  },
  {
   "cell_type": "code",
   "execution_count": 9,
   "id": "556cf32e",
   "metadata": {},
   "outputs": [],
   "source": [
    "tokens_tweets = list(sent_to_words(negative['Tweet']))"
   ]
  },
  {
   "cell_type": "code",
   "execution_count": 10,
   "id": "1b7bc67e",
   "metadata": {},
   "outputs": [],
   "source": [
    "np.random.seed(0) #for reproducability"
   ]
  },
  {
   "cell_type": "code",
   "execution_count": 21,
   "id": "5c066314",
   "metadata": {},
   "outputs": [
    {
     "name": "stdout",
     "output_type": "stream",
     "text": [
      "In stage 0: transferred 263 clusters with 15 clusters populated\n",
      "In stage 1: transferred 97 clusters with 15 clusters populated\n",
      "In stage 2: transferred 64 clusters with 15 clusters populated\n",
      "In stage 3: transferred 38 clusters with 15 clusters populated\n",
      "In stage 4: transferred 24 clusters with 15 clusters populated\n",
      "In stage 5: transferred 31 clusters with 15 clusters populated\n",
      "In stage 6: transferred 26 clusters with 15 clusters populated\n",
      "In stage 7: transferred 27 clusters with 15 clusters populated\n",
      "In stage 8: transferred 18 clusters with 15 clusters populated\n",
      "In stage 9: transferred 14 clusters with 15 clusters populated\n",
      "In stage 10: transferred 16 clusters with 15 clusters populated\n",
      "In stage 11: transferred 11 clusters with 15 clusters populated\n",
      "In stage 12: transferred 10 clusters with 15 clusters populated\n",
      "In stage 13: transferred 13 clusters with 15 clusters populated\n",
      "In stage 14: transferred 7 clusters with 15 clusters populated\n",
      "In stage 15: transferred 12 clusters with 15 clusters populated\n",
      "In stage 16: transferred 15 clusters with 15 clusters populated\n",
      "In stage 17: transferred 14 clusters with 15 clusters populated\n",
      "In stage 18: transferred 16 clusters with 15 clusters populated\n",
      "In stage 19: transferred 11 clusters with 15 clusters populated\n",
      "In stage 20: transferred 13 clusters with 15 clusters populated\n",
      "In stage 21: transferred 11 clusters with 15 clusters populated\n",
      "In stage 22: transferred 14 clusters with 15 clusters populated\n",
      "In stage 23: transferred 9 clusters with 15 clusters populated\n",
      "In stage 24: transferred 12 clusters with 15 clusters populated\n",
      "In stage 25: transferred 8 clusters with 15 clusters populated\n",
      "In stage 26: transferred 6 clusters with 15 clusters populated\n",
      "In stage 27: transferred 9 clusters with 15 clusters populated\n",
      "In stage 28: transferred 8 clusters with 15 clusters populated\n",
      "In stage 29: transferred 13 clusters with 15 clusters populated\n"
     ]
    }
   ],
   "source": [
    "mgp = MovieGroupProcess(K=15, alpha=0.01, beta=0.01, n_iters=30) \n",
    "\n",
    "vocab = set(x for tweet in tokens_tweets for x in tweet)\n",
    "n_terms = len(vocab)\n",
    "model = mgp.fit(tokens_tweets, n_terms)"
   ]
  },
  {
   "cell_type": "code",
   "execution_count": 22,
   "id": "ff2bb9f8",
   "metadata": {},
   "outputs": [],
   "source": [
    "def top_words(cluster_word_distribution, top_cluster, values):\n",
    "    for cluster in top_cluster:\n",
    "        sort_dicts =sorted(mgp.cluster_word_distribution[cluster].items(), key=lambda k: k[1], reverse=True)[:values]\n",
    "        print(\"\\nCluster %s : %s\"%(cluster,sort_dicts))"
   ]
  },
  {
   "cell_type": "code",
   "execution_count": 23,
   "id": "d6c4f280",
   "metadata": {},
   "outputs": [
    {
     "name": "stdout",
     "output_type": "stream",
     "text": [
      "Number of documents per topic : [ 11  18  10   9  42  11  11   6  20  14 115   5  12  52   9]\n",
      "\n",
      "Most important clusters (by number of docs inside): [10 13  4  8  1  9 12  6  5  0  2 14  3  7 11]\n",
      "\n",
      "Cluster 10 : [('afgan', 139), ('bir', 108), ('türk', 93), ('değil', 53), ('olmak', 50), ('mülteci', 45), ('demek', 43), ('on', 37), ('ben', 35), ('yok', 34), ('suriye', 32), ('yıl', 26), ('önce', 26), ('desen', 25), ('bun', 25), ('iyi', 25), ('ülke', 24), ('türkiye', 21), ('millet', 21), ('sen', 21)]\n",
      "\n",
      "Cluster 13 : [('afgan', 64), ('türk', 50), ('bir', 37), ('demek', 27), ('değil', 23), ('on', 21), ('olmak', 21), ('türkiye', 19), ('suriye', 17), ('ırk', 17), ('ülke', 16), ('desen', 16), ('mülteci', 15), ('savaşmak', 14), ('var', 13), ('afganistan', 13), ('varmak', 12), ('bilmek', 12), ('dünya', 10), ('ben', 10)]\n",
      "\n",
      "Cluster 4 : [('afgan', 58), ('lber', 30), ('bir', 24), ('demek', 18), ('türkiye', 17), ('olmak', 17), ('ortay', 17), ('tar', 17), ('hoca', 14), ('türk', 13), ('yok', 13), ('değil', 12), ('konu', 11), ('suriye', 11), ('hayvan', 11), ('var', 11), ('mülteci', 10), ('ben', 10), ('iş', 10), ('çalışmak', 10)]\n",
      "\n",
      "Cluster 8 : [('afgan', 24), ('türk', 20), ('bir', 15), ('demek', 13), ('ben', 10), ('ırk', 10), ('değil', 9), ('mülteci', 8), ('bakmak', 8), ('kişi', 7), ('sen', 6), ('göz', 6), ('iyi', 6), ('etmek', 6), ('anlamak', 6), ('desen', 5), ('el', 5), ('türkiye', 5), ('görmek', 5), ('bun', 4)]\n",
      "\n",
      "Cluster 1 : [('afgan', 29), ('bir', 21), ('sen', 20), ('ben', 16), ('türk', 10), ('türkiye', 8), ('demek', 7), ('kadar', 7), ('şimdi', 6), ('çalışkan', 6), ('var', 6), ('çalışır', 6), ('mülteci', 5), ('olmak', 5), ('ortay', 5), ('gitmek', 5), ('görmek', 5), ('bun', 5), ('ekmek', 5), ('müslüman', 5)]\n",
      "\n",
      "Cluster 9 : [('bir', 24), ('afgan', 15), ('yıl', 14), ('on', 13), ('suriye', 10), ('iş', 10), ('desen', 8), ('ben', 8), ('olmak', 6), ('şimdi', 5), ('yapmak', 5), ('gelmek', 4), ('biz', 4), ('yok', 3), ('millet', 3), ('önce', 3), ('bakmak', 3), ('halk', 3), ('sen', 3), ('yolmak', 3)]\n",
      "\n",
      "Cluster 12 : [('bir', 16), ('afgan', 13), ('değil', 9), ('tehdit', 9), ('yok', 8), ('demek', 7), ('sen', 6), ('mülteci', 6), ('etmek', 6), ('ben', 5), ('on', 5), ('güvenlik', 5), ('desen', 4), ('konu', 4), ('sorun', 4), ('var', 4), ('türkiye', 4), ('duymak', 4), ('suriye', 3), ('ada', 3)]\n",
      "\n",
      "Cluster 6 : [('afgan', 10), ('ırk', 10), ('ben', 8), ('değil', 7), ('bun', 6), ('iyi', 6), ('parti', 6), ('bir', 5), ('yaşamak', 5), ('kürt', 5), ('demek', 4), ('şimdi', 4), ('mülteci', 4), ('desen', 3), ('kim', 3), ('başka', 3), ('nsa', 3), ('yorum', 3), ('gelmek', 3), ('olmak', 3)]\n",
      "\n",
      "Cluster 5 : [('bir', 18), ('afgan', 13), ('türk', 12), ('kardeş', 12), ('değil', 10), ('demek', 10), ('arkadaş', 6), ('kıyafet', 6), ('yok', 5), ('kadar', 5), ('takım', 4), ('yıl', 3), ('barışmak', 3), ('ben', 3), ('gelmek', 3), ('serdar', 3), ('ali', 3), ('kere', 3), ('öpüşmek', 3), ('olmaz', 3)]\n",
      "\n",
      "Cluster 0 : [('sonra', 22), ('ev', 20), ('var', 13), ('taliban', 12), ('demografik', 12), ('afgan', 11), ('gelir', 11), ('suriye', 11), ('gidermek', 11), ('önce', 11), ('aras', 11), ('dinî', 11), ('acı', 11), ('risk', 11), ('yaramak', 11), ('oturur', 11), ('kendi', 11), ('elalem', 11), ('ban', 10), ('göre', 10)]\n",
      "\n",
      "Cluster 2 : [('afgan', 10), ('genç', 8), ('bir', 8), ('demek', 7), ('sen', 6), ('ülke', 6), ('türk', 5), ('mülteci', 5), ('kavga', 4), ('grup', 4), ('terörist', 4), ('haber', 4), ('ırk', 4), ('etmek', 3), ('kendi', 3), ('konuşmak', 3), ('durum', 3), ('ön', 3), ('öpmek', 3), ('kal', 3)]\n",
      "\n",
      "Cluster 14 : [('bir', 11), ('afgan', 10), ('türk', 10), ('değil', 9), ('kadı', 7), ('dünya', 6), ('desen', 5), ('ırk', 4), ('sorun', 4), ('köken', 4), ('mülteci', 3), ('taliban', 3), ('erkek', 3), ('durum', 3), ('ölmek', 3), ('olmak', 3), ('fark', 3), ('kadın', 2), ('karşı', 2), ('göçmek', 2)]\n",
      "\n",
      "Cluster 3 : [('afgan', 13), ('bir', 9), ('türk', 9), ('mülteci', 6), ('on', 5), ('ülke', 5), ('olmak', 4), ('ben', 4), ('desen', 3), ('iş', 3), ('kadı', 3), ('ümit', 3), ('düşman', 3), ('pek', 3), ('vatandaş', 3), ('sonra', 3), ('getirmek', 3), ('özdağ', 3), ('genç', 2), ('istemek', 2)]\n",
      "\n",
      "Cluster 7 : [('tek', 13), ('yok', 11), ('bir', 8), ('afgan', 7), ('bun', 7), ('savaşmak', 7), ('suriye', 6), ('çare', 6), ('mülteci', 5), ('sonra', 4), ('türkiye', 4), ('millet', 4), ('dünya', 4), ('doğru', 4), ('iş', 4), ('çinli', 4), ('ukrayna', 4), ('nedeniyle', 4), ('gelecek', 4), ('dalga', 4)]\n",
      "\n",
      "Cluster 11 : [('afgan', 13), ('desen', 8), ('ge', 5), ('olmak', 5), ('kişi', 5), ('türkiye', 4), ('genç', 4), ('yok', 4), ('deva', 4), ('sağlık', 4), ('âdeta', 4), ('asker', 4), ('traş', 4), ('sel', 4), ('yangın', 4), ('çay', 4), ('iban', 4), ('konuşurken', 4), ('istilâ', 4), ('ediyor', 4)]\n"
     ]
    }
   ],
   "source": [
    "doc_count = np.array(mgp.cluster_doc_count)\n",
    "print('Number of documents per topic :', doc_count)\n",
    "\n",
    "# topics sorted by the number of document they are allocated to\n",
    "top_index = doc_count.argsort()[-15:][::-1]\n",
    "print('\\nMost important clusters (by number of docs inside):', top_index)\n",
    "# show the top 5 words in term frequency for each cluster \n",
    "top_words(mgp.cluster_word_distribution, top_index, 20)"
   ]
  },
  {
   "cell_type": "code",
   "execution_count": 100,
   "id": "0561b0d4",
   "metadata": {},
   "outputs": [
    {
     "ename": "SyntaxError",
     "evalue": "EOL while scanning string literal (624936307.py, line 1)",
     "output_type": "error",
     "traceback": [
      "\u001b[1;36m  Input \u001b[1;32mIn [100]\u001b[1;36m\u001b[0m\n\u001b[1;33m    gsdmm_clusters=[\"Cluster 11 : [('afgan', 3160), ('suriye', 2092), ('ülke', 1977), ('bir', 1581), ('olmak', 978), ('mülteci', 944), ('desen', 621), ('demek', 607), ('değil', 563), ('gelmek', 535), ('var', 523), ('türkiye', 491), ('bun', 474), ('türk', 425), ('mi', 417), ('biz', 416), ('on', 412), ('yok', 389), ('kendi', 332), ('kadar', 330)”],\u001b[0m\n\u001b[1;37m                                                                                                                                                                                                                                                                                                                                                            ^\u001b[0m\n\u001b[1;31mSyntaxError\u001b[0m\u001b[1;31m:\u001b[0m EOL while scanning string literal\n"
     ]
    }
   ],
   "source": [
    "gsdmm_clusters=[\"Cluster 11 : [('afgan', 3160), ('suriye', 2092), ('ülke', 1977), ('bir', 1581), ('olmak', 978), ('mülteci', 944), ('desen', 621), ('demek', 607), ('değil', 563), ('gelmek', 535), ('var', 523), ('türkiye', 491), ('bun', 474), ('türk', 425), ('mi', 417), ('biz', 416), ('on', 412), ('yok', 389), ('kendi', 332), ('kadar', 330)”],\n",
    "\n",
    "[\"Cluster 1 : [('afgan', 1903), ('ülke', 1242), ('suriye', 1005), ('bir', 778), ('mülteci', 537), ('olmak', 529), ('çocuk', 376), ('mi', 359), ('demek', 352), ('değil', 313), ('biz', 303), ('bun', 292), ('gelmek', 288), ('ben', 286), ('on', 282), ('desen', 277), ('kendi', 273), ('kız', 260), ('yok', 252), ('vatan', 240)”],\n",
    "\n",
    "[\"Cluster 13 : [('afgan', 200), ('suriye', 152), ('iş', 87), ('bir', 74), ('olmak', 72), ('ülke', 64), ('yok', 59), ('çalışmak', 41), ('desen', 37), ('ev', 37), ('biz', 36), ('var', 36), ('değil', 33), ('do', 31), ('on', 30), ('demek', 29), ('türk', 29), ('mülteci', 28), ('gelmek', 28), ('mi', 27)”],\n",
    "\n",
    "[\"Cluster 5 : [('türkiye', 212), ('bütün', 107), ('iade', 107), ('karışmak', 105), ('mülteci', 100), ('geri', 94), ('mahalle', 94), ('derhâl', 94), ('göçmen', 90), ('alınıp', 88), ('sığınmak', 79), ('kötü', 77), ('karışacak', 76), ('afgan', 73), ('hudutnamustur', 69), ('suriye', 67), ('arap', 66), ('afrikalı', 59), ('edilsinleryoksa', 58), ('ran', 47)”],\n",
    "\n",
    "[\"luster 3 : [('yıl', 185), ('geri', 161), ('çocuk', 129), ('afgan', 101), ('bizde', 99), ('suriye', 83), ('özcan', 79), ('bun', 73), ('tanju', 73), ('karı', 67), ('göz', 67), ('yaşın', 66), ('olabilecek', 66), ('sevmek', 65), ('yavru', 64), ('entegre', 60), ('biz', 56), ('top', 56), ('edeceksiniz', 50), ('bakıyorlar', 49)],\n",
    "\n",
    "[\"Cluster 14 : [('mülteci', 97), ('afgan', 92), ('ayşegül', 81), ('bir', 69), ('yaşın', 56), ('ülke', 40), ('tarafından', 40), ('çocuk', 37), ('tecavüz', 37), ('taş', 36), ('kız', 35), ('hayat', 33), ('aydın', 28), ('olmak', 27), ('uğrayan', 27), ('saldırı', 26), ('istemek', 25), ('baş', 25), ('suriye', 24), ('kafa', 22)”],\n",
    "\n",
    "[\"Cluster 2 : [('ülke', 88), ('afgan', 83), ('suriye', 58), ('mülteci', 52), ('sığınmak', 31), ('istemek', 27), ('irak', 25), ('vs', 23), ('göçmek', 22), ('türkiye', 21), ('kendi', 20), ('sınırdışı', 18), ('arap', 17), ('suri', 17), ('yok', 16), ('ler', 15), ('olmak', 14), ('türk', 14), ('bir', 13), ('vatandaş', 12)”],\n",
    "\n",
    "[\"Cluster 8 : [('afgan', 77), ('suriye', 76), ('sığınmak', 34), ('ülke', 34), ('iş', 30), ('ordu', 28), ('haç', 27), ('millet', 26), ('para', 26), ('el', 26), ('aşı', 26), ('alıyor', 26), ('ekmek', 26), ('proje', 21), ('gitmek', 19), ('istemek', 19), ('dönmek', 19), ('lar', 12), ('göz', 10), ('halk', 10)”],\n",
    "\n",
    "[\"Cluster 0 : [('afgan', 76), ('mülteci', 53), ('bir', 44), ('kız', 32), ('ayşegül', 29), ('olmak', 26), ('ülke', 23), ('tarafından', 22), ('baş', 21), ('desen', 19), ('genç', 19), ('taş', 19), ('suriye', 17), ('yaşın', 17), ('tecavüz', 15), ('iç', 13), ('hayat', 13), ('türkiye', 12), ('mi', 12), ('sınır', 11)”],\n",
    "\n",
    "[\"Cluster 12 : [('afgan', 74), ('türkiye', 44), ('olmak', 36), ('sağlık', 34), ('asker', 29), ('çocuk', 28), ('traş', 28), ('kadın', 28), ('suriye', 25), ('âdeta', 25), ('gelir', 22), ('ülke', 19), ('masal', 19), ('genç', 15), ('taliban', 14), ('mülteci', 14), ('avukat', 14), ('korkunç', 14), ('yaka', 13), ('desen', 12)”],\n",
    "\n",
    "[\"Cluster 10 : [('afgan', 69), ('türkiye', 63), ('olmak', 44), ('ülke', 42), ('sağlık', 39), ('âdeta', 39), ('asker', 39), ('traş', 39), ('afganistan', 35), ('çocuk', 34), ('kadın', 34), ('görünüm', 31), ('girmek', 30), ('sığınmak', 30), ('militan', 30), ('genç', 22), ('idare', 22), ('ediyörpütin', 22), ('hudutnamustur', 21), ('gelirtürkiyeyi', 17)”],\n",
    "\n",
    "[\"Cluster 6 : [('afgan', 50), ('ülke', 24), ('gi', 22), ('değil', 20), ('on', 17), ('emperyalizm', 14), ('ni', 14), ('mi', 12), ('millet', 12), ('bi', 12), ('bir', 11), ('mazlum', 11), ('ede', 11), ('li', 10), ('suri', 10), ('istemek', 10), ('yeli', 10), ('bun', 9), ('ler', 9), ('çocuk', 8)”],\n",
    "\n",
    "[\"Cluster 9 : [('afgan', 36), ('bilemek', 29), ('herkes', 28), ('olmak', 26), ('fakir', 21), ('suriye', 18), ('yine', 18), ('savaşmak', 18), ('mülteci', 14), ('türkiye', 14), ('asker', 14), ('genç', 13), ('bir', 10), ('kadın', 10), ('sağlık', 10), ('almak', 10), ('çocuk', 10), ('bitmek', 10), ('gem', 10), ('kaptan', 10)”],\n",
    "\n",
    "[\"Cluster 7 : [('bir', 42), ('afgan', 24), ('olmak', 17), ('suriye', 12), ('önlem', 12), ('ülke', 11), ('sonra', 10), ('yan', 10), ('biz', 9), ('yok', 9), ('mülteci', 9), ('milyon', 7), ('can', 7), ('türkiye', 6), ('yanmak', 6), ('ad', 6), ('bilemek', 6), ('aile', 6), ('patlamak', 6), ('demek', 5)”],\n",
    "\n",
    "[\"Cluster 4 : [('afgan', 17), ('suriye', 11), ('ülke', 9), ('bir', 9), ('mülteci', 8), ('türkiye', 7), ('pakistan', 7), ('olmak', 6), ('milyon', 6), ('fır', 6), ('işgal', 5), ('değil', 4), ('demek', 4), ('durum', 4), ('vatandaş', 4), ('kul', 4), ('uyuşturmak', 4), ('dava', 4), ('cevap', 4), ('türk', 3)\"]\n"
   ]
  },
  {
   "cell_type": "code",
   "execution_count": null,
   "id": "9791b1e9",
   "metadata": {},
   "outputs": [],
   "source": [
    "gsdmm_clusters = [[\"Cluster 2 : [('afganlar', 987), ('ve', 657), ('suriyeliler', 519), ('bu', 510), ('bir', 502), ('de', 311), ('mülteci', 289), ('da', 261), ('afgan', 259), ('suriyeli', 256), ('ne', 213), ('için', 198), ('var', 198), ('yok', 191), ('türkiye', 179), ('gibi', 160), ('çok', 154), ('değil', 146), ('daha', 134), ('ülke', 127)\"],\n",
    "\n",
    "[\"Cluster 10 : [('afganlar', 563), ('bir', 339), ('bu', 312), ('ve', 298), ('mülteci', 277), ('suriyeliler', 274), ('afgan', 255), ('suriyeli', 227), ('ne', 225), ('da', 162), ('de', 161), ('yok', 123), ('var', 103), ('değil', 101), ('daha', 100), ('gibi', 99), ('kadar', 96), ('için', 92), ('çok', 90), ('ama', 89)\"],\n",
    "\n",
    "[\"Cluster 8 : [('afganlar', 623), ('bu', 395), ('ve', 320), ('bir', 273), ('afgan', 239), ('mülteci', 211), ('suriyeliler', 200), ('ne', 181), ('da', 155), ('de', 153), ('için', 140), ('değil', 126), ('ama', 97), ('suriyeli', 96), ('yok', 93), ('var', 91), ('ya', 87), ('kadar', 85), ('kendi', 85), ('neden', 83)\"],\n",
    "\n",
    "[\"Cluster 14 : [('afganlar', 402), ('ve', 345), ('bu', 242), ('bir', 242), ('mülteci', 227), ('afgan', 216), ('suriyeli', 186), ('suriyeliler', 168), ('da', 130), ('de', 128), ('ne', 119), ('değil', 108), ('türkiye', 103), ('için', 97), ('gibi', 81), ('var', 79), ('kadar', 75), ('çok', 72), ('https', 60), ('co', 60)\"],\n",
    "\n",
    "[\"Cluster 0 : [('afganlar', 442), ('ve', 260), ('bir', 241), ('suriyeliler', 204), ('bu', 188), ('da', 143), ('de', 142), ('afgan', 121), ('ne', 116), ('için', 104), ('mülteci', 101), ('suriyeli', 98), ('türkiye', 90), ('ama', 84), ('değil', 73), ('var', 65), ('gibi', 62), ('yok', 62), ('daha', 61), ('çok', 57)\"],\n",
    "\n",
    "[\"Cluster 7 : [('afganlar', 375), ('bu', 184), ('suriyeliler', 172), ('bir', 151), ('ve', 150), ('ne', 104), ('de', 85), ('mülteci', 84), ('da', 82), ('afgan', 80), ('suriyeli', 80), ('var', 76), ('yok', 75), ('ülke', 67), ('kadar', 60), ('kendi', 59), ('daha', 58), ('ama', 57), ('sonra', 55), ('ya', 50)\"],\n",
    "\n",
    "[\"Cluster 6 : [('afganlar', 290), ('suriyeliler', 162), ('bu', 107), ('ve', 106), ('bir', 92), ('ne', 86), ('mülteci', 61), ('yok', 60), ('var', 57), ('suriyeli', 54), ('dolar', 54), ('afgan', 49), ('mi', 49), ('kendi', 45), ('de', 44), ('da', 44), ('çok', 37), ('biz', 37), ('bi', 36), ('daha', 32)\"],\n",
    "\n",
    "[\"Cluster 11 : [('afganlar', 227), ('bu', 107), ('ve', 94), ('suriyeliler', 80), ('bir', 60), ('mi', 55), ('bi', 52), ('ne', 48), ('de', 44), ('icin', 41), ('da', 40), ('herkes', 37), ('ler', 33), ('ama', 32), ('suri', 32), ('ye', 30), ('ki', 29), ('biliyor', 29), ('daha', 28), ('yeli', 28)\"],\n",
    "\n",
    "[\"Cluster 4 : [('afgan', 176), ('mülteci', 171), ('bir', 148), ('ayşegül', 116), ('afganlar', 74), ('bu', 68), ('tarafından', 64), ('ve', 63), ('https', 62), ('co', 62), ('taşla', 53), ('de', 50), ('yaşındaki', 50), ('tecavüz', 42), ('kız', 41), ('için', 37), ('da', 36), ('suriyeli', 33), ('istemiyorum', 33), ('türk', 32)\"],\n",
    "\n",
    "[\"Cluster 9 : [('afganlar', 150), ('ve', 99), ('suriyeliler', 66), ('bu', 63), ('bir', 62), ('de', 52), ('da', 37), ('suriyeli', 36), ('çok', 34), ('gibi', 32), ('ne', 32), ('afgan', 30), ('var', 29), ('ama', 27), ('türk', 27), ('mülteci', 25), ('daha', 24), ('suriye', 24), ('https', 23), ('co', 23)\"],\n",
    "\n",
    "[\"Cluster 13 : [('afganlar', 138), ('ve', 138), ('suriyeliler', 93), ('sığınmacılar', 38), ('bu', 37), ('mülteci', 30), ('afgan', 30), ('ülkesine', 30), ('milletin', 28), ('de', 28), ('bir', 27), ('ekmeğini', 27), ('haçlı', 27), ('ordusu', 27), ('da', 26), ('parasını', 26), ('aşını', 26), ('işini', 26), ('elinden', 26), ('alıyor', 26)\"],\n",
    "\n",
    "[\"Cluster 12 : [('yıl', 187), ('afganlar', 123), ('bizden', 99), ('suriyeliler', 94), ('geride', 93), ('özcan', 92), ('tanju', 79), ('gerideydi', 78), ('bizim', 69), ('diye', 68), ('sevdiğimiz', 66), ('karısı', 66), ('olabilecek', 66), ('yavrum', 65), ('çocuğum', 64), ('nasıl', 62), ('https', 62), ('co', 62), ('entegre', 61), ('edeceksiniz', 60)\"],\n",
    "\n",
    "[\"Cluster 3 : [('türkiye', 192), ('ve', 118), ('afganlar', 107), ('geri', 96), ('derhal', 96), ('suriyeliler', 94), ('bütün', 94), ('araplar', 94), ('alınıp', 94), ('iade', 94), ('yi', 93), ('karıştırmadan', 91), ('afrikalılar', 91), ('iranlılar', 91), ('mahallemizden', 91), ('edilsinler', 91), ('mülteciler', 80), ('göçmenler', 77), ('yoksa', 77), ('çok', 77)\"],\n",
    "\n",
    "[\"Cluster 1 : [('afganlar', 76), ('ve', 58), ('bir', 54), ('türkiye', 42), ('afgan', 41), ('mülteci', 34), ('ye', 31), ('bu', 22), ('genç', 21), ('https', 21), ('co', 21), ('de', 20), ('ne', 20), ('asker', 20), ('neden', 19), ('suriyeliler', 18), ('suriyeli', 18), ('kadınları', 18), ('olmayan', 18), ('ile', 17)\"],\n",
    "\n",
    "[\"Cluster 5 : [('türkiye', 84), ('afganlar', 77), ('ve', 61), ('ye', 61), ('putin', 44), ('neden', 43), ('adeta', 43), ('genç', 43), ('sağlıklı', 43), ('asker', 43), ('traşlı', 43), ('çocukları', 43), ('kadınları', 43), ('olmayan', 43), ('gelir', 40), ('sınırnamustur', 36), ('daki', 35), ('hudutnamustur', 34), ('ülkemize', 32), ('sığınmacı', 32)\"]]"
   ]
  },
  {
   "cell_type": "code",
   "execution_count": null,
   "id": "aad67171",
   "metadata": {},
   "outputs": [],
   "source": [
    "gsdmm_clusters = pd.DataFrame.from_dict(gsdmm_clusters)"
   ]
  },
  {
   "cell_type": "code",
   "execution_count": null,
   "id": "fe8fbddf",
   "metadata": {},
   "outputs": [],
   "source": [
    "gsdmm_clusters"
   ]
  },
  {
   "cell_type": "code",
   "execution_count": null,
   "id": "e43759a8",
   "metadata": {},
   "outputs": [],
   "source": [
    "gsdmm_clusters.rename(columns={0: \"Dominant Keywords for GSDMM Clusters\"}, inplace=True)"
   ]
  },
  {
   "cell_type": "code",
   "execution_count": null,
   "id": "cc723063",
   "metadata": {},
   "outputs": [],
   "source": [
    "gsdmm_clusters[['Cluster No.(Importance)','Dominant Keywords:GSDMM']] = gsdmm_clusters[\"Dominant Keywords for GSDMM Clusters\"].str.split(\":\",expand=True,)\n",
    "gsdmm_clusters"
   ]
  },
  {
   "cell_type": "code",
   "execution_count": null,
   "id": "cc4fc7ad",
   "metadata": {},
   "outputs": [],
   "source": [
    "# I didn`t rename the clusters\n",
    "\n",
    "topic_dict = {}\n",
    "topic_names = ['type 1',\n",
    "               'type 2',\n",
    "               'type 3',\n",
    "               'type 4',\n",
    "               'type 5',\n",
    "               'type 6',\n",
    "               'type 7',\n",
    "               'type 8',\n",
    "               'type 9',\n",
    "               'type 10',\n",
    "               'type 11',\n",
    "               'type 12',\n",
    "               'type 13',\n",
    "               'type 14',\n",
    "               'type 15'\n",
    "              ]\n",
    "for i, topic_num in enumerate(top_index):\n",
    "    topic_dict[topic_num]=topic_names[i] "
   ]
  },
  {
   "cell_type": "code",
   "execution_count": null,
   "id": "05c8edc1",
   "metadata": {},
   "outputs": [],
   "source": [
    "def create_topics_dataframe(negative_text=negative.Tweet,  mgp=mgp, threshold=0.3, topic_dict=topic_dict, lemma_text=tokens_tweets):\n",
    "    result = pd.DataFrame(columns=['Text', 'Topic', 'Rating', 'Lemma-text'])\n",
    "    for i, text in enumerate(negative_text):\n",
    "        result.at[i, 'Text'] = text\n",
    "        #result.at[i, 'Rating'] = data.Rating[i]\n",
    "        result.at[i, 'Lemma-text'] = lemma_text[i]\n",
    "        prob = mgp.choose_best_label(tokens_tweets[i])\n",
    "        if prob[1] >= threshold:\n",
    "            result.at[i, 'Topic'] = topic_dict[prob[0]]\n",
    "        else:\n",
    "            result.at[i, 'Topic'] = 'Other'\n",
    "    return result"
   ]
  },
  {
   "cell_type": "code",
   "execution_count": null,
   "id": "3c367933",
   "metadata": {},
   "outputs": [],
   "source": [
    "result = create_topics_dataframe(negative_text=negative.Tweet, mgp=mgp, threshold=0.3, topic_dict=topic_dict, lemma_text=tokens_tweets)\n",
    "result.head(16)"
   ]
  },
  {
   "cell_type": "code",
   "execution_count": null,
   "id": "9a9c4ea7",
   "metadata": {},
   "outputs": [],
   "source": [
    "#VISUALIZATION"
   ]
  },
  {
   "cell_type": "code",
   "execution_count": null,
   "id": "4af41a4b",
   "metadata": {},
   "outputs": [],
   "source": [
    "import plotly.express as px\n",
    "\n",
    "fig = px.pie(result, names='Topic',  title=\"Figure 4. GSDMM for Abortion Tweets with Negative Sentiment\", color_discrete_sequence=px.colors.sequential.Burg)\n",
    "fig.show()"
   ]
  },
  {
   "cell_type": "code",
   "execution_count": null,
   "id": "4ce702bb",
   "metadata": {},
   "outputs": [],
   "source": [
    "result['len'] = result.Text.apply(lambda row: len(row.split()))\n",
    "result.head()"
   ]
  },
  {
   "cell_type": "code",
   "execution_count": null,
   "id": "480b76a1",
   "metadata": {},
   "outputs": [],
   "source": [
    "result"
   ]
  },
  {
   "cell_type": "code",
   "execution_count": null,
   "id": "330123ef",
   "metadata": {},
   "outputs": [],
   "source": [
    "#WORDCLOUDS"
   ]
  },
  {
   "cell_type": "code",
   "execution_count": null,
   "id": "6a35b4e7",
   "metadata": {},
   "outputs": [],
   "source": [
    "result['Lemma_text'] = result['Lemma-text'].apply(lambda row: ' '.join(row))"
   ]
  },
  {
   "cell_type": "code",
   "execution_count": null,
   "id": "e69a51d4",
   "metadata": {},
   "outputs": [],
   "source": [
    "result = result.drop('Lemma-text', axis=1)"
   ]
  },
  {
   "cell_type": "code",
   "execution_count": null,
   "id": "c5ba3468",
   "metadata": {},
   "outputs": [],
   "source": [
    "!pip install wordcloud"
   ]
  },
  {
   "cell_type": "code",
   "execution_count": null,
   "id": "fc9f801c",
   "metadata": {},
   "outputs": [],
   "source": [
    "from wordcloud import WordCloud "
   ]
  },
  {
   "cell_type": "code",
   "execution_count": null,
   "id": "6de3252e",
   "metadata": {},
   "outputs": [],
   "source": [
    "my_stopwords = [\"afgan\", \"böyle\", \"bir\", \"bu\", \"şey\", \"mi\", \"mı\", \"var\", \"ki\", \"ama\", \"diye\", \"her\", \"tamam\",\"kadar\", \"işte\", \"çi\", \"çki\", \"bi\", \"rbia\", \"ne\", \"mıdır\", \"midir\", \"da\", \"le\", \"el\",\"için\", \"de\",\"belli\", \"ve\", \"değil\", \"gibi\", \"ile\"]"
   ]
  },
  {
   "cell_type": "code",
   "execution_count": null,
   "id": "2ba1d5e1",
   "metadata": {},
   "outputs": [],
   "source": [
    "import matplotlib.pyplot as plt"
   ]
  },
  {
   "cell_type": "code",
   "execution_count": null,
   "id": "27386c67",
   "metadata": {},
   "outputs": [],
   "source": [
    "def create_WordCloud(data, title=None):\n",
    "    wordcloud = WordCloud(width = 500, height = 500,\n",
    "                          background_color ='white',\n",
    "                          min_font_size = 15, stopwords = my_stopwords\n",
    "                         ).generate(\" \".join(data.values))\n",
    "                      \n",
    "    plt.figure(figsize = (5, 5), facecolor = None) \n",
    "    plt.imshow(wordcloud, interpolation='bilinear') \n",
    "    plt.axis(\"off\") \n",
    "    plt.tight_layout(pad = 0) \n",
    "    plt.title(title,fontsize=20)\n",
    "    plt.show() "
   ]
  },
  {
   "cell_type": "code",
   "execution_count": null,
   "id": "7a9fa581",
   "metadata": {},
   "outputs": [],
   "source": [
    "create_WordCloud(result['Lemma_text'].loc[result.Topic == 'type 1'], title=\"Most used words in negative sentiment tweets\")"
   ]
  },
  {
   "cell_type": "code",
   "execution_count": null,
   "id": "569303be",
   "metadata": {},
   "outputs": [],
   "source": [
    "create_WordCloud(result['Lemma_text'].loc[result.Topic == 'type 2'], title=\"Most used words in negative sentiment tweets\")"
   ]
  },
  {
   "cell_type": "code",
   "execution_count": null,
   "id": "90ed6fc2",
   "metadata": {},
   "outputs": [],
   "source": []
  }
 ],
 "metadata": {
  "kernelspec": {
   "display_name": "Python 3 (ipykernel)",
   "language": "python",
   "name": "python3"
  },
  "language_info": {
   "codemirror_mode": {
    "name": "ipython",
    "version": 3
   },
   "file_extension": ".py",
   "mimetype": "text/x-python",
   "name": "python",
   "nbconvert_exporter": "python",
   "pygments_lexer": "ipython3",
   "version": "3.9.12"
  }
 },
 "nbformat": 4,
 "nbformat_minor": 5
}
