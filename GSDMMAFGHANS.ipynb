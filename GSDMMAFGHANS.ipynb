{
 "cells": [
  {
   "cell_type": "code",
   "execution_count": 88,
   "id": "b16d1449",
   "metadata": {},
   "outputs": [],
   "source": [
    "import numpy as np \n",
    "import pandas as pd\n",
    "\n",
    "from gsdmm import MovieGroupProcess\n",
    "\n",
    "from gensim.models.coherencemodel import CoherenceModel\n",
    "from gensim import corpora, models\n",
    "from gensim.utils import simple_preprocess\n",
    "import gensim\n",
    "from gensim.models.ldamulticore import LdaMulticore\n",
    "import re\n",
    "import spacy\n",
    "\n",
    "from gensim.models import Phrases\n",
    "from gensim.models.phrases import Phraser"
   ]
  },
  {
   "cell_type": "code",
   "execution_count": 101,
   "id": "4e1770e4",
   "metadata": {},
   "outputs": [],
   "source": [
    "df=pd.read_csv(\"predictedsentiment_afghans_logistic.csv\")"
   ]
  },
  {
   "cell_type": "code",
   "execution_count": 102,
   "id": "66cf9c5e",
   "metadata": {},
   "outputs": [
    {
     "data": {
      "text/html": [
       "<div>\n",
       "<style scoped>\n",
       "    .dataframe tbody tr th:only-of-type {\n",
       "        vertical-align: middle;\n",
       "    }\n",
       "\n",
       "    .dataframe tbody tr th {\n",
       "        vertical-align: top;\n",
       "    }\n",
       "\n",
       "    .dataframe thead th {\n",
       "        text-align: right;\n",
       "    }\n",
       "</style>\n",
       "<table border=\"1\" class=\"dataframe\">\n",
       "  <thead>\n",
       "    <tr style=\"text-align: right;\">\n",
       "      <th></th>\n",
       "      <th>Unnamed: 0</th>\n",
       "      <th>Tweet</th>\n",
       "      <th>PredictedSentiment</th>\n",
       "    </tr>\n",
       "  </thead>\n",
       "  <tbody>\n",
       "    <tr>\n",
       "      <th>0</th>\n",
       "      <td>0</td>\n",
       "      <td>sn çelik birgün çıkmak kür emeklilikteyasatakı...</td>\n",
       "      <td>Negative</td>\n",
       "    </tr>\n",
       "    <tr>\n",
       "      <th>1</th>\n",
       "      <td>1</td>\n",
       "      <td>suriye esed gidermek suriye suriye gönderilirs...</td>\n",
       "      <td>Negative</td>\n",
       "    </tr>\n",
       "    <tr>\n",
       "      <th>2</th>\n",
       "      <td>2</td>\n",
       "      <td>suriye afgan zaman beri türkiye cumhuriyet vat...</td>\n",
       "      <td>Negative</td>\n",
       "    </tr>\n",
       "    <tr>\n",
       "      <th>3</th>\n",
       "      <td>3</td>\n",
       "      <td>afgan lunapark yakmışlaraqp li orman yakmak va...</td>\n",
       "      <td>Neutral</td>\n",
       "    </tr>\n",
       "    <tr>\n",
       "      <th>4</th>\n",
       "      <td>4</td>\n",
       "      <td>galatasaray türkiye derken doğru söylüyorlarmı...</td>\n",
       "      <td>Neutral</td>\n",
       "    </tr>\n",
       "    <tr>\n",
       "      <th>...</th>\n",
       "      <td>...</td>\n",
       "      <td>...</td>\n",
       "      <td>...</td>\n",
       "    </tr>\n",
       "    <tr>\n",
       "      <th>30547</th>\n",
       "      <td>30547</td>\n",
       "      <td>türkiye avrupa geçmek hayalî kuran milyonlarca...</td>\n",
       "      <td>Neutral</td>\n",
       "    </tr>\n",
       "    <tr>\n",
       "      <th>30548</th>\n",
       "      <td>30548</td>\n",
       "      <td>afgan giz çekip tıktoka at bir desen bir kepaz...</td>\n",
       "      <td>Neutral</td>\n",
       "    </tr>\n",
       "    <tr>\n",
       "      <th>30549</th>\n",
       "      <td>30549</td>\n",
       "      <td>avrupa halk huzur güvenlik baş sarmak suriye a...</td>\n",
       "      <td>Neutral</td>\n",
       "    </tr>\n",
       "    <tr>\n",
       "      <th>30550</th>\n",
       "      <td>30550</td>\n",
       "      <td>özür rağmen yalan kararlıları̇ngiliz basın yem...</td>\n",
       "      <td>Neutral</td>\n",
       "    </tr>\n",
       "    <tr>\n",
       "      <th>30551</th>\n",
       "      <td>30551</td>\n",
       "      <td>kaşımak bıkmak di mi bugün ağustos siz kuyruk ...</td>\n",
       "      <td>Neutral</td>\n",
       "    </tr>\n",
       "  </tbody>\n",
       "</table>\n",
       "<p>30552 rows × 3 columns</p>\n",
       "</div>"
      ],
      "text/plain": [
       "       Unnamed: 0                                              Tweet  \\\n",
       "0               0  sn çelik birgün çıkmak kür emeklilikteyasatakı...   \n",
       "1               1  suriye esed gidermek suriye suriye gönderilirs...   \n",
       "2               2  suriye afgan zaman beri türkiye cumhuriyet vat...   \n",
       "3               3  afgan lunapark yakmışlaraqp li orman yakmak va...   \n",
       "4               4  galatasaray türkiye derken doğru söylüyorlarmı...   \n",
       "...           ...                                                ...   \n",
       "30547       30547  türkiye avrupa geçmek hayalî kuran milyonlarca...   \n",
       "30548       30548  afgan giz çekip tıktoka at bir desen bir kepaz...   \n",
       "30549       30549  avrupa halk huzur güvenlik baş sarmak suriye a...   \n",
       "30550       30550  özür rağmen yalan kararlıları̇ngiliz basın yem...   \n",
       "30551       30551  kaşımak bıkmak di mi bugün ağustos siz kuyruk ...   \n",
       "\n",
       "      PredictedSentiment  \n",
       "0               Negative  \n",
       "1               Negative  \n",
       "2               Negative  \n",
       "3                Neutral  \n",
       "4                Neutral  \n",
       "...                  ...  \n",
       "30547            Neutral  \n",
       "30548            Neutral  \n",
       "30549            Neutral  \n",
       "30550            Neutral  \n",
       "30551            Neutral  \n",
       "\n",
       "[30552 rows x 3 columns]"
      ]
     },
     "execution_count": 102,
     "metadata": {},
     "output_type": "execute_result"
    }
   ],
   "source": [
    "df"
   ]
  },
  {
   "cell_type": "code",
   "execution_count": 103,
   "id": "fe3f031d",
   "metadata": {},
   "outputs": [
    {
     "data": {
      "text/html": [
       "<div>\n",
       "<style scoped>\n",
       "    .dataframe tbody tr th:only-of-type {\n",
       "        vertical-align: middle;\n",
       "    }\n",
       "\n",
       "    .dataframe tbody tr th {\n",
       "        vertical-align: top;\n",
       "    }\n",
       "\n",
       "    .dataframe thead th {\n",
       "        text-align: right;\n",
       "    }\n",
       "</style>\n",
       "<table border=\"1\" class=\"dataframe\">\n",
       "  <thead>\n",
       "    <tr style=\"text-align: right;\">\n",
       "      <th></th>\n",
       "      <th>Unnamed: 0</th>\n",
       "      <th>Tweet</th>\n",
       "      <th>PredictedSentiment</th>\n",
       "    </tr>\n",
       "  </thead>\n",
       "  <tbody>\n",
       "    <tr>\n",
       "      <th>0</th>\n",
       "      <td>0</td>\n",
       "      <td>sn çelik birgün çıkmak kür emeklilikteyasatakı...</td>\n",
       "      <td>Negative</td>\n",
       "    </tr>\n",
       "    <tr>\n",
       "      <th>1</th>\n",
       "      <td>1</td>\n",
       "      <td>suriye esed gidermek suriye suriye gönderilirs...</td>\n",
       "      <td>Negative</td>\n",
       "    </tr>\n",
       "    <tr>\n",
       "      <th>2</th>\n",
       "      <td>2</td>\n",
       "      <td>suriye afgan zaman beri türkiye cumhuriyet vat...</td>\n",
       "      <td>Negative</td>\n",
       "    </tr>\n",
       "    <tr>\n",
       "      <th>5</th>\n",
       "      <td>5</td>\n",
       "      <td>suriye afgan haç ordu proje</td>\n",
       "      <td>Negative</td>\n",
       "    </tr>\n",
       "    <tr>\n",
       "      <th>10</th>\n",
       "      <td>10</td>\n",
       "      <td>hop alsim alaka değil sen kopmak böyle baş nüf...</td>\n",
       "      <td>Negative</td>\n",
       "    </tr>\n",
       "    <tr>\n",
       "      <th>...</th>\n",
       "      <td>...</td>\n",
       "      <td>...</td>\n",
       "      <td>...</td>\n",
       "    </tr>\n",
       "    <tr>\n",
       "      <th>30511</th>\n",
       "      <td>30511</td>\n",
       "      <td>pcr aşı şart olmak afgan sınır giriyor turist ...</td>\n",
       "      <td>Negative</td>\n",
       "    </tr>\n",
       "    <tr>\n",
       "      <th>30514</th>\n",
       "      <td>30514</td>\n",
       "      <td>ara ülke giren sayı belirsiz afgan baş olmak ü...</td>\n",
       "      <td>Negative</td>\n",
       "    </tr>\n",
       "    <tr>\n",
       "      <th>30518</th>\n",
       "      <td>30518</td>\n",
       "      <td>hoca suriye afgan doğuştan seçilmek i̇nsa olma...</td>\n",
       "      <td>Negative</td>\n",
       "    </tr>\n",
       "    <tr>\n",
       "      <th>30524</th>\n",
       "      <td>30524</td>\n",
       "      <td>afgan şimdi hastalık getirecek ülke par yok on...</td>\n",
       "      <td>Negative</td>\n",
       "    </tr>\n",
       "    <tr>\n",
       "      <th>30534</th>\n",
       "      <td>30534</td>\n",
       "      <td>göçmek ede afgan aras çocuk kadı göremiyoruz t...</td>\n",
       "      <td>Negative</td>\n",
       "    </tr>\n",
       "  </tbody>\n",
       "</table>\n",
       "<p>9342 rows × 3 columns</p>\n",
       "</div>"
      ],
      "text/plain": [
       "       Unnamed: 0                                              Tweet  \\\n",
       "0               0  sn çelik birgün çıkmak kür emeklilikteyasatakı...   \n",
       "1               1  suriye esed gidermek suriye suriye gönderilirs...   \n",
       "2               2  suriye afgan zaman beri türkiye cumhuriyet vat...   \n",
       "5               5                        suriye afgan haç ordu proje   \n",
       "10             10  hop alsim alaka değil sen kopmak böyle baş nüf...   \n",
       "...           ...                                                ...   \n",
       "30511       30511  pcr aşı şart olmak afgan sınır giriyor turist ...   \n",
       "30514       30514  ara ülke giren sayı belirsiz afgan baş olmak ü...   \n",
       "30518       30518  hoca suriye afgan doğuştan seçilmek i̇nsa olma...   \n",
       "30524       30524  afgan şimdi hastalık getirecek ülke par yok on...   \n",
       "30534       30534  göçmek ede afgan aras çocuk kadı göremiyoruz t...   \n",
       "\n",
       "      PredictedSentiment  \n",
       "0               Negative  \n",
       "1               Negative  \n",
       "2               Negative  \n",
       "5               Negative  \n",
       "10              Negative  \n",
       "...                  ...  \n",
       "30511           Negative  \n",
       "30514           Negative  \n",
       "30518           Negative  \n",
       "30524           Negative  \n",
       "30534           Negative  \n",
       "\n",
       "[9342 rows x 3 columns]"
      ]
     },
     "execution_count": 103,
     "metadata": {},
     "output_type": "execute_result"
    }
   ],
   "source": [
    "negative = df[df[\"PredictedSentiment\"] == \"Negative\"]\n",
    "negative"
   ]
  },
  {
   "cell_type": "code",
   "execution_count": 104,
   "id": "1d58c70e",
   "metadata": {},
   "outputs": [],
   "source": [
    "def make_n_grams(texts):\n",
    "    bigram = gensim.models.Phrases(texts, min_count=5, threshold=100)  # higher threshold fewer phrases.\n",
    "    bigram_mod = gensim.models.phrases.Phraser(bigram)\n",
    "    trigram = gensim.models.Phrases(bigram[texts], threshold=100)\n",
    "    trigram_mod = gensim.models.phrases.Phraser(trigram)\n",
    "    bigrams_text = [bigram_mod[doc] for doc in texts]\n",
    "    trigrams_text =  [trigram_mod[bigram_mod[doc]] for doc in bigrams_text]\n",
    "    return trigrams_text"
   ]
  },
  {
   "cell_type": "code",
   "execution_count": 105,
   "id": "51a7cefd",
   "metadata": {},
   "outputs": [
    {
     "name": "stderr",
     "output_type": "stream",
     "text": [
      "C:\\Users\\Alkan\\AppData\\Local\\Temp\\ipykernel_8960\\1752566637.py:1: SettingWithCopyWarning:\n",
      "\n",
      "\n",
      "A value is trying to be set on a copy of a slice from a DataFrame.\n",
      "Try using .loc[row_indexer,col_indexer] = value instead\n",
      "\n",
      "See the caveats in the documentation: https://pandas.pydata.org/pandas-docs/stable/user_guide/indexing.html#returning-a-view-versus-a-copy\n",
      "\n"
     ]
    }
   ],
   "source": [
    "\n",
    "negative['Tweet'] = negative.Tweet.values.tolist()\n",
    "\n",
    "def sent_to_words(sentences):\n",
    "    for sentence in sentences:\n",
    "        yield(gensim.utils.simple_preprocess(str(sentence)))"
   ]
  },
  {
   "cell_type": "code",
   "execution_count": 106,
   "id": "bbff9e90",
   "metadata": {},
   "outputs": [],
   "source": [
    "tokens_tweets = list(sent_to_words(negative['Tweet']))"
   ]
  },
  {
   "cell_type": "code",
   "execution_count": 107,
   "id": "b621ea2e",
   "metadata": {},
   "outputs": [],
   "source": [
    "np.random.seed(0) #for reproducability"
   ]
  },
  {
   "cell_type": "code",
   "execution_count": 111,
   "id": "5878bfd0",
   "metadata": {},
   "outputs": [
    {
     "name": "stdout",
     "output_type": "stream",
     "text": [
      "In stage 0: transferred 7147 clusters with 10 clusters populated\n",
      "In stage 1: transferred 3737 clusters with 10 clusters populated\n",
      "In stage 2: transferred 2646 clusters with 10 clusters populated\n",
      "In stage 3: transferred 2183 clusters with 10 clusters populated\n",
      "In stage 4: transferred 1912 clusters with 10 clusters populated\n",
      "In stage 5: transferred 1705 clusters with 10 clusters populated\n",
      "In stage 6: transferred 1672 clusters with 10 clusters populated\n",
      "In stage 7: transferred 1630 clusters with 10 clusters populated\n",
      "In stage 8: transferred 1536 clusters with 10 clusters populated\n",
      "In stage 9: transferred 1549 clusters with 10 clusters populated\n",
      "In stage 10: transferred 1505 clusters with 10 clusters populated\n",
      "In stage 11: transferred 1439 clusters with 10 clusters populated\n",
      "In stage 12: transferred 1439 clusters with 10 clusters populated\n",
      "In stage 13: transferred 1499 clusters with 10 clusters populated\n",
      "In stage 14: transferred 1471 clusters with 10 clusters populated\n",
      "In stage 15: transferred 1424 clusters with 10 clusters populated\n",
      "In stage 16: transferred 1391 clusters with 10 clusters populated\n",
      "In stage 17: transferred 1393 clusters with 10 clusters populated\n",
      "In stage 18: transferred 1323 clusters with 10 clusters populated\n",
      "In stage 19: transferred 1290 clusters with 10 clusters populated\n",
      "In stage 20: transferred 1240 clusters with 10 clusters populated\n",
      "In stage 21: transferred 1235 clusters with 10 clusters populated\n",
      "In stage 22: transferred 1224 clusters with 10 clusters populated\n",
      "In stage 23: transferred 1187 clusters with 10 clusters populated\n",
      "In stage 24: transferred 1152 clusters with 10 clusters populated\n",
      "In stage 25: transferred 1163 clusters with 10 clusters populated\n",
      "In stage 26: transferred 1135 clusters with 10 clusters populated\n",
      "In stage 27: transferred 1092 clusters with 10 clusters populated\n",
      "In stage 28: transferred 1015 clusters with 10 clusters populated\n",
      "In stage 29: transferred 958 clusters with 10 clusters populated\n"
     ]
    }
   ],
   "source": [
    "mgp = MovieGroupProcess(K=10, alpha=0.01, beta=0.01, n_iters=30) \n",
    "\n",
    "vocab = set(x for tweet in tokens_tweets for x in tweet)\n",
    "n_terms = len(vocab)\n",
    "model = mgp.fit(tokens_tweets, n_terms)"
   ]
  },
  {
   "cell_type": "code",
   "execution_count": 109,
   "id": "62ee4cd6",
   "metadata": {},
   "outputs": [],
   "source": [
    "def top_words(cluster_word_distribution, top_cluster, values):\n",
    "    for cluster in top_cluster:\n",
    "        sort_dicts =sorted(mgp.cluster_word_distribution[cluster].items(), key=lambda k: k[1], reverse=True)[:values]\n",
    "        print(\"\\nCluster %s : %s\"%(cluster,sort_dicts))"
   ]
  },
  {
   "cell_type": "code",
   "execution_count": 110,
   "id": "a6503938",
   "metadata": {},
   "outputs": [
    {
     "name": "stdout",
     "output_type": "stream",
     "text": [
      "Number of documents per topic : [1444  105 1275   92  185 3935   49   57  181   59  132  197 1425  124\n",
      "   82]\n",
      "\n",
      "Most important clusters (by number of docs inside): [ 5  0 12  2 11  4  8 10 13  1  3 14  9  7  6]\n",
      "\n",
      "Cluster 5 : [('afgan', 4138), ('suriye', 2302), ('ülke', 2025), ('bir', 1783), ('olmak', 1188), ('mülteci', 1021), ('var', 696), ('desen', 674), ('değil', 652), ('gelmek', 647), ('türk', 585), ('on', 564), ('bun', 563), ('biz', 550), ('mi', 537), ('yok', 526), ('türkiye', 525), ('demek', 498), ('iş', 411), ('kendi', 402)]\n",
      "\n",
      "Cluster 0 : [('afgan', 1518), ('ülke', 802), ('suriye', 640), ('bir', 533), ('olmak', 377), ('değil', 335), ('kardeş', 322), ('mülteci', 262), ('gelmek', 256), ('biz', 245), ('türkiye', 245), ('desen', 243), ('türk', 226), ('on', 225), ('demek', 217), ('mi', 216), ('bun', 199), ('var', 185), ('yok', 182), ('arap', 177)]\n",
      "\n",
      "Cluster 12 : [('afgan', 1499), ('ülke', 890), ('suriye', 826), ('bir', 747), ('mülteci', 586), ('türkiye', 510), ('olmak', 372), ('değil', 309), ('desen', 278), ('var', 227), ('sorun', 212), ('gelmek', 207), ('türk', 204), ('iç', 198), ('bun', 180), ('demek', 168), ('biz', 159), ('istemek', 158), ('işgal', 156), ('yok', 136)]\n",
      "\n",
      "Cluster 2 : [('afgan', 1354), ('ülke', 840), ('suriye', 552), ('bir', 486), ('mülteci', 433), ('olmak', 284), ('çocuk', 258), ('kız', 221), ('mi', 220), ('değil', 216), ('biz', 207), ('desen', 202), ('gelmek', 178), ('tecavüz', 173), ('bun', 172), ('istemek', 152), ('kendi', 150), ('kardeş', 150), ('vatan', 149), ('demek', 149)]\n",
      "\n",
      "Cluster 11 : [('afgan', 220), ('suriye', 196), ('ülke', 113), ('mülteci', 77), ('sığınmak', 73), ('istemek', 65), ('millet', 40), ('irak', 38), ('iş', 34), ('göçmek', 32), ('gitmek', 30), ('vs', 29), ('aşı', 29), ('para', 27), ('dönmek', 27), ('haç', 27), ('ekmek', 26), ('el', 26), ('ordu', 26), ('alıyor', 26)]\n",
      "\n",
      "Cluster 4 : [('afgan', 174), ('suriye', 109), ('ülke', 59), ('olmak', 46), ('mülteci', 45), ('bir', 45), ('seçim', 42), ('sorun', 31), ('zam', 31), ('yok', 30), ('do', 30), ('desen', 27), ('iş', 23), ('stanbul', 23), ('bun', 22), ('demek', 22), ('mi', 22), ('gelmek', 21), ('yemek', 20), ('ay', 20)]\n",
      "\n",
      "Cluster 8 : [('afgan', 185), ('mülteci', 122), ('bir', 97), ('ülke', 89), ('ayşegül', 80), ('suriye', 52), ('hayat', 46), ('tarafından', 45), ('yaşın', 41), ('kız', 40), ('desen', 39), ('suri', 38), ('taş', 37), ('ler', 35), ('yeli', 34), ('istemek', 34), ('olmak', 31), ('çocuk', 29), ('mi', 27), ('baş', 27)]\n",
      "\n",
      "Cluster 10 : [('türkiye', 224), ('mülteci', 121), ('bütün', 107), ('iade', 107), ('karışmak', 105), ('mahalle', 94), ('derhâl', 94), ('geri', 94), ('göçmen', 90), ('afgan', 88), ('alınıp', 88), ('arap', 85), ('sığınmak', 79), ('suriye', 78), ('kötü', 77), ('karışacak', 76), ('hudutnamustur', 69), ('afrikalı', 59), ('edilsinleryoksa', 58), ('ran', 45)]\n",
      "\n",
      "Cluster 13 : [('yıl', 190), ('geri', 161), ('çocuk', 131), ('afgan', 118), ('bizde', 101), ('suriye', 91), ('bun', 83), ('yaşın', 73), ('özcan', 73), ('karı', 69), ('tanju', 68), ('göz', 67), ('sevmek', 66), ('olabilecek', 66), ('yavru', 64), ('entegre', 60), ('top', 56), ('biz', 56), ('edeceksiniz', 50), ('bakıyorlar', 49)]\n",
      "\n",
      "Cluster 1 : [('afgan', 100), ('suriye', 72), ('olmak', 28), ('ülke', 27), ('iş', 24), ('bir', 21), ('türk', 20), ('çalışmak', 20), ('yok', 18), ('vergi', 18), ('biz', 17), ('gelmek', 17), ('değil', 16), ('zam', 14), ('yemek', 14), ('emek', 14), ('mülteci', 13), ('artık', 13), ('ev', 12), ('tl', 12)]\n",
      "\n",
      "Cluster 3 : [('türkiye', 118), ('afgan', 109), ('sağlık', 89), ('olmak', 85), ('kadın', 79), ('asker', 78), ('traş', 78), ('çocuk', 78), ('âdeta', 75), ('ülke', 58), ('gelir', 47), ('genç', 43), ('afganistan', 39), ('sığınmak', 36), ('herkes', 36), ('görünüm', 32), ('militan', 30), ('girmek', 30), ('bilemek', 29), ('idare', 23)]\n",
      "\n",
      "Cluster 14 : [('afgan', 103), ('mülteci', 87), ('ülke', 55), ('başbakan', 51), ('almak', 44), ('olmak', 40), ('türkiye', 29), ('avusturya', 29), ('kurz', 25), ('bir', 22), ('ben', 22), ('süreç', 19), ('suriye', 18), ('var', 18), ('desen', 18), ('iç', 17), ('bölge', 17), ('kendi', 16), ('gelmek', 13), ('kalmak', 12)]\n",
      "\n",
      "Cluster 9 : [('afgan', 58), ('bir', 51), ('çocuk', 36), ('mülteci', 30), ('olmak', 25), ('ayak', 23), ('türkiye', 20), ('anne', 19), ('donarak', 18), ('kadı', 17), ('el', 15), ('göçmek', 14), ('suriye', 13), ('yan', 13), ('önlem', 13), ('yok', 12), ('mi', 12), ('ran', 12), ('ülke', 11), ('sınır', 11)]\n",
      "\n",
      "Cluster 7 : [('afgan', 61), ('mülteci', 22), ('ülke', 21), ('çocuk', 20), ('kadın', 16), ('suriye', 15), ('olmak', 15), ('türkiye', 13), ('girmek', 11), ('asılmak', 11), ('bir', 10), ('hak', 9), ('değil', 9), ('dolmak', 9), ('bilemek', 9), ('sahte', 9), ('kimlikle', 9), ('başlamak', 8), ('kadar', 8), ('baş', 8)]\n",
      "\n",
      "Cluster 6 : [('afgan', 47), ('büyük', 19), ('var', 15), ('bir', 14), ('suriye', 13), ('olmak', 13), ('stanbul', 13), ('gelmek', 12), ('olay', 12), ('tehlike', 11), ('yavaş', 11), ('van', 11), ('olacak', 10), ('mülteci', 10), ('namus', 10), ('türk', 9), ('lâzım', 9), ('son', 9), ('misafir', 9), ('sonra', 8)]\n"
     ]
    }
   ],
   "source": [
    "doc_count = np.array(mgp.cluster_doc_count)\n",
    "print('Number of documents per topic :', doc_count)\n",
    "\n",
    "# topics sorted by the number of document they are allocated to\n",
    "top_index = doc_count.argsort()[-15:][::-1]\n",
    "print('\\nMost important clusters (by number of docs inside):', top_index)\n",
    "# show the top 5 words in term frequency for each cluster \n",
    "top_words(mgp.cluster_word_distribution, top_index, 20)"
   ]
  },
  {
   "cell_type": "code",
   "execution_count": 100,
   "id": "6d548926",
   "metadata": {},
   "outputs": [
    {
     "ename": "SyntaxError",
     "evalue": "EOL while scanning string literal (624936307.py, line 1)",
     "output_type": "error",
     "traceback": [
      "\u001b[1;36m  Input \u001b[1;32mIn [100]\u001b[1;36m\u001b[0m\n\u001b[1;33m    gsdmm_clusters=[\"Cluster 11 : [('afgan', 3160), ('suriye', 2092), ('ülke', 1977), ('bir', 1581), ('olmak', 978), ('mülteci', 944), ('desen', 621), ('demek', 607), ('değil', 563), ('gelmek', 535), ('var', 523), ('türkiye', 491), ('bun', 474), ('türk', 425), ('mi', 417), ('biz', 416), ('on', 412), ('yok', 389), ('kendi', 332), ('kadar', 330)”],\u001b[0m\n\u001b[1;37m                                                                                                                                                                                                                                                                                                                                                            ^\u001b[0m\n\u001b[1;31mSyntaxError\u001b[0m\u001b[1;31m:\u001b[0m EOL while scanning string literal\n"
     ]
    }
   ],
   "source": [
    "gsdmm_clusters=[\"Cluster 11 : [('afgan', 3160), ('suriye', 2092), ('ülke', 1977), ('bir', 1581), ('olmak', 978), ('mülteci', 944), ('desen', 621), ('demek', 607), ('değil', 563), ('gelmek', 535), ('var', 523), ('türkiye', 491), ('bun', 474), ('türk', 425), ('mi', 417), ('biz', 416), ('on', 412), ('yok', 389), ('kendi', 332), ('kadar', 330)”],\n",
    "\n",
    "[\"Cluster 1 : [('afgan', 1903), ('ülke', 1242), ('suriye', 1005), ('bir', 778), ('mülteci', 537), ('olmak', 529), ('çocuk', 376), ('mi', 359), ('demek', 352), ('değil', 313), ('biz', 303), ('bun', 292), ('gelmek', 288), ('ben', 286), ('on', 282), ('desen', 277), ('kendi', 273), ('kız', 260), ('yok', 252), ('vatan', 240)”],\n",
    "\n",
    "[\"Cluster 13 : [('afgan', 200), ('suriye', 152), ('iş', 87), ('bir', 74), ('olmak', 72), ('ülke', 64), ('yok', 59), ('çalışmak', 41), ('desen', 37), ('ev', 37), ('biz', 36), ('var', 36), ('değil', 33), ('do', 31), ('on', 30), ('demek', 29), ('türk', 29), ('mülteci', 28), ('gelmek', 28), ('mi', 27)”],\n",
    "\n",
    "[\"Cluster 5 : [('türkiye', 212), ('bütün', 107), ('iade', 107), ('karışmak', 105), ('mülteci', 100), ('geri', 94), ('mahalle', 94), ('derhâl', 94), ('göçmen', 90), ('alınıp', 88), ('sığınmak', 79), ('kötü', 77), ('karışacak', 76), ('afgan', 73), ('hudutnamustur', 69), ('suriye', 67), ('arap', 66), ('afrikalı', 59), ('edilsinleryoksa', 58), ('ran', 47)”],\n",
    "\n",
    "[\"luster 3 : [('yıl', 185), ('geri', 161), ('çocuk', 129), ('afgan', 101), ('bizde', 99), ('suriye', 83), ('özcan', 79), ('bun', 73), ('tanju', 73), ('karı', 67), ('göz', 67), ('yaşın', 66), ('olabilecek', 66), ('sevmek', 65), ('yavru', 64), ('entegre', 60), ('biz', 56), ('top', 56), ('edeceksiniz', 50), ('bakıyorlar', 49)],\n",
    "\n",
    "[\"Cluster 14 : [('mülteci', 97), ('afgan', 92), ('ayşegül', 81), ('bir', 69), ('yaşın', 56), ('ülke', 40), ('tarafından', 40), ('çocuk', 37), ('tecavüz', 37), ('taş', 36), ('kız', 35), ('hayat', 33), ('aydın', 28), ('olmak', 27), ('uğrayan', 27), ('saldırı', 26), ('istemek', 25), ('baş', 25), ('suriye', 24), ('kafa', 22)”],\n",
    "\n",
    "[\"Cluster 2 : [('ülke', 88), ('afgan', 83), ('suriye', 58), ('mülteci', 52), ('sığınmak', 31), ('istemek', 27), ('irak', 25), ('vs', 23), ('göçmek', 22), ('türkiye', 21), ('kendi', 20), ('sınırdışı', 18), ('arap', 17), ('suri', 17), ('yok', 16), ('ler', 15), ('olmak', 14), ('türk', 14), ('bir', 13), ('vatandaş', 12)”],\n",
    "\n",
    "[\"Cluster 8 : [('afgan', 77), ('suriye', 76), ('sığınmak', 34), ('ülke', 34), ('iş', 30), ('ordu', 28), ('haç', 27), ('millet', 26), ('para', 26), ('el', 26), ('aşı', 26), ('alıyor', 26), ('ekmek', 26), ('proje', 21), ('gitmek', 19), ('istemek', 19), ('dönmek', 19), ('lar', 12), ('göz', 10), ('halk', 10)”],\n",
    "\n",
    "[\"Cluster 0 : [('afgan', 76), ('mülteci', 53), ('bir', 44), ('kız', 32), ('ayşegül', 29), ('olmak', 26), ('ülke', 23), ('tarafından', 22), ('baş', 21), ('desen', 19), ('genç', 19), ('taş', 19), ('suriye', 17), ('yaşın', 17), ('tecavüz', 15), ('iç', 13), ('hayat', 13), ('türkiye', 12), ('mi', 12), ('sınır', 11)”],\n",
    "\n",
    "[\"Cluster 12 : [('afgan', 74), ('türkiye', 44), ('olmak', 36), ('sağlık', 34), ('asker', 29), ('çocuk', 28), ('traş', 28), ('kadın', 28), ('suriye', 25), ('âdeta', 25), ('gelir', 22), ('ülke', 19), ('masal', 19), ('genç', 15), ('taliban', 14), ('mülteci', 14), ('avukat', 14), ('korkunç', 14), ('yaka', 13), ('desen', 12)”],\n",
    "\n",
    "[\"Cluster 10 : [('afgan', 69), ('türkiye', 63), ('olmak', 44), ('ülke', 42), ('sağlık', 39), ('âdeta', 39), ('asker', 39), ('traş', 39), ('afganistan', 35), ('çocuk', 34), ('kadın', 34), ('görünüm', 31), ('girmek', 30), ('sığınmak', 30), ('militan', 30), ('genç', 22), ('idare', 22), ('ediyörpütin', 22), ('hudutnamustur', 21), ('gelirtürkiyeyi', 17)”],\n",
    "\n",
    "[\"Cluster 6 : [('afgan', 50), ('ülke', 24), ('gi', 22), ('değil', 20), ('on', 17), ('emperyalizm', 14), ('ni', 14), ('mi', 12), ('millet', 12), ('bi', 12), ('bir', 11), ('mazlum', 11), ('ede', 11), ('li', 10), ('suri', 10), ('istemek', 10), ('yeli', 10), ('bun', 9), ('ler', 9), ('çocuk', 8)”],\n",
    "\n",
    "[\"Cluster 9 : [('afgan', 36), ('bilemek', 29), ('herkes', 28), ('olmak', 26), ('fakir', 21), ('suriye', 18), ('yine', 18), ('savaşmak', 18), ('mülteci', 14), ('türkiye', 14), ('asker', 14), ('genç', 13), ('bir', 10), ('kadın', 10), ('sağlık', 10), ('almak', 10), ('çocuk', 10), ('bitmek', 10), ('gem', 10), ('kaptan', 10)”],\n",
    "\n",
    "[\"Cluster 7 : [('bir', 42), ('afgan', 24), ('olmak', 17), ('suriye', 12), ('önlem', 12), ('ülke', 11), ('sonra', 10), ('yan', 10), ('biz', 9), ('yok', 9), ('mülteci', 9), ('milyon', 7), ('can', 7), ('türkiye', 6), ('yanmak', 6), ('ad', 6), ('bilemek', 6), ('aile', 6), ('patlamak', 6), ('demek', 5)”],\n",
    "\n",
    "[\"Cluster 4 : [('afgan', 17), ('suriye', 11), ('ülke', 9), ('bir', 9), ('mülteci', 8), ('türkiye', 7), ('pakistan', 7), ('olmak', 6), ('milyon', 6), ('fır', 6), ('işgal', 5), ('değil', 4), ('demek', 4), ('durum', 4), ('vatandaş', 4), ('kul', 4), ('uyuşturmak', 4), ('dava', 4), ('cevap', 4), ('türk', 3)\"]\n"
   ]
  },
  {
   "cell_type": "code",
   "execution_count": null,
   "id": "32e54388",
   "metadata": {},
   "outputs": [],
   "source": [
    "gsdmm_clusters = [[\"Cluster 2 : [('afganlar', 987), ('ve', 657), ('suriyeliler', 519), ('bu', 510), ('bir', 502), ('de', 311), ('mülteci', 289), ('da', 261), ('afgan', 259), ('suriyeli', 256), ('ne', 213), ('için', 198), ('var', 198), ('yok', 191), ('türkiye', 179), ('gibi', 160), ('çok', 154), ('değil', 146), ('daha', 134), ('ülke', 127)\"],\n",
    "\n",
    "[\"Cluster 10 : [('afganlar', 563), ('bir', 339), ('bu', 312), ('ve', 298), ('mülteci', 277), ('suriyeliler', 274), ('afgan', 255), ('suriyeli', 227), ('ne', 225), ('da', 162), ('de', 161), ('yok', 123), ('var', 103), ('değil', 101), ('daha', 100), ('gibi', 99), ('kadar', 96), ('için', 92), ('çok', 90), ('ama', 89)\"],\n",
    "\n",
    "[\"Cluster 8 : [('afganlar', 623), ('bu', 395), ('ve', 320), ('bir', 273), ('afgan', 239), ('mülteci', 211), ('suriyeliler', 200), ('ne', 181), ('da', 155), ('de', 153), ('için', 140), ('değil', 126), ('ama', 97), ('suriyeli', 96), ('yok', 93), ('var', 91), ('ya', 87), ('kadar', 85), ('kendi', 85), ('neden', 83)\"],\n",
    "\n",
    "[\"Cluster 14 : [('afganlar', 402), ('ve', 345), ('bu', 242), ('bir', 242), ('mülteci', 227), ('afgan', 216), ('suriyeli', 186), ('suriyeliler', 168), ('da', 130), ('de', 128), ('ne', 119), ('değil', 108), ('türkiye', 103), ('için', 97), ('gibi', 81), ('var', 79), ('kadar', 75), ('çok', 72), ('https', 60), ('co', 60)\"],\n",
    "\n",
    "[\"Cluster 0 : [('afganlar', 442), ('ve', 260), ('bir', 241), ('suriyeliler', 204), ('bu', 188), ('da', 143), ('de', 142), ('afgan', 121), ('ne', 116), ('için', 104), ('mülteci', 101), ('suriyeli', 98), ('türkiye', 90), ('ama', 84), ('değil', 73), ('var', 65), ('gibi', 62), ('yok', 62), ('daha', 61), ('çok', 57)\"],\n",
    "\n",
    "[\"Cluster 7 : [('afganlar', 375), ('bu', 184), ('suriyeliler', 172), ('bir', 151), ('ve', 150), ('ne', 104), ('de', 85), ('mülteci', 84), ('da', 82), ('afgan', 80), ('suriyeli', 80), ('var', 76), ('yok', 75), ('ülke', 67), ('kadar', 60), ('kendi', 59), ('daha', 58), ('ama', 57), ('sonra', 55), ('ya', 50)\"],\n",
    "\n",
    "[\"Cluster 6 : [('afganlar', 290), ('suriyeliler', 162), ('bu', 107), ('ve', 106), ('bir', 92), ('ne', 86), ('mülteci', 61), ('yok', 60), ('var', 57), ('suriyeli', 54), ('dolar', 54), ('afgan', 49), ('mi', 49), ('kendi', 45), ('de', 44), ('da', 44), ('çok', 37), ('biz', 37), ('bi', 36), ('daha', 32)\"],\n",
    "\n",
    "[\"Cluster 11 : [('afganlar', 227), ('bu', 107), ('ve', 94), ('suriyeliler', 80), ('bir', 60), ('mi', 55), ('bi', 52), ('ne', 48), ('de', 44), ('icin', 41), ('da', 40), ('herkes', 37), ('ler', 33), ('ama', 32), ('suri', 32), ('ye', 30), ('ki', 29), ('biliyor', 29), ('daha', 28), ('yeli', 28)\"],\n",
    "\n",
    "[\"Cluster 4 : [('afgan', 176), ('mülteci', 171), ('bir', 148), ('ayşegül', 116), ('afganlar', 74), ('bu', 68), ('tarafından', 64), ('ve', 63), ('https', 62), ('co', 62), ('taşla', 53), ('de', 50), ('yaşındaki', 50), ('tecavüz', 42), ('kız', 41), ('için', 37), ('da', 36), ('suriyeli', 33), ('istemiyorum', 33), ('türk', 32)\"],\n",
    "\n",
    "[\"Cluster 9 : [('afganlar', 150), ('ve', 99), ('suriyeliler', 66), ('bu', 63), ('bir', 62), ('de', 52), ('da', 37), ('suriyeli', 36), ('çok', 34), ('gibi', 32), ('ne', 32), ('afgan', 30), ('var', 29), ('ama', 27), ('türk', 27), ('mülteci', 25), ('daha', 24), ('suriye', 24), ('https', 23), ('co', 23)\"],\n",
    "\n",
    "[\"Cluster 13 : [('afganlar', 138), ('ve', 138), ('suriyeliler', 93), ('sığınmacılar', 38), ('bu', 37), ('mülteci', 30), ('afgan', 30), ('ülkesine', 30), ('milletin', 28), ('de', 28), ('bir', 27), ('ekmeğini', 27), ('haçlı', 27), ('ordusu', 27), ('da', 26), ('parasını', 26), ('aşını', 26), ('işini', 26), ('elinden', 26), ('alıyor', 26)\"],\n",
    "\n",
    "[\"Cluster 12 : [('yıl', 187), ('afganlar', 123), ('bizden', 99), ('suriyeliler', 94), ('geride', 93), ('özcan', 92), ('tanju', 79), ('gerideydi', 78), ('bizim', 69), ('diye', 68), ('sevdiğimiz', 66), ('karısı', 66), ('olabilecek', 66), ('yavrum', 65), ('çocuğum', 64), ('nasıl', 62), ('https', 62), ('co', 62), ('entegre', 61), ('edeceksiniz', 60)\"],\n",
    "\n",
    "[\"Cluster 3 : [('türkiye', 192), ('ve', 118), ('afganlar', 107), ('geri', 96), ('derhal', 96), ('suriyeliler', 94), ('bütün', 94), ('araplar', 94), ('alınıp', 94), ('iade', 94), ('yi', 93), ('karıştırmadan', 91), ('afrikalılar', 91), ('iranlılar', 91), ('mahallemizden', 91), ('edilsinler', 91), ('mülteciler', 80), ('göçmenler', 77), ('yoksa', 77), ('çok', 77)\"],\n",
    "\n",
    "[\"Cluster 1 : [('afganlar', 76), ('ve', 58), ('bir', 54), ('türkiye', 42), ('afgan', 41), ('mülteci', 34), ('ye', 31), ('bu', 22), ('genç', 21), ('https', 21), ('co', 21), ('de', 20), ('ne', 20), ('asker', 20), ('neden', 19), ('suriyeliler', 18), ('suriyeli', 18), ('kadınları', 18), ('olmayan', 18), ('ile', 17)\"],\n",
    "\n",
    "[\"Cluster 5 : [('türkiye', 84), ('afganlar', 77), ('ve', 61), ('ye', 61), ('putin', 44), ('neden', 43), ('adeta', 43), ('genç', 43), ('sağlıklı', 43), ('asker', 43), ('traşlı', 43), ('çocukları', 43), ('kadınları', 43), ('olmayan', 43), ('gelir', 40), ('sınırnamustur', 36), ('daki', 35), ('hudutnamustur', 34), ('ülkemize', 32), ('sığınmacı', 32)\"]]"
   ]
  },
  {
   "cell_type": "code",
   "execution_count": null,
   "id": "b744110e",
   "metadata": {},
   "outputs": [],
   "source": [
    "gsdmm_clusters = pd.DataFrame.from_dict(gsdmm_clusters)"
   ]
  },
  {
   "cell_type": "code",
   "execution_count": null,
   "id": "8646a4d7",
   "metadata": {},
   "outputs": [],
   "source": [
    "gsdmm_clusters"
   ]
  },
  {
   "cell_type": "code",
   "execution_count": null,
   "id": "12ae9ae7",
   "metadata": {},
   "outputs": [],
   "source": [
    "gsdmm_clusters.rename(columns={0: \"Dominant Keywords for GSDMM Clusters\"}, inplace=True)"
   ]
  },
  {
   "cell_type": "code",
   "execution_count": null,
   "id": "2c266955",
   "metadata": {},
   "outputs": [],
   "source": [
    "gsdmm_clusters[['Cluster No.(Importance)','Dominant Keywords:GSDMM']] = gsdmm_clusters[\"Dominant Keywords for GSDMM Clusters\"].str.split(\":\",expand=True,)\n",
    "gsdmm_clusters"
   ]
  },
  {
   "cell_type": "code",
   "execution_count": null,
   "id": "adac1db4",
   "metadata": {},
   "outputs": [],
   "source": [
    "# I didn`t rename the clusters\n",
    "\n",
    "topic_dict = {}\n",
    "topic_names = ['type 1',\n",
    "               'type 2',\n",
    "               'type 3',\n",
    "               'type 4',\n",
    "               'type 5',\n",
    "               'type 6',\n",
    "               'type 7',\n",
    "               'type 8',\n",
    "               'type 9',\n",
    "               'type 10',\n",
    "               'type 11',\n",
    "               'type 12',\n",
    "               'type 13',\n",
    "               'type 14',\n",
    "               'type 15'\n",
    "              ]\n",
    "for i, topic_num in enumerate(top_index):\n",
    "    topic_dict[topic_num]=topic_names[i] "
   ]
  },
  {
   "cell_type": "code",
   "execution_count": null,
   "id": "d3196768",
   "metadata": {},
   "outputs": [],
   "source": [
    "def create_topics_dataframe(negative_text=negative.Tweet,  mgp=mgp, threshold=0.3, topic_dict=topic_dict, lemma_text=tokens_tweets):\n",
    "    result = pd.DataFrame(columns=['Text', 'Topic', 'Rating', 'Lemma-text'])\n",
    "    for i, text in enumerate(negative_text):\n",
    "        result.at[i, 'Text'] = text\n",
    "        #result.at[i, 'Rating'] = data.Rating[i]\n",
    "        result.at[i, 'Lemma-text'] = lemma_text[i]\n",
    "        prob = mgp.choose_best_label(tokens_tweets[i])\n",
    "        if prob[1] >= threshold:\n",
    "            result.at[i, 'Topic'] = topic_dict[prob[0]]\n",
    "        else:\n",
    "            result.at[i, 'Topic'] = 'Other'\n",
    "    return result"
   ]
  },
  {
   "cell_type": "code",
   "execution_count": null,
   "id": "85f44cd0",
   "metadata": {},
   "outputs": [],
   "source": [
    "result = create_topics_dataframe(negative_text=negative.Tweet, mgp=mgp, threshold=0.3, topic_dict=topic_dict, lemma_text=tokens_tweets)\n",
    "result.head(16)"
   ]
  },
  {
   "cell_type": "code",
   "execution_count": null,
   "id": "210d5d56",
   "metadata": {},
   "outputs": [],
   "source": [
    "#VISUALIZATION"
   ]
  },
  {
   "cell_type": "code",
   "execution_count": null,
   "id": "df84dbd0",
   "metadata": {},
   "outputs": [],
   "source": [
    "import plotly.express as px\n",
    "\n",
    "fig = px.pie(result, names='Topic',  title=\"Figure 4. GSDMM for Abortion Tweets with Negative Sentiment\", color_discrete_sequence=px.colors.sequential.Burg)\n",
    "fig.show()"
   ]
  },
  {
   "cell_type": "code",
   "execution_count": null,
   "id": "03928fab",
   "metadata": {},
   "outputs": [],
   "source": [
    "result['len'] = result.Text.apply(lambda row: len(row.split()))\n",
    "result.head()"
   ]
  },
  {
   "cell_type": "code",
   "execution_count": null,
   "id": "3650e5fc",
   "metadata": {},
   "outputs": [],
   "source": [
    "result"
   ]
  },
  {
   "cell_type": "code",
   "execution_count": null,
   "id": "d0922e1e",
   "metadata": {},
   "outputs": [],
   "source": [
    "#WORDCLOUDS"
   ]
  },
  {
   "cell_type": "code",
   "execution_count": null,
   "id": "a78f09ed",
   "metadata": {},
   "outputs": [],
   "source": [
    "result['Lemma_text'] = result['Lemma-text'].apply(lambda row: ' '.join(row))"
   ]
  },
  {
   "cell_type": "code",
   "execution_count": null,
   "id": "baac1a32",
   "metadata": {},
   "outputs": [],
   "source": [
    "result = result.drop('Lemma-text', axis=1)"
   ]
  },
  {
   "cell_type": "code",
   "execution_count": null,
   "id": "afbd9b98",
   "metadata": {},
   "outputs": [],
   "source": [
    "!pip install wordcloud"
   ]
  },
  {
   "cell_type": "code",
   "execution_count": null,
   "id": "8b381d61",
   "metadata": {},
   "outputs": [],
   "source": [
    "from wordcloud import WordCloud "
   ]
  },
  {
   "cell_type": "code",
   "execution_count": null,
   "id": "0e2adf51",
   "metadata": {},
   "outputs": [],
   "source": [
    "my_stopwords = [\"afgan\", \"böyle\", \"bir\", \"bu\", \"şey\", \"mi\", \"mı\", \"var\", \"ki\", \"ama\", \"diye\", \"her\", \"tamam\",\"kadar\", \"işte\", \"çi\", \"çki\", \"bi\", \"rbia\", \"ne\", \"mıdır\", \"midir\", \"da\", \"le\", \"el\",\"için\", \"de\",\"belli\", \"ve\", \"değil\", \"gibi\", \"ile\"]"
   ]
  },
  {
   "cell_type": "code",
   "execution_count": null,
   "id": "2fb4a3eb",
   "metadata": {},
   "outputs": [],
   "source": [
    "import matplotlib.pyplot as plt"
   ]
  },
  {
   "cell_type": "code",
   "execution_count": null,
   "id": "fb525984",
   "metadata": {},
   "outputs": [],
   "source": [
    "def create_WordCloud(data, title=None):\n",
    "    wordcloud = WordCloud(width = 500, height = 500,\n",
    "                          background_color ='white',\n",
    "                          min_font_size = 15, stopwords = my_stopwords\n",
    "                         ).generate(\" \".join(data.values))\n",
    "                      \n",
    "    plt.figure(figsize = (5, 5), facecolor = None) \n",
    "    plt.imshow(wordcloud, interpolation='bilinear') \n",
    "    plt.axis(\"off\") \n",
    "    plt.tight_layout(pad = 0) \n",
    "    plt.title(title,fontsize=20)\n",
    "    plt.show() "
   ]
  },
  {
   "cell_type": "code",
   "execution_count": null,
   "id": "aa3d51a4",
   "metadata": {},
   "outputs": [],
   "source": [
    "create_WordCloud(result['Lemma_text'].loc[result.Topic == 'type 1'], title=\"Most used words in negative sentiment tweets\")"
   ]
  },
  {
   "cell_type": "code",
   "execution_count": null,
   "id": "49458e7a",
   "metadata": {},
   "outputs": [],
   "source": [
    "create_WordCloud(result['Lemma_text'].loc[result.Topic == 'type 2'], title=\"Most used words in negative sentiment tweets\")"
   ]
  },
  {
   "cell_type": "code",
   "execution_count": null,
   "id": "aff2e030",
   "metadata": {},
   "outputs": [],
   "source": []
  }
 ],
 "metadata": {
  "kernelspec": {
   "display_name": "Python 3 (ipykernel)",
   "language": "python",
   "name": "python3"
  },
  "language_info": {
   "codemirror_mode": {
    "name": "ipython",
    "version": 3
   },
   "file_extension": ".py",
   "mimetype": "text/x-python",
   "name": "python",
   "nbconvert_exporter": "python",
   "pygments_lexer": "ipython3",
   "version": "3.9.12"
  }
 },
 "nbformat": 4,
 "nbformat_minor": 5
}
