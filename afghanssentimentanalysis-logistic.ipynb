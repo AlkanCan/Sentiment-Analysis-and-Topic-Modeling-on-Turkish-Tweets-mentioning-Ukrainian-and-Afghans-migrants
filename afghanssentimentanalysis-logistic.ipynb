{
 "cells": [
  {
   "cell_type": "code",
   "execution_count": 1,
   "id": "5059f3b9",
   "metadata": {},
   "outputs": [],
   "source": [
    "\n",
    "from sklearn.feature_extraction.text import CountVectorizer\n",
    "import pandas as pd\n"
   ]
  },
  {
   "cell_type": "code",
   "execution_count": 2,
   "id": "c3c2dfd4",
   "metadata": {},
   "outputs": [],
   "source": [
    "df=pd.read_csv('afghansfinal_lemmatized.csv')"
   ]
  },
  {
   "cell_type": "code",
   "execution_count": 3,
   "id": "59a2711d",
   "metadata": {},
   "outputs": [],
   "source": [
    "df1=pd.read_csv('annotated_tweets_afghans_lemmatized.csv')"
   ]
  },
  {
   "cell_type": "code",
   "execution_count": 4,
   "id": "d2dfba3b",
   "metadata": {},
   "outputs": [
    {
     "data": {
      "text/html": [
       "<div>\n",
       "<style scoped>\n",
       "    .dataframe tbody tr th:only-of-type {\n",
       "        vertical-align: middle;\n",
       "    }\n",
       "\n",
       "    .dataframe tbody tr th {\n",
       "        vertical-align: top;\n",
       "    }\n",
       "\n",
       "    .dataframe thead th {\n",
       "        text-align: right;\n",
       "    }\n",
       "</style>\n",
       "<table border=\"1\" class=\"dataframe\">\n",
       "  <thead>\n",
       "    <tr style=\"text-align: right;\">\n",
       "      <th></th>\n",
       "      <th>Unnamed: 0</th>\n",
       "      <th>date</th>\n",
       "      <th>Tweet</th>\n",
       "      <th>id</th>\n",
       "    </tr>\n",
       "  </thead>\n",
       "  <tbody>\n",
       "    <tr>\n",
       "      <th>0</th>\n",
       "      <td>0</td>\n",
       "      <td>2021-08-23 14:37:01+00:00</td>\n",
       "      <td>sn çelik birgün çıkmak kür emeklilikteyasatakı...</td>\n",
       "      <td>1.429815e+18</td>\n",
       "    </tr>\n",
       "    <tr>\n",
       "      <th>1</th>\n",
       "      <td>1</td>\n",
       "      <td>2021-12-22 04:17:12+00:00</td>\n",
       "      <td>suriye esed gidermek suriye suriye gönderilirs...</td>\n",
       "      <td>1.473508e+18</td>\n",
       "    </tr>\n",
       "    <tr>\n",
       "      <th>2</th>\n",
       "      <td>2</td>\n",
       "      <td>2021-11-02 20:22:26+00:00</td>\n",
       "      <td>suriye afgan zaman beri türkiye cumhuriyet vat...</td>\n",
       "      <td>1.455631e+18</td>\n",
       "    </tr>\n",
       "    <tr>\n",
       "      <th>3</th>\n",
       "      <td>3</td>\n",
       "      <td>2021-08-20 18:51:22+00:00</td>\n",
       "      <td>afgan lunapark yakmışlaraqp li orman yakmak va...</td>\n",
       "      <td>1.428792e+18</td>\n",
       "    </tr>\n",
       "    <tr>\n",
       "      <th>4</th>\n",
       "      <td>4</td>\n",
       "      <td>2021-08-16 22:23:20+00:00</td>\n",
       "      <td>galatasaray türkiye derken doğru söylüyorlarmı...</td>\n",
       "      <td>1.427396e+18</td>\n",
       "    </tr>\n",
       "    <tr>\n",
       "      <th>...</th>\n",
       "      <td>...</td>\n",
       "      <td>...</td>\n",
       "      <td>...</td>\n",
       "      <td>...</td>\n",
       "    </tr>\n",
       "    <tr>\n",
       "      <th>30547</th>\n",
       "      <td>30547</td>\n",
       "      <td>2021-08-17 22:48:00+00:00</td>\n",
       "      <td>türkiye avrupa geçmek hayalî kuran milyonlarca...</td>\n",
       "      <td>1.427764e+18</td>\n",
       "    </tr>\n",
       "    <tr>\n",
       "      <th>30548</th>\n",
       "      <td>30548</td>\n",
       "      <td>2021-08-17 11:43:03+00:00</td>\n",
       "      <td>afgan giz çekip tıktoka at bir desen bir kepaz...</td>\n",
       "      <td>1.427597e+18</td>\n",
       "    </tr>\n",
       "    <tr>\n",
       "      <th>30549</th>\n",
       "      <td>30549</td>\n",
       "      <td>2022-01-10 07:18:40+00:00</td>\n",
       "      <td>avrupa halk huzur güvenlik baş sarmak suriye a...</td>\n",
       "      <td>1.480439e+18</td>\n",
       "    </tr>\n",
       "    <tr>\n",
       "      <th>30550</th>\n",
       "      <td>30550</td>\n",
       "      <td>2021-08-25 06:08:14+00:00</td>\n",
       "      <td>özür rağmen yalan kararlıları̇ngiliz basın yem...</td>\n",
       "      <td>1.430412e+18</td>\n",
       "    </tr>\n",
       "    <tr>\n",
       "      <th>30551</th>\n",
       "      <td>30551</td>\n",
       "      <td>2021-08-29 19:09:01+00:00</td>\n",
       "      <td>kaşımak bıkmak di mi bugün ağustos siz kuyruk ...</td>\n",
       "      <td>1.432058e+18</td>\n",
       "    </tr>\n",
       "  </tbody>\n",
       "</table>\n",
       "<p>30552 rows × 4 columns</p>\n",
       "</div>"
      ],
      "text/plain": [
       "       Unnamed: 0                       date  \\\n",
       "0               0  2021-08-23 14:37:01+00:00   \n",
       "1               1  2021-12-22 04:17:12+00:00   \n",
       "2               2  2021-11-02 20:22:26+00:00   \n",
       "3               3  2021-08-20 18:51:22+00:00   \n",
       "4               4  2021-08-16 22:23:20+00:00   \n",
       "...           ...                        ...   \n",
       "30547       30547  2021-08-17 22:48:00+00:00   \n",
       "30548       30548  2021-08-17 11:43:03+00:00   \n",
       "30549       30549  2022-01-10 07:18:40+00:00   \n",
       "30550       30550  2021-08-25 06:08:14+00:00   \n",
       "30551       30551  2021-08-29 19:09:01+00:00   \n",
       "\n",
       "                                                   Tweet            id  \n",
       "0      sn çelik birgün çıkmak kür emeklilikteyasatakı...  1.429815e+18  \n",
       "1      suriye esed gidermek suriye suriye gönderilirs...  1.473508e+18  \n",
       "2      suriye afgan zaman beri türkiye cumhuriyet vat...  1.455631e+18  \n",
       "3      afgan lunapark yakmışlaraqp li orman yakmak va...  1.428792e+18  \n",
       "4      galatasaray türkiye derken doğru söylüyorlarmı...  1.427396e+18  \n",
       "...                                                  ...           ...  \n",
       "30547  türkiye avrupa geçmek hayalî kuran milyonlarca...  1.427764e+18  \n",
       "30548  afgan giz çekip tıktoka at bir desen bir kepaz...  1.427597e+18  \n",
       "30549  avrupa halk huzur güvenlik baş sarmak suriye a...  1.480439e+18  \n",
       "30550  özür rağmen yalan kararlıları̇ngiliz basın yem...  1.430412e+18  \n",
       "30551  kaşımak bıkmak di mi bugün ağustos siz kuyruk ...  1.432058e+18  \n",
       "\n",
       "[30552 rows x 4 columns]"
      ]
     },
     "execution_count": 4,
     "metadata": {},
     "output_type": "execute_result"
    }
   ],
   "source": [
    "df"
   ]
  },
  {
   "cell_type": "code",
   "execution_count": 5,
   "id": "6ff4a252",
   "metadata": {},
   "outputs": [],
   "source": [
    "vector=CountVectorizer()"
   ]
  },
  {
   "cell_type": "code",
   "execution_count": 6,
   "id": "41681acc",
   "metadata": {},
   "outputs": [],
   "source": [
    "X=df['Tweet']"
   ]
  },
  {
   "cell_type": "code",
   "execution_count": 7,
   "id": "735eaa2b",
   "metadata": {},
   "outputs": [],
   "source": [
    "X_train=df1['Tweet']"
   ]
  },
  {
   "cell_type": "code",
   "execution_count": 8,
   "id": "ce91c807",
   "metadata": {},
   "outputs": [],
   "source": [
    "X_train=vector.fit_transform(X_train)"
   ]
  },
  {
   "cell_type": "code",
   "execution_count": null,
   "id": "403c5580",
   "metadata": {},
   "outputs": [],
   "source": []
  },
  {
   "cell_type": "code",
   "execution_count": 9,
   "id": "fd9ad668",
   "metadata": {},
   "outputs": [],
   "source": [
    "X_pred=df['Tweet']"
   ]
  },
  {
   "cell_type": "code",
   "execution_count": 10,
   "id": "af1e7783",
   "metadata": {},
   "outputs": [],
   "source": [
    "X_pred=vector.transform(X_pred)"
   ]
  },
  {
   "cell_type": "code",
   "execution_count": 11,
   "id": "94a3ebcd",
   "metadata": {},
   "outputs": [],
   "source": [
    "ytrain=df1['Sentiment']"
   ]
  },
  {
   "cell_type": "code",
   "execution_count": 12,
   "id": "7ff6b88d",
   "metadata": {},
   "outputs": [],
   "source": [
    "from sklearn.linear_model import LogisticRegression\n",
    "log_reg = LogisticRegression()\n",
    "\n",
    "log_reg.fit(X_train, ytrain)\n",
    "ypred=log_reg.predict(X_pred)\n"
   ]
  },
  {
   "cell_type": "code",
   "execution_count": 13,
   "id": "e4a5420b",
   "metadata": {},
   "outputs": [
    {
     "data": {
      "text/plain": [
       "array(['Negative', 'Negative', 'Negative', ..., 'Neutral', 'Neutral',\n",
       "       'Neutral'], dtype=object)"
      ]
     },
     "execution_count": 13,
     "metadata": {},
     "output_type": "execute_result"
    }
   ],
   "source": [
    "ypred"
   ]
  },
  {
   "cell_type": "code",
   "execution_count": 14,
   "id": "27d488ba",
   "metadata": {},
   "outputs": [],
   "source": [
    "df2 = pd.concat([X.reset_index(drop=True), pd.Series(ypred, name=\"PredictedSentiment\")], axis=1)"
   ]
  },
  {
   "cell_type": "code",
   "execution_count": 15,
   "id": "7bfa0fd9",
   "metadata": {},
   "outputs": [
    {
     "data": {
      "text/plain": [
       "Neutral     20865\n",
       "Negative     9342\n",
       "Positive      345\n",
       "Name: PredictedSentiment, dtype: int64"
      ]
     },
     "execution_count": 15,
     "metadata": {},
     "output_type": "execute_result"
    }
   ],
   "source": [
    "df2['PredictedSentiment'].value_counts()"
   ]
  },
  {
   "cell_type": "code",
   "execution_count": 54,
   "id": "322b2660",
   "metadata": {},
   "outputs": [
    {
     "data": {
      "text/html": [
       "<div>\n",
       "<style scoped>\n",
       "    .dataframe tbody tr th:only-of-type {\n",
       "        vertical-align: middle;\n",
       "    }\n",
       "\n",
       "    .dataframe tbody tr th {\n",
       "        vertical-align: top;\n",
       "    }\n",
       "\n",
       "    .dataframe thead th {\n",
       "        text-align: right;\n",
       "    }\n",
       "</style>\n",
       "<table border=\"1\" class=\"dataframe\">\n",
       "  <thead>\n",
       "    <tr style=\"text-align: right;\">\n",
       "      <th></th>\n",
       "      <th>Tweet</th>\n",
       "      <th>PredictedSentiment</th>\n",
       "    </tr>\n",
       "  </thead>\n",
       "  <tbody>\n",
       "    <tr>\n",
       "      <th>0</th>\n",
       "      <td>sn çelik birgün çıkmak kür emeklilikteyasatakı...</td>\n",
       "      <td>Neutral</td>\n",
       "    </tr>\n",
       "    <tr>\n",
       "      <th>1</th>\n",
       "      <td>suriye esed gidermek suriye suriye gönderilirs...</td>\n",
       "      <td>Neutral</td>\n",
       "    </tr>\n",
       "    <tr>\n",
       "      <th>2</th>\n",
       "      <td>suriye afgan zaman beri türkiye cumhuriyet vat...</td>\n",
       "      <td>Neutral</td>\n",
       "    </tr>\n",
       "    <tr>\n",
       "      <th>3</th>\n",
       "      <td>afgan lunapark yakmışlaraqp li orman yakmak va...</td>\n",
       "      <td>Neutral</td>\n",
       "    </tr>\n",
       "    <tr>\n",
       "      <th>4</th>\n",
       "      <td>galatasaray türkiye derken doğru söylüyorlarmı...</td>\n",
       "      <td>Neutral</td>\n",
       "    </tr>\n",
       "    <tr>\n",
       "      <th>...</th>\n",
       "      <td>...</td>\n",
       "      <td>...</td>\n",
       "    </tr>\n",
       "    <tr>\n",
       "      <th>30547</th>\n",
       "      <td>türkiye avrupa geçmek hayalî kuran milyonlarca...</td>\n",
       "      <td>Neutral</td>\n",
       "    </tr>\n",
       "    <tr>\n",
       "      <th>30548</th>\n",
       "      <td>afgan giz çekip tıktoka at bir desen bir kepaz...</td>\n",
       "      <td>Neutral</td>\n",
       "    </tr>\n",
       "    <tr>\n",
       "      <th>30549</th>\n",
       "      <td>avrupa halk huzur güvenlik baş sarmak suriye a...</td>\n",
       "      <td>Neutral</td>\n",
       "    </tr>\n",
       "    <tr>\n",
       "      <th>30550</th>\n",
       "      <td>özür rağmen yalan kararlıları̇ngiliz basın yem...</td>\n",
       "      <td>Neutral</td>\n",
       "    </tr>\n",
       "    <tr>\n",
       "      <th>30551</th>\n",
       "      <td>kaşımak bıkmak di mi bugün ağustos siz kuyruk ...</td>\n",
       "      <td>Neutral</td>\n",
       "    </tr>\n",
       "  </tbody>\n",
       "</table>\n",
       "<p>30552 rows × 2 columns</p>\n",
       "</div>"
      ],
      "text/plain": [
       "                                                   Tweet PredictedSentiment\n",
       "0      sn çelik birgün çıkmak kür emeklilikteyasatakı...            Neutral\n",
       "1      suriye esed gidermek suriye suriye gönderilirs...            Neutral\n",
       "2      suriye afgan zaman beri türkiye cumhuriyet vat...            Neutral\n",
       "3      afgan lunapark yakmışlaraqp li orman yakmak va...            Neutral\n",
       "4      galatasaray türkiye derken doğru söylüyorlarmı...            Neutral\n",
       "...                                                  ...                ...\n",
       "30547  türkiye avrupa geçmek hayalî kuran milyonlarca...            Neutral\n",
       "30548  afgan giz çekip tıktoka at bir desen bir kepaz...            Neutral\n",
       "30549  avrupa halk huzur güvenlik baş sarmak suriye a...            Neutral\n",
       "30550  özür rağmen yalan kararlıları̇ngiliz basın yem...            Neutral\n",
       "30551  kaşımak bıkmak di mi bugün ağustos siz kuyruk ...            Neutral\n",
       "\n",
       "[30552 rows x 2 columns]"
      ]
     },
     "execution_count": 54,
     "metadata": {},
     "output_type": "execute_result"
    }
   ],
   "source": [
    "df2"
   ]
  },
  {
   "cell_type": "code",
   "execution_count": 16,
   "id": "68ad445e",
   "metadata": {},
   "outputs": [],
   "source": [
    "df2.to_csv('predictedsentiment_afghans_logistic.csv')"
   ]
  },
  {
   "cell_type": "code",
   "execution_count": 17,
   "id": "1ba070e5",
   "metadata": {},
   "outputs": [],
   "source": [
    "all_tweets_afghans=pd.read_excel('afghansfinaldataset.xlsx')"
   ]
  },
  {
   "cell_type": "code",
   "execution_count": 18,
   "id": "3fed76b5",
   "metadata": {},
   "outputs": [
    {
     "data": {
      "text/html": [
       "<div>\n",
       "<style scoped>\n",
       "    .dataframe tbody tr th:only-of-type {\n",
       "        vertical-align: middle;\n",
       "    }\n",
       "\n",
       "    .dataframe tbody tr th {\n",
       "        vertical-align: top;\n",
       "    }\n",
       "\n",
       "    .dataframe thead th {\n",
       "        text-align: right;\n",
       "    }\n",
       "</style>\n",
       "<table border=\"1\" class=\"dataframe\">\n",
       "  <thead>\n",
       "    <tr style=\"text-align: right;\">\n",
       "      <th></th>\n",
       "      <th>date</th>\n",
       "      <th>Tweet</th>\n",
       "      <th>id</th>\n",
       "    </tr>\n",
       "  </thead>\n",
       "  <tbody>\n",
       "    <tr>\n",
       "      <th>0</th>\n",
       "      <td>2021-08-23 14:37:01+00:00</td>\n",
       "      <td>@Akparti @omerrcelik Sn celik birgun cik su ku...</td>\n",
       "      <td>1.429815e+18</td>\n",
       "    </tr>\n",
       "    <tr>\n",
       "      <th>1</th>\n",
       "      <td>2021-12-22 04:17:12+00:00</td>\n",
       "      <td>@siyamusta61SLx Suriyede esed giderse Suriyeli...</td>\n",
       "      <td>1.473508e+18</td>\n",
       "    </tr>\n",
       "    <tr>\n",
       "      <th>2</th>\n",
       "      <td>2021-11-02 20:22:26+00:00</td>\n",
       "      <td>@AjansMuhbir Suriyeli ve Afganlar ne zamandan ...</td>\n",
       "      <td>1.455631e+18</td>\n",
       "    </tr>\n",
       "    <tr>\n",
       "      <th>3</th>\n",
       "      <td>2021-08-20 18:51:22+00:00</td>\n",
       "      <td>Afganlar lunaparkı yakmışlar,aqp lilerde orman...</td>\n",
       "      <td>1.428792e+18</td>\n",
       "    </tr>\n",
       "    <tr>\n",
       "      <th>4</th>\n",
       "      <td>2021-08-16 22:23:20+00:00</td>\n",
       "      <td>\"Galatasaray Türkiye'dir\" derken doğru söylüyo...</td>\n",
       "      <td>1.427396e+18</td>\n",
       "    </tr>\n",
       "    <tr>\n",
       "      <th>...</th>\n",
       "      <td>...</td>\n",
       "      <td>...</td>\n",
       "      <td>...</td>\n",
       "    </tr>\n",
       "    <tr>\n",
       "      <th>30547</th>\n",
       "      <td>2021-08-17 22:48:00+00:00</td>\n",
       "      <td>@Emmoglu_35 Türkiyeden Avrupa'ya geçme hayali ...</td>\n",
       "      <td>1.427764e+18</td>\n",
       "    </tr>\n",
       "    <tr>\n",
       "      <th>30548</th>\n",
       "      <td>2021-08-17 11:43:03+00:00</td>\n",
       "      <td>@zeybikhere Afganlar gibi gizlice çekip tiktok...</td>\n",
       "      <td>1.427597e+18</td>\n",
       "    </tr>\n",
       "    <tr>\n",
       "      <th>30549</th>\n",
       "      <td>2022-01-10 07:18:40+00:00</td>\n",
       "      <td>Avrupa halklarının huzuru ve güvenliği için ba...</td>\n",
       "      <td>1.480439e+18</td>\n",
       "    </tr>\n",
       "    <tr>\n",
       "      <th>30550</th>\n",
       "      <td>2021-08-25 06:08:14+00:00</td>\n",
       "      <td>@herkesicinCHP ÖZÜRE RAĞMEN YALANDA 'KARAR'LIL...</td>\n",
       "      <td>1.430412e+18</td>\n",
       "    </tr>\n",
       "    <tr>\n",
       "      <th>30551</th>\n",
       "      <td>2021-08-29 19:09:01+00:00</td>\n",
       "      <td>@dw_turkce @CICOMOCANCA Kaşımaktan bıkmadımız ...</td>\n",
       "      <td>1.432058e+18</td>\n",
       "    </tr>\n",
       "  </tbody>\n",
       "</table>\n",
       "<p>30552 rows × 3 columns</p>\n",
       "</div>"
      ],
      "text/plain": [
       "                            date  \\\n",
       "0      2021-08-23 14:37:01+00:00   \n",
       "1      2021-12-22 04:17:12+00:00   \n",
       "2      2021-11-02 20:22:26+00:00   \n",
       "3      2021-08-20 18:51:22+00:00   \n",
       "4      2021-08-16 22:23:20+00:00   \n",
       "...                          ...   \n",
       "30547  2021-08-17 22:48:00+00:00   \n",
       "30548  2021-08-17 11:43:03+00:00   \n",
       "30549  2022-01-10 07:18:40+00:00   \n",
       "30550  2021-08-25 06:08:14+00:00   \n",
       "30551  2021-08-29 19:09:01+00:00   \n",
       "\n",
       "                                                   Tweet            id  \n",
       "0      @Akparti @omerrcelik Sn celik birgun cik su ku...  1.429815e+18  \n",
       "1      @siyamusta61SLx Suriyede esed giderse Suriyeli...  1.473508e+18  \n",
       "2      @AjansMuhbir Suriyeli ve Afganlar ne zamandan ...  1.455631e+18  \n",
       "3      Afganlar lunaparkı yakmışlar,aqp lilerde orman...  1.428792e+18  \n",
       "4      \"Galatasaray Türkiye'dir\" derken doğru söylüyo...  1.427396e+18  \n",
       "...                                                  ...           ...  \n",
       "30547  @Emmoglu_35 Türkiyeden Avrupa'ya geçme hayali ...  1.427764e+18  \n",
       "30548  @zeybikhere Afganlar gibi gizlice çekip tiktok...  1.427597e+18  \n",
       "30549  Avrupa halklarının huzuru ve güvenliği için ba...  1.480439e+18  \n",
       "30550  @herkesicinCHP ÖZÜRE RAĞMEN YALANDA 'KARAR'LIL...  1.430412e+18  \n",
       "30551  @dw_turkce @CICOMOCANCA Kaşımaktan bıkmadımız ...  1.432058e+18  \n",
       "\n",
       "[30552 rows x 3 columns]"
      ]
     },
     "execution_count": 18,
     "metadata": {},
     "output_type": "execute_result"
    }
   ],
   "source": [
    "all_tweets_afghans"
   ]
  },
  {
   "cell_type": "code",
   "execution_count": 19,
   "id": "36b0e249",
   "metadata": {},
   "outputs": [],
   "source": [
    "df5 = pd.concat([all_tweets_afghans.reset_index(drop=True), pd.Series(ypred, name=\"PredictedSentiment\")], axis=1)"
   ]
  },
  {
   "cell_type": "code",
   "execution_count": 26,
   "id": "09f2323b",
   "metadata": {},
   "outputs": [
    {
     "data": {
      "text/plain": [
       "Neutral     20865\n",
       "Negative     9342\n",
       "Positive      345\n",
       "Name: PredictedSentiment, dtype: int64"
      ]
     },
     "execution_count": 26,
     "metadata": {},
     "output_type": "execute_result"
    }
   ],
   "source": [
    "df5['PredictedSentiment'].value_counts()"
   ]
  },
  {
   "cell_type": "code",
   "execution_count": 21,
   "id": "01142a29",
   "metadata": {},
   "outputs": [],
   "source": [
    "df5.to_csv('afghanswithpredictedsentimentlogistic.csv')"
   ]
  },
  {
   "cell_type": "code",
   "execution_count": 22,
   "id": "da8484c2",
   "metadata": {},
   "outputs": [],
   "source": [
    "df5.to_excel('afghanswithpredictedsentimentlogistic.xlsx')"
   ]
  },
  {
   "cell_type": "code",
   "execution_count": 25,
   "id": "0035dd78",
   "metadata": {},
   "outputs": [
    {
     "data": {
      "image/png": "[encoded data removed]",
      "text/plain": [
       "<Figure size 432x288 with 1 Axes>"
      ]
     },
     "metadata": {},
     "output_type": "display_data"
    }
   ],
   "source": [
    "plt.pie(df5['PredictedSentiment'].value_counts(),labels=['Neutral','Negative','Positive'],autopct='%1.1f%%')\n",
    "plt.show()"
   ]
  },
  {
   "cell_type": "code",
   "execution_count": 24,
   "id": "182d0aad",
   "metadata": {},
   "outputs": [],
   "source": [
    "import pandas as pd\n",
    "import numpy as np\n",
    "import sys\n",
    "import matplotlib.pyplot as plt"
   ]
  },
  {
   "cell_type": "code",
   "execution_count": null,
   "id": "5c07c12d",
   "metadata": {},
   "outputs": [],
   "source": []
  }
 ],
 "metadata": {
  "kernelspec": {
   "display_name": "Python 3 (ipykernel)",
   "language": "python",
   "name": "python3"
  },
  "language_info": {
   "codemirror_mode": {
    "name": "ipython",
    "version": 3
   },
   "file_extension": ".py",
   "mimetype": "text/x-python",
   "name": "python",
   "nbconvert_exporter": "python",
   "pygments_lexer": "ipython3",
   "version": "3.9.12"
  }
 },
 "nbformat": 4,
 "nbformat_minor": 5
}
