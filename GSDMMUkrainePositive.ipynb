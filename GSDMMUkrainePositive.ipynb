{
 "cells": [
  {
   "cell_type": "code",
   "execution_count": 5,
   "id": "c1e3fb11",
   "metadata": {},
   "outputs": [],
   "source": [
    "import numpy as np \n",
    "import pandas as pd\n",
    "\n",
    "from gsdmm import MovieGroupProcess\n",
    "\n",
    "from gensim.models.coherencemodel import CoherenceModel\n",
    "from gensim import corpora, models\n",
    "from gensim.utils import simple_preprocess\n",
    "import gensim\n",
    "from gensim.models.ldamulticore import LdaMulticore\n",
    "import re\n",
    "import spacy\n",
    "\n",
    "from gensim.models import Phrases\n",
    "from gensim.models.phrases import Phraser"
   ]
  },
  {
   "cell_type": "code",
   "execution_count": 6,
   "id": "9f9693ca",
   "metadata": {},
   "outputs": [],
   "source": [
    "df=pd.read_csv(\"predictedsentiment_ukraine.csv\")"
   ]
  },
  {
   "cell_type": "code",
   "execution_count": 7,
   "id": "4315f4d7",
   "metadata": {},
   "outputs": [
    {
     "data": {
      "text/plain": [
       "Neutral     30701\n",
       "Positive     3042\n",
       "Negative     1329\n",
       "Name: PredictedSentiment, dtype: int64"
      ]
     },
     "execution_count": 7,
     "metadata": {},
     "output_type": "execute_result"
    }
   ],
   "source": [
    "df['PredictedSentiment'].value_counts()"
   ]
  },
  {
   "cell_type": "code",
   "execution_count": 8,
   "id": "cefba752",
   "metadata": {},
   "outputs": [
    {
     "data": {
      "text/html": [
       "<div>\n",
       "<style scoped>\n",
       "    .dataframe tbody tr th:only-of-type {\n",
       "        vertical-align: middle;\n",
       "    }\n",
       "\n",
       "    .dataframe tbody tr th {\n",
       "        vertical-align: top;\n",
       "    }\n",
       "\n",
       "    .dataframe thead th {\n",
       "        text-align: right;\n",
       "    }\n",
       "</style>\n",
       "<table border=\"1\" class=\"dataframe\">\n",
       "  <thead>\n",
       "    <tr style=\"text-align: right;\">\n",
       "      <th></th>\n",
       "      <th>Unnamed: 0</th>\n",
       "      <th>Tweet</th>\n",
       "      <th>PredictedSentiment</th>\n",
       "    </tr>\n",
       "  </thead>\n",
       "  <tbody>\n",
       "    <tr>\n",
       "      <th>43</th>\n",
       "      <td>43</td>\n",
       "      <td>zaten ukrayna diğer sovyet ayırmak ülke yeni y...</td>\n",
       "      <td>Positive</td>\n",
       "    </tr>\n",
       "    <tr>\n",
       "      <th>100</th>\n",
       "      <td>100</td>\n",
       "      <td>salak salak konuşmak artık yok ukrayna gelmek ...</td>\n",
       "      <td>Positive</td>\n",
       "    </tr>\n",
       "    <tr>\n",
       "      <th>103</th>\n",
       "      <td>103</td>\n",
       "      <td>günde suriye avrupa gitmek istemek açı sınır g...</td>\n",
       "      <td>Positive</td>\n",
       "    </tr>\n",
       "    <tr>\n",
       "      <th>139</th>\n",
       "      <td>139</td>\n",
       "      <td>sade cahil bir kıyaslamak rus ordu ukrayna ord...</td>\n",
       "      <td>Positive</td>\n",
       "    </tr>\n",
       "    <tr>\n",
       "      <th>145</th>\n",
       "      <td>145</td>\n",
       "      <td>ukrayna ukrayna kız ev son kadar açık suriye g...</td>\n",
       "      <td>Positive</td>\n",
       "    </tr>\n",
       "    <tr>\n",
       "      <th>...</th>\n",
       "      <td>...</td>\n",
       "      <td>...</td>\n",
       "      <td>...</td>\n",
       "    </tr>\n",
       "    <tr>\n",
       "      <th>34930</th>\n",
       "      <td>34930</td>\n",
       "      <td>yakışıklı genç sen ülke vatandaş olmak değmek ...</td>\n",
       "      <td>Positive</td>\n",
       "    </tr>\n",
       "    <tr>\n",
       "      <th>34969</th>\n",
       "      <td>34969</td>\n",
       "      <td>hiçbir ukrayna rahat değil tabiî ukrayna türki...</td>\n",
       "      <td>Positive</td>\n",
       "    </tr>\n",
       "    <tr>\n",
       "      <th>35003</th>\n",
       "      <td>35003</td>\n",
       "      <td>milyon 🇹🇷 baş çıkmak düşünüyorsunuz nükleer bo...</td>\n",
       "      <td>Positive</td>\n",
       "    </tr>\n",
       "    <tr>\n",
       "      <th>35042</th>\n",
       "      <td>35042</td>\n",
       "      <td>ukrayna i sanmak değmek ölüm haketmek demek bi...</td>\n",
       "      <td>Positive</td>\n",
       "    </tr>\n",
       "    <tr>\n",
       "      <th>35068</th>\n",
       "      <td>35068</td>\n",
       "      <td>te pavlov evin sovyet anavatan savunu toplantı...</td>\n",
       "      <td>Positive</td>\n",
       "    </tr>\n",
       "  </tbody>\n",
       "</table>\n",
       "<p>3042 rows × 3 columns</p>\n",
       "</div>"
      ],
      "text/plain": [
       "       Unnamed: 0                                              Tweet  \\\n",
       "43             43  zaten ukrayna diğer sovyet ayırmak ülke yeni y...   \n",
       "100           100  salak salak konuşmak artık yok ukrayna gelmek ...   \n",
       "103           103  günde suriye avrupa gitmek istemek açı sınır g...   \n",
       "139           139  sade cahil bir kıyaslamak rus ordu ukrayna ord...   \n",
       "145           145  ukrayna ukrayna kız ev son kadar açık suriye g...   \n",
       "...           ...                                                ...   \n",
       "34930       34930  yakışıklı genç sen ülke vatandaş olmak değmek ...   \n",
       "34969       34969  hiçbir ukrayna rahat değil tabiî ukrayna türki...   \n",
       "35003       35003  milyon 🇹🇷 baş çıkmak düşünüyorsunuz nükleer bo...   \n",
       "35042       35042  ukrayna i sanmak değmek ölüm haketmek demek bi...   \n",
       "35068       35068  te pavlov evin sovyet anavatan savunu toplantı...   \n",
       "\n",
       "      PredictedSentiment  \n",
       "43              Positive  \n",
       "100             Positive  \n",
       "103             Positive  \n",
       "139             Positive  \n",
       "145             Positive  \n",
       "...                  ...  \n",
       "34930           Positive  \n",
       "34969           Positive  \n",
       "35003           Positive  \n",
       "35042           Positive  \n",
       "35068           Positive  \n",
       "\n",
       "[3042 rows x 3 columns]"
      ]
     },
     "execution_count": 8,
     "metadata": {},
     "output_type": "execute_result"
    }
   ],
   "source": [
    "negative = df[df[\"PredictedSentiment\"] == \"Positive\"]\n",
    "negative"
   ]
  },
  {
   "cell_type": "code",
   "execution_count": 9,
   "id": "50b98d69",
   "metadata": {},
   "outputs": [],
   "source": [
    "def make_n_grams(texts):\n",
    "    bigram = gensim.models.Phrases(texts, min_count=5, threshold=100)  # higher threshold fewer phrases.\n",
    "    bigram_mod = gensim.models.phrases.Phraser(bigram)\n",
    "    trigram = gensim.models.Phrases(bigram[texts], threshold=100)\n",
    "    trigram_mod = gensim.models.phrases.Phraser(trigram)\n",
    "    bigrams_text = [bigram_mod[doc] for doc in texts]\n",
    "    trigrams_text =  [trigram_mod[bigram_mod[doc]] for doc in bigrams_text]\n",
    "    return trigrams_text"
   ]
  },
  {
   "cell_type": "code",
   "execution_count": 10,
   "id": "59aa5fcb",
   "metadata": {},
   "outputs": [
    {
     "name": "stderr",
     "output_type": "stream",
     "text": [
      "C:\\Users\\Alkan\\AppData\\Local\\Temp\\ipykernel_4360\\1752566637.py:1: SettingWithCopyWarning: \n",
      "A value is trying to be set on a copy of a slice from a DataFrame.\n",
      "Try using .loc[row_indexer,col_indexer] = value instead\n",
      "\n",
      "See the caveats in the documentation: https://pandas.pydata.org/pandas-docs/stable/user_guide/indexing.html#returning-a-view-versus-a-copy\n",
      "  negative['Tweet'] = negative.Tweet.values.tolist()\n"
     ]
    }
   ],
   "source": [
    "\n",
    "negative['Tweet'] = negative.Tweet.values.tolist()\n",
    "\n",
    "def sent_to_words(sentences):\n",
    "    for sentence in sentences:\n",
    "        yield(gensim.utils.simple_preprocess(str(sentence)))"
   ]
  },
  {
   "cell_type": "code",
   "execution_count": 11,
   "id": "556cf32e",
   "metadata": {},
   "outputs": [],
   "source": [
    "tokens_tweets = list(sent_to_words(negative['Tweet']))"
   ]
  },
  {
   "cell_type": "code",
   "execution_count": 12,
   "id": "1b7bc67e",
   "metadata": {},
   "outputs": [],
   "source": [
    "np.random.seed(0) #for reproducability"
   ]
  },
  {
   "cell_type": "code",
   "execution_count": 13,
   "id": "5c066314",
   "metadata": {},
   "outputs": [
    {
     "name": "stdout",
     "output_type": "stream",
     "text": [
      "In stage 0: transferred 2383 clusters with 15 clusters populated\n",
      "In stage 1: transferred 1161 clusters with 15 clusters populated\n",
      "In stage 2: transferred 800 clusters with 15 clusters populated\n",
      "In stage 3: transferred 615 clusters with 15 clusters populated\n",
      "In stage 4: transferred 569 clusters with 15 clusters populated\n",
      "In stage 5: transferred 545 clusters with 15 clusters populated\n",
      "In stage 6: transferred 509 clusters with 15 clusters populated\n",
      "In stage 7: transferred 507 clusters with 15 clusters populated\n",
      "In stage 8: transferred 458 clusters with 15 clusters populated\n",
      "In stage 9: transferred 389 clusters with 15 clusters populated\n",
      "In stage 10: transferred 357 clusters with 15 clusters populated\n",
      "In stage 11: transferred 348 clusters with 15 clusters populated\n",
      "In stage 12: transferred 313 clusters with 15 clusters populated\n",
      "In stage 13: transferred 282 clusters with 15 clusters populated\n",
      "In stage 14: transferred 258 clusters with 15 clusters populated\n",
      "In stage 15: transferred 265 clusters with 15 clusters populated\n",
      "In stage 16: transferred 296 clusters with 15 clusters populated\n",
      "In stage 17: transferred 276 clusters with 15 clusters populated\n",
      "In stage 18: transferred 246 clusters with 15 clusters populated\n",
      "In stage 19: transferred 242 clusters with 15 clusters populated\n",
      "In stage 20: transferred 258 clusters with 15 clusters populated\n",
      "In stage 21: transferred 228 clusters with 15 clusters populated\n",
      "In stage 22: transferred 207 clusters with 15 clusters populated\n",
      "In stage 23: transferred 199 clusters with 15 clusters populated\n",
      "In stage 24: transferred 201 clusters with 15 clusters populated\n",
      "In stage 25: transferred 190 clusters with 15 clusters populated\n",
      "In stage 26: transferred 168 clusters with 15 clusters populated\n",
      "In stage 27: transferred 167 clusters with 15 clusters populated\n",
      "In stage 28: transferred 179 clusters with 15 clusters populated\n",
      "In stage 29: transferred 171 clusters with 15 clusters populated\n"
     ]
    }
   ],
   "source": [
    "mgp = MovieGroupProcess(K=15, alpha=0.01, beta=0.01, n_iters=30) \n",
    "\n",
    "vocab = set(x for tweet in tokens_tweets for x in tweet)\n",
    "n_terms = len(vocab)\n",
    "model = mgp.fit(tokens_tweets, n_terms)"
   ]
  },
  {
   "cell_type": "code",
   "execution_count": 14,
   "id": "ff2bb9f8",
   "metadata": {},
   "outputs": [],
   "source": [
    "def top_words(cluster_word_distribution, top_cluster, values):\n",
    "    for cluster in top_cluster:\n",
    "        sort_dicts =sorted(mgp.cluster_word_distribution[cluster].items(), key=lambda k: k[1], reverse=True)[:values]\n",
    "        print(\"\\nCluster %s : %s\"%(cluster,sort_dicts))"
   ]
  },
  {
   "cell_type": "code",
   "execution_count": 15,
   "id": "d6c4f280",
   "metadata": {},
   "outputs": [
    {
     "name": "stdout",
     "output_type": "stream",
     "text": [
      "Number of documents per topic : [ 106   18  291   18   27 1986   30   56   60  231   21  136   30   13\n",
      "   19]\n",
      "\n",
      "Most important clusters (by number of docs inside): [ 5  2  9 11  0  8  7 12  6  4 10 14  3  1 13]\n",
      "\n",
      "Cluster 5 : [('ukrayna', 2322), ('bir', 1159), ('ülke', 1077), ('suriye', 1051), ('olmak', 666), ('savaşmak', 550), ('savaş', 503), ('desen', 453), ('gelmek', 444), ('vatan', 417), ('yok', 377), ('demek', 377), ('kadar', 352), ('kadın', 319), ('değmek', 314), ('çocuk', 302), ('kaçmak', 291), ('arap', 286), ('kendi', 282), ('varmak', 282)]\n",
      "\n",
      "Cluster 2 : [('ukrayna', 338), ('bir', 172), ('ülke', 160), ('suriye', 146), ('olmak', 106), ('gelmek', 95), ('arap', 66), ('afgan', 61), ('mülteci', 54), ('demek', 54), ('yok', 52), ('değmek', 52), ('çöp', 51), ('istemek', 50), ('nsa', 50), ('desen', 42), ('bura', 40), ('avrupa', 40), ('bu', 40), ('eğitim', 40)]\n",
      "\n",
      "Cluster 9 : [('ukrayna', 270), ('suriye', 117), ('ülke', 117), ('kadın', 88), ('erkek', 86), ('çocuk', 78), ('çöp', 77), ('bir', 74), ('savaş', 67), ('sahil', 65), ('kız', 56), ('gelmek', 56), ('taciz', 51), ('nargile', 49), ('mi', 47), ('savaşmak', 43), ('mülteci', 42), ('afgan', 41), ('arap', 39), ('türk', 37)]\n",
      "\n",
      "Cluster 11 : [('ukrayna', 144), ('suriye', 65), ('bir', 61), ('olmak', 55), ('ülke', 52), ('gelmek', 39), ('nsa', 35), ('desen', 32), ('medenî', 29), ('kadar', 27), ('kültür', 24), ('varmak', 24), ('yer', 20), ('medeniyet', 20), ('değmek', 19), ('avrupa', 19), ('istemek', 19), ('müslüman', 19), ('iş', 19), ('gitmek', 18)]\n",
      "\n",
      "Cluster 0 : [('ukrayna', 112), ('bir', 66), ('suriye', 50), ('arap', 37), ('gelmek', 35), ('olmak', 33), ('yok', 29), ('ülke', 29), ('desen', 28), ('nsa', 28), ('avrupa', 27), ('değmek', 23), ('demek', 22), ('medenî', 22), ('ben', 22), ('varmak', 19), ('rus', 18), ('bu', 18), ('kadar', 18), ('turist', 17)]\n",
      "\n",
      "Cluster 8 : [('ukrayna', 61), ('bir', 38), ('olmak', 26), ('suriye', 23), ('yok', 23), ('ülke', 22), ('arap', 20), ('yaban', 19), ('varmak', 18), ('gelmek', 17), ('desen', 16), ('rus', 16), ('çöp', 15), ('biz', 14), ('savaş', 12), ('gitmek', 11), ('bu', 10), ('sonra', 10), ('misafir', 10), ('bura', 9)]\n",
      "\n",
      "Cluster 7 : [('ukrayna', 61), ('ülke', 47), ('suriye', 38), ('savaşmak', 37), ('bir', 33), ('kendi', 20), ('vatan', 18), ('olmak', 16), ('desen', 13), ('demek', 11), ('kaçmak', 11), ('yer', 11), ('karşı', 10), ('onur', 10), ('bura', 10), ('başka', 10), ('savaş', 9), ('halk', 9), ('bu', 9), ('devlet', 9)]\n",
      "\n",
      "Cluster 12 : [('ukrayna', 30), ('savaşmak', 20), ('ülke', 15), ('olmak', 12), ('suriye', 10), ('karşı', 10), ('bir', 9), ('onur', 9), ('dünya', 8), ('avrupa', 7), ('şeref', 7), ('desen', 7), ('taraf', 7), ('helâl', 6), ('etmek', 6), ('vatan', 5), ('hak', 5), ('güç', 5), ('mücadele', 5), ('savunu', 5)]\n",
      "\n",
      "Cluster 6 : [('ukrayna', 31), ('bir', 23), ('vatan', 14), ('suriye', 11), ('yok', 9), ('olmak', 7), ('kadın', 7), ('desen', 7), ('ülke', 6), ('kaçmak', 6), ('top', 6), ('sade', 5), ('çıkmak', 5), ('savaşmak', 5), ('güven', 5), ('üst', 5), ('itiraz', 5), ('çocuk', 5), ('arap', 5), ('sormak', 5)]\n",
      "\n",
      "Cluster 4 : [('ukrayna', 34), ('ülke', 14), ('bir', 14), ('olmak', 11), ('insan', 11), ('yemek', 10), ('iyi', 9), ('sembol', 9), ('suriye', 8), ('kadar', 8), ('bura', 8), ('dünya', 7), ('desen', 7), ('anmak', 7), ('size', 6), ('ge', 5), ('etmek', 5), ('halk', 4), ('sığınmak', 4), ('çocuk', 4)]\n",
      "\n",
      "Cluster 10 : [('ukrayna', 23), ('demek', 14), ('bir', 13), ('olmak', 10), ('gelmek', 10), ('ülke', 9), ('olarak', 9), ('vatan', 8), ('mülteci', 8), ('bura', 7), ('ben', 7), ('yakı', 7), ('kaçmak', 6), ('gitmek', 6), ('vatandaş', 5), ('kadın', 5), ('görü', 5), ('kadar', 5), ('nargile', 4), ('savunmak', 4)]\n",
      "\n",
      "Cluster 14 : [('ukrayna', 26), ('olmak', 12), ('savaş', 10), ('suriye', 10), ('kadar', 9), ('ülke', 8), ('istemek', 7), ('hak', 6), ('mülteci', 6), ('var', 6), ('tabiî', 6), ('afganistan', 6), ('irak', 6), ('korkak', 6), ('ev', 6), ('pis', 6), ('yaşamak', 6), ('para', 6), ('hesap', 6), ('ek', 6)]\n",
      "\n",
      "Cluster 3 : [('ukrayna', 21), ('ülke', 17), ('olmak', 11), ('suriye', 9), ('bu', 9), ('bir', 8), ('şeref', 7), ('namus', 7), ('medeniyet', 7), ('deniz', 5), ('kaçmak', 5), ('do', 4), ('kâr', 4), ('kız', 4), ('nargile', 4), ('zaman', 4), ('etmek', 4), ('ortadoğu', 4), ('istemek', 4), ('katkı', 4)]\n",
      "\n",
      "Cluster 1 : [('ukrayna', 24), ('çocuk', 21), ('suriye', 20), ('bir', 15), ('kadar', 14), ('masum', 12), ('anne', 12), ('bize', 10), ('demek', 9), ('üzmek', 7), ('samimiyet', 7), ('istemek', 6), ('savaş', 6), ('ülke', 6), ('kaçıp', 6), ('olmak', 6), ('sığamak', 6), ('iş', 5), ('gün', 4), ('yıl', 4)]\n",
      "\n",
      "Cluster 13 : [('ukrayna', 14), ('ordu', 9), ('iş', 9), ('halk', 8), ('ülke', 8), ('savaşmak', 6), ('bir', 5), ('arkadaş', 5), ('şimdiden', 5), ('suriye', 4), ('demek', 4), ('suri', 4), ('milyon', 4), ('kaçtıukrayna', 4), ('korumak', 4), ('davranmak', 4), ('karışmak', 3), ('öldürüyorsapla', 3), ('saman', 3), ('dünya', 3)]\n"
     ]
    }
   ],
   "source": [
    "doc_count = np.array(mgp.cluster_doc_count)\n",
    "print('Number of documents per topic :', doc_count)\n",
    "\n",
    "# topics sorted by the number of document they are allocated to\n",
    "top_index = doc_count.argsort()[-15:][::-1]\n",
    "print('\\nMost important clusters (by number of docs inside):', top_index)\n",
    "# show the top 5 words in term frequency for each cluster \n",
    "top_words(mgp.cluster_word_distribution, top_index, 20)"
   ]
  },
  {
   "cell_type": "code",
   "execution_count": 100,
   "id": "0561b0d4",
   "metadata": {},
   "outputs": [
    {
     "ename": "SyntaxError",
     "evalue": "EOL while scanning string literal (624936307.py, line 1)",
     "output_type": "error",
     "traceback": [
      "\u001b[1;36m  Input \u001b[1;32mIn [100]\u001b[1;36m\u001b[0m\n\u001b[1;33m    gsdmm_clusters=[\"Cluster 11 : [('afgan', 3160), ('suriye', 2092), ('ülke', 1977), ('bir', 1581), ('olmak', 978), ('mülteci', 944), ('desen', 621), ('demek', 607), ('değil', 563), ('gelmek', 535), ('var', 523), ('türkiye', 491), ('bun', 474), ('türk', 425), ('mi', 417), ('biz', 416), ('on', 412), ('yok', 389), ('kendi', 332), ('kadar', 330)”],\u001b[0m\n\u001b[1;37m                                                                                                                                                                                                                                                                                                                                                            ^\u001b[0m\n\u001b[1;31mSyntaxError\u001b[0m\u001b[1;31m:\u001b[0m EOL while scanning string literal\n"
     ]
    }
   ],
   "source": [
    "gsdmm_clusters=[\"Cluster 11 : [('afgan', 3160), ('suriye', 2092), ('ülke', 1977), ('bir', 1581), ('olmak', 978), ('mülteci', 944), ('desen', 621), ('demek', 607), ('değil', 563), ('gelmek', 535), ('var', 523), ('türkiye', 491), ('bun', 474), ('türk', 425), ('mi', 417), ('biz', 416), ('on', 412), ('yok', 389), ('kendi', 332), ('kadar', 330)”],\n",
    "\n",
    "[\"Cluster 1 : [('afgan', 1903), ('ülke', 1242), ('suriye', 1005), ('bir', 778), ('mülteci', 537), ('olmak', 529), ('çocuk', 376), ('mi', 359), ('demek', 352), ('değil', 313), ('biz', 303), ('bun', 292), ('gelmek', 288), ('ben', 286), ('on', 282), ('desen', 277), ('kendi', 273), ('kız', 260), ('yok', 252), ('vatan', 240)”],\n",
    "\n",
    "[\"Cluster 13 : [('afgan', 200), ('suriye', 152), ('iş', 87), ('bir', 74), ('olmak', 72), ('ülke', 64), ('yok', 59), ('çalışmak', 41), ('desen', 37), ('ev', 37), ('biz', 36), ('var', 36), ('değil', 33), ('do', 31), ('on', 30), ('demek', 29), ('türk', 29), ('mülteci', 28), ('gelmek', 28), ('mi', 27)”],\n",
    "\n",
    "[\"Cluster 5 : [('türkiye', 212), ('bütün', 107), ('iade', 107), ('karışmak', 105), ('mülteci', 100), ('geri', 94), ('mahalle', 94), ('derhâl', 94), ('göçmen', 90), ('alınıp', 88), ('sığınmak', 79), ('kötü', 77), ('karışacak', 76), ('afgan', 73), ('hudutnamustur', 69), ('suriye', 67), ('arap', 66), ('afrikalı', 59), ('edilsinleryoksa', 58), ('ran', 47)”],\n",
    "\n",
    "[\"luster 3 : [('yıl', 185), ('geri', 161), ('çocuk', 129), ('afgan', 101), ('bizde', 99), ('suriye', 83), ('özcan', 79), ('bun', 73), ('tanju', 73), ('karı', 67), ('göz', 67), ('yaşın', 66), ('olabilecek', 66), ('sevmek', 65), ('yavru', 64), ('entegre', 60), ('biz', 56), ('top', 56), ('edeceksiniz', 50), ('bakıyorlar', 49)],\n",
    "\n",
    "[\"Cluster 14 : [('mülteci', 97), ('afgan', 92), ('ayşegül', 81), ('bir', 69), ('yaşın', 56), ('ülke', 40), ('tarafından', 40), ('çocuk', 37), ('tecavüz', 37), ('taş', 36), ('kız', 35), ('hayat', 33), ('aydın', 28), ('olmak', 27), ('uğrayan', 27), ('saldırı', 26), ('istemek', 25), ('baş', 25), ('suriye', 24), ('kafa', 22)”],\n",
    "\n",
    "[\"Cluster 2 : [('ülke', 88), ('afgan', 83), ('suriye', 58), ('mülteci', 52), ('sığınmak', 31), ('istemek', 27), ('irak', 25), ('vs', 23), ('göçmek', 22), ('türkiye', 21), ('kendi', 20), ('sınırdışı', 18), ('arap', 17), ('suri', 17), ('yok', 16), ('ler', 15), ('olmak', 14), ('türk', 14), ('bir', 13), ('vatandaş', 12)”],\n",
    "\n",
    "[\"Cluster 8 : [('afgan', 77), ('suriye', 76), ('sığınmak', 34), ('ülke', 34), ('iş', 30), ('ordu', 28), ('haç', 27), ('millet', 26), ('para', 26), ('el', 26), ('aşı', 26), ('alıyor', 26), ('ekmek', 26), ('proje', 21), ('gitmek', 19), ('istemek', 19), ('dönmek', 19), ('lar', 12), ('göz', 10), ('halk', 10)”],\n",
    "\n",
    "[\"Cluster 0 : [('afgan', 76), ('mülteci', 53), ('bir', 44), ('kız', 32), ('ayşegül', 29), ('olmak', 26), ('ülke', 23), ('tarafından', 22), ('baş', 21), ('desen', 19), ('genç', 19), ('taş', 19), ('suriye', 17), ('yaşın', 17), ('tecavüz', 15), ('iç', 13), ('hayat', 13), ('türkiye', 12), ('mi', 12), ('sınır', 11)”],\n",
    "\n",
    "[\"Cluster 12 : [('afgan', 74), ('türkiye', 44), ('olmak', 36), ('sağlık', 34), ('asker', 29), ('çocuk', 28), ('traş', 28), ('kadın', 28), ('suriye', 25), ('âdeta', 25), ('gelir', 22), ('ülke', 19), ('masal', 19), ('genç', 15), ('taliban', 14), ('mülteci', 14), ('avukat', 14), ('korkunç', 14), ('yaka', 13), ('desen', 12)”],\n",
    "\n",
    "[\"Cluster 10 : [('afgan', 69), ('türkiye', 63), ('olmak', 44), ('ülke', 42), ('sağlık', 39), ('âdeta', 39), ('asker', 39), ('traş', 39), ('afganistan', 35), ('çocuk', 34), ('kadın', 34), ('görünüm', 31), ('girmek', 30), ('sığınmak', 30), ('militan', 30), ('genç', 22), ('idare', 22), ('ediyörpütin', 22), ('hudutnamustur', 21), ('gelirtürkiyeyi', 17)”],\n",
    "\n",
    "[\"Cluster 6 : [('afgan', 50), ('ülke', 24), ('gi', 22), ('değil', 20), ('on', 17), ('emperyalizm', 14), ('ni', 14), ('mi', 12), ('millet', 12), ('bi', 12), ('bir', 11), ('mazlum', 11), ('ede', 11), ('li', 10), ('suri', 10), ('istemek', 10), ('yeli', 10), ('bun', 9), ('ler', 9), ('çocuk', 8)”],\n",
    "\n",
    "[\"Cluster 9 : [('afgan', 36), ('bilemek', 29), ('herkes', 28), ('olmak', 26), ('fakir', 21), ('suriye', 18), ('yine', 18), ('savaşmak', 18), ('mülteci', 14), ('türkiye', 14), ('asker', 14), ('genç', 13), ('bir', 10), ('kadın', 10), ('sağlık', 10), ('almak', 10), ('çocuk', 10), ('bitmek', 10), ('gem', 10), ('kaptan', 10)”],\n",
    "\n",
    "[\"Cluster 7 : [('bir', 42), ('afgan', 24), ('olmak', 17), ('suriye', 12), ('önlem', 12), ('ülke', 11), ('sonra', 10), ('yan', 10), ('biz', 9), ('yok', 9), ('mülteci', 9), ('milyon', 7), ('can', 7), ('türkiye', 6), ('yanmak', 6), ('ad', 6), ('bilemek', 6), ('aile', 6), ('patlamak', 6), ('demek', 5)”],\n",
    "\n",
    "[\"Cluster 4 : [('afgan', 17), ('suriye', 11), ('ülke', 9), ('bir', 9), ('mülteci', 8), ('türkiye', 7), ('pakistan', 7), ('olmak', 6), ('milyon', 6), ('fır', 6), ('işgal', 5), ('değil', 4), ('demek', 4), ('durum', 4), ('vatandaş', 4), ('kul', 4), ('uyuşturmak', 4), ('dava', 4), ('cevap', 4), ('türk', 3)\"]\n"
   ]
  },
  {
   "cell_type": "code",
   "execution_count": null,
   "id": "9791b1e9",
   "metadata": {},
   "outputs": [],
   "source": [
    "gsdmm_clusters = [[\"Cluster 2 : [('afganlar', 987), ('ve', 657), ('suriyeliler', 519), ('bu', 510), ('bir', 502), ('de', 311), ('mülteci', 289), ('da', 261), ('afgan', 259), ('suriyeli', 256), ('ne', 213), ('için', 198), ('var', 198), ('yok', 191), ('türkiye', 179), ('gibi', 160), ('çok', 154), ('değil', 146), ('daha', 134), ('ülke', 127)\"],\n",
    "\n",
    "[\"Cluster 10 : [('afganlar', 563), ('bir', 339), ('bu', 312), ('ve', 298), ('mülteci', 277), ('suriyeliler', 274), ('afgan', 255), ('suriyeli', 227), ('ne', 225), ('da', 162), ('de', 161), ('yok', 123), ('var', 103), ('değil', 101), ('daha', 100), ('gibi', 99), ('kadar', 96), ('için', 92), ('çok', 90), ('ama', 89)\"],\n",
    "\n",
    "[\"Cluster 8 : [('afganlar', 623), ('bu', 395), ('ve', 320), ('bir', 273), ('afgan', 239), ('mülteci', 211), ('suriyeliler', 200), ('ne', 181), ('da', 155), ('de', 153), ('için', 140), ('değil', 126), ('ama', 97), ('suriyeli', 96), ('yok', 93), ('var', 91), ('ya', 87), ('kadar', 85), ('kendi', 85), ('neden', 83)\"],\n",
    "\n",
    "[\"Cluster 14 : [('afganlar', 402), ('ve', 345), ('bu', 242), ('bir', 242), ('mülteci', 227), ('afgan', 216), ('suriyeli', 186), ('suriyeliler', 168), ('da', 130), ('de', 128), ('ne', 119), ('değil', 108), ('türkiye', 103), ('için', 97), ('gibi', 81), ('var', 79), ('kadar', 75), ('çok', 72), ('https', 60), ('co', 60)\"],\n",
    "\n",
    "[\"Cluster 0 : [('afganlar', 442), ('ve', 260), ('bir', 241), ('suriyeliler', 204), ('bu', 188), ('da', 143), ('de', 142), ('afgan', 121), ('ne', 116), ('için', 104), ('mülteci', 101), ('suriyeli', 98), ('türkiye', 90), ('ama', 84), ('değil', 73), ('var', 65), ('gibi', 62), ('yok', 62), ('daha', 61), ('çok', 57)\"],\n",
    "\n",
    "[\"Cluster 7 : [('afganlar', 375), ('bu', 184), ('suriyeliler', 172), ('bir', 151), ('ve', 150), ('ne', 104), ('de', 85), ('mülteci', 84), ('da', 82), ('afgan', 80), ('suriyeli', 80), ('var', 76), ('yok', 75), ('ülke', 67), ('kadar', 60), ('kendi', 59), ('daha', 58), ('ama', 57), ('sonra', 55), ('ya', 50)\"],\n",
    "\n",
    "[\"Cluster 6 : [('afganlar', 290), ('suriyeliler', 162), ('bu', 107), ('ve', 106), ('bir', 92), ('ne', 86), ('mülteci', 61), ('yok', 60), ('var', 57), ('suriyeli', 54), ('dolar', 54), ('afgan', 49), ('mi', 49), ('kendi', 45), ('de', 44), ('da', 44), ('çok', 37), ('biz', 37), ('bi', 36), ('daha', 32)\"],\n",
    "\n",
    "[\"Cluster 11 : [('afganlar', 227), ('bu', 107), ('ve', 94), ('suriyeliler', 80), ('bir', 60), ('mi', 55), ('bi', 52), ('ne', 48), ('de', 44), ('icin', 41), ('da', 40), ('herkes', 37), ('ler', 33), ('ama', 32), ('suri', 32), ('ye', 30), ('ki', 29), ('biliyor', 29), ('daha', 28), ('yeli', 28)\"],\n",
    "\n",
    "[\"Cluster 4 : [('afgan', 176), ('mülteci', 171), ('bir', 148), ('ayşegül', 116), ('afganlar', 74), ('bu', 68), ('tarafından', 64), ('ve', 63), ('https', 62), ('co', 62), ('taşla', 53), ('de', 50), ('yaşındaki', 50), ('tecavüz', 42), ('kız', 41), ('için', 37), ('da', 36), ('suriyeli', 33), ('istemiyorum', 33), ('türk', 32)\"],\n",
    "\n",
    "[\"Cluster 9 : [('afganlar', 150), ('ve', 99), ('suriyeliler', 66), ('bu', 63), ('bir', 62), ('de', 52), ('da', 37), ('suriyeli', 36), ('çok', 34), ('gibi', 32), ('ne', 32), ('afgan', 30), ('var', 29), ('ama', 27), ('türk', 27), ('mülteci', 25), ('daha', 24), ('suriye', 24), ('https', 23), ('co', 23)\"],\n",
    "\n",
    "[\"Cluster 13 : [('afganlar', 138), ('ve', 138), ('suriyeliler', 93), ('sığınmacılar', 38), ('bu', 37), ('mülteci', 30), ('afgan', 30), ('ülkesine', 30), ('milletin', 28), ('de', 28), ('bir', 27), ('ekmeğini', 27), ('haçlı', 27), ('ordusu', 27), ('da', 26), ('parasını', 26), ('aşını', 26), ('işini', 26), ('elinden', 26), ('alıyor', 26)\"],\n",
    "\n",
    "[\"Cluster 12 : [('yıl', 187), ('afganlar', 123), ('bizden', 99), ('suriyeliler', 94), ('geride', 93), ('özcan', 92), ('tanju', 79), ('gerideydi', 78), ('bizim', 69), ('diye', 68), ('sevdiğimiz', 66), ('karısı', 66), ('olabilecek', 66), ('yavrum', 65), ('çocuğum', 64), ('nasıl', 62), ('https', 62), ('co', 62), ('entegre', 61), ('edeceksiniz', 60)\"],\n",
    "\n",
    "[\"Cluster 3 : [('türkiye', 192), ('ve', 118), ('afganlar', 107), ('geri', 96), ('derhal', 96), ('suriyeliler', 94), ('bütün', 94), ('araplar', 94), ('alınıp', 94), ('iade', 94), ('yi', 93), ('karıştırmadan', 91), ('afrikalılar', 91), ('iranlılar', 91), ('mahallemizden', 91), ('edilsinler', 91), ('mülteciler', 80), ('göçmenler', 77), ('yoksa', 77), ('çok', 77)\"],\n",
    "\n",
    "[\"Cluster 1 : [('afganlar', 76), ('ve', 58), ('bir', 54), ('türkiye', 42), ('afgan', 41), ('mülteci', 34), ('ye', 31), ('bu', 22), ('genç', 21), ('https', 21), ('co', 21), ('de', 20), ('ne', 20), ('asker', 20), ('neden', 19), ('suriyeliler', 18), ('suriyeli', 18), ('kadınları', 18), ('olmayan', 18), ('ile', 17)\"],\n",
    "\n",
    "[\"Cluster 5 : [('türkiye', 84), ('afganlar', 77), ('ve', 61), ('ye', 61), ('putin', 44), ('neden', 43), ('adeta', 43), ('genç', 43), ('sağlıklı', 43), ('asker', 43), ('traşlı', 43), ('çocukları', 43), ('kadınları', 43), ('olmayan', 43), ('gelir', 40), ('sınırnamustur', 36), ('daki', 35), ('hudutnamustur', 34), ('ülkemize', 32), ('sığınmacı', 32)\"]]"
   ]
  },
  {
   "cell_type": "code",
   "execution_count": null,
   "id": "aad67171",
   "metadata": {},
   "outputs": [],
   "source": [
    "gsdmm_clusters = pd.DataFrame.from_dict(gsdmm_clusters)"
   ]
  },
  {
   "cell_type": "code",
   "execution_count": null,
   "id": "fe8fbddf",
   "metadata": {},
   "outputs": [],
   "source": [
    "gsdmm_clusters"
   ]
  },
  {
   "cell_type": "code",
   "execution_count": null,
   "id": "e43759a8",
   "metadata": {},
   "outputs": [],
   "source": [
    "gsdmm_clusters.rename(columns={0: \"Dominant Keywords for GSDMM Clusters\"}, inplace=True)"
   ]
  },
  {
   "cell_type": "code",
   "execution_count": null,
   "id": "cc723063",
   "metadata": {},
   "outputs": [],
   "source": [
    "gsdmm_clusters[['Cluster No.(Importance)','Dominant Keywords:GSDMM']] = gsdmm_clusters[\"Dominant Keywords for GSDMM Clusters\"].str.split(\":\",expand=True,)\n",
    "gsdmm_clusters"
   ]
  },
  {
   "cell_type": "code",
   "execution_count": null,
   "id": "cc4fc7ad",
   "metadata": {},
   "outputs": [],
   "source": [
    "# I didn`t rename the clusters\n",
    "\n",
    "topic_dict = {}\n",
    "topic_names = ['type 1',\n",
    "               'type 2',\n",
    "               'type 3',\n",
    "               'type 4',\n",
    "               'type 5',\n",
    "               'type 6',\n",
    "               'type 7',\n",
    "               'type 8',\n",
    "               'type 9',\n",
    "               'type 10',\n",
    "               'type 11',\n",
    "               'type 12',\n",
    "               'type 13',\n",
    "               'type 14',\n",
    "               'type 15'\n",
    "              ]\n",
    "for i, topic_num in enumerate(top_index):\n",
    "    topic_dict[topic_num]=topic_names[i] "
   ]
  },
  {
   "cell_type": "code",
   "execution_count": null,
   "id": "05c8edc1",
   "metadata": {},
   "outputs": [],
   "source": [
    "def create_topics_dataframe(negative_text=negative.Tweet,  mgp=mgp, threshold=0.3, topic_dict=topic_dict, lemma_text=tokens_tweets):\n",
    "    result = pd.DataFrame(columns=['Text', 'Topic', 'Rating', 'Lemma-text'])\n",
    "    for i, text in enumerate(negative_text):\n",
    "        result.at[i, 'Text'] = text\n",
    "        #result.at[i, 'Rating'] = data.Rating[i]\n",
    "        result.at[i, 'Lemma-text'] = lemma_text[i]\n",
    "        prob = mgp.choose_best_label(tokens_tweets[i])\n",
    "        if prob[1] >= threshold:\n",
    "            result.at[i, 'Topic'] = topic_dict[prob[0]]\n",
    "        else:\n",
    "            result.at[i, 'Topic'] = 'Other'\n",
    "    return result"
   ]
  },
  {
   "cell_type": "code",
   "execution_count": null,
   "id": "3c367933",
   "metadata": {},
   "outputs": [],
   "source": [
    "result = create_topics_dataframe(negative_text=negative.Tweet, mgp=mgp, threshold=0.3, topic_dict=topic_dict, lemma_text=tokens_tweets)\n",
    "result.head(16)"
   ]
  },
  {
   "cell_type": "code",
   "execution_count": null,
   "id": "9a9c4ea7",
   "metadata": {},
   "outputs": [],
   "source": [
    "#VISUALIZATION"
   ]
  },
  {
   "cell_type": "code",
   "execution_count": null,
   "id": "4af41a4b",
   "metadata": {},
   "outputs": [],
   "source": [
    "import plotly.express as px\n",
    "\n",
    "fig = px.pie(result, names='Topic',  title=\"Figure 4. GSDMM for Abortion Tweets with Negative Sentiment\", color_discrete_sequence=px.colors.sequential.Burg)\n",
    "fig.show()"
   ]
  },
  {
   "cell_type": "code",
   "execution_count": null,
   "id": "4ce702bb",
   "metadata": {},
   "outputs": [],
   "source": [
    "result['len'] = result.Text.apply(lambda row: len(row.split()))\n",
    "result.head()"
   ]
  },
  {
   "cell_type": "code",
   "execution_count": null,
   "id": "480b76a1",
   "metadata": {},
   "outputs": [],
   "source": [
    "result"
   ]
  },
  {
   "cell_type": "code",
   "execution_count": null,
   "id": "330123ef",
   "metadata": {},
   "outputs": [],
   "source": [
    "#WORDCLOUDS"
   ]
  },
  {
   "cell_type": "code",
   "execution_count": null,
   "id": "6a35b4e7",
   "metadata": {},
   "outputs": [],
   "source": [
    "result['Lemma_text'] = result['Lemma-text'].apply(lambda row: ' '.join(row))"
   ]
  },
  {
   "cell_type": "code",
   "execution_count": null,
   "id": "e69a51d4",
   "metadata": {},
   "outputs": [],
   "source": [
    "result = result.drop('Lemma-text', axis=1)"
   ]
  },
  {
   "cell_type": "code",
   "execution_count": null,
   "id": "c5ba3468",
   "metadata": {},
   "outputs": [],
   "source": [
    "!pip install wordcloud"
   ]
  },
  {
   "cell_type": "code",
   "execution_count": null,
   "id": "fc9f801c",
   "metadata": {},
   "outputs": [],
   "source": [
    "from wordcloud import WordCloud "
   ]
  },
  {
   "cell_type": "code",
   "execution_count": null,
   "id": "6de3252e",
   "metadata": {},
   "outputs": [],
   "source": [
    "my_stopwords = [\"afgan\", \"böyle\", \"bir\", \"bu\", \"şey\", \"mi\", \"mı\", \"var\", \"ki\", \"ama\", \"diye\", \"her\", \"tamam\",\"kadar\", \"işte\", \"çi\", \"çki\", \"bi\", \"rbia\", \"ne\", \"mıdır\", \"midir\", \"da\", \"le\", \"el\",\"için\", \"de\",\"belli\", \"ve\", \"değil\", \"gibi\", \"ile\"]"
   ]
  },
  {
   "cell_type": "code",
   "execution_count": null,
   "id": "2ba1d5e1",
   "metadata": {},
   "outputs": [],
   "source": [
    "import matplotlib.pyplot as plt"
   ]
  },
  {
   "cell_type": "code",
   "execution_count": null,
   "id": "27386c67",
   "metadata": {},
   "outputs": [],
   "source": [
    "def create_WordCloud(data, title=None):\n",
    "    wordcloud = WordCloud(width = 500, height = 500,\n",
    "                          background_color ='white',\n",
    "                          min_font_size = 15, stopwords = my_stopwords\n",
    "                         ).generate(\" \".join(data.values))\n",
    "                      \n",
    "    plt.figure(figsize = (5, 5), facecolor = None) \n",
    "    plt.imshow(wordcloud, interpolation='bilinear') \n",
    "    plt.axis(\"off\") \n",
    "    plt.tight_layout(pad = 0) \n",
    "    plt.title(title,fontsize=20)\n",
    "    plt.show() "
   ]
  },
  {
   "cell_type": "code",
   "execution_count": null,
   "id": "7a9fa581",
   "metadata": {},
   "outputs": [],
   "source": [
    "create_WordCloud(result['Lemma_text'].loc[result.Topic == 'type 1'], title=\"Most used words in negative sentiment tweets\")"
   ]
  },
  {
   "cell_type": "code",
   "execution_count": null,
   "id": "569303be",
   "metadata": {},
   "outputs": [],
   "source": [
    "create_WordCloud(result['Lemma_text'].loc[result.Topic == 'type 2'], title=\"Most used words in negative sentiment tweets\")"
   ]
  },
  {
   "cell_type": "code",
   "execution_count": null,
   "id": "90ed6fc2",
   "metadata": {},
   "outputs": [],
   "source": []
  }
 ],
 "metadata": {
  "kernelspec": {
   "display_name": "Python 3 (ipykernel)",
   "language": "python",
   "name": "python3"
  },
  "language_info": {
   "codemirror_mode": {
    "name": "ipython",
    "version": 3
   },
   "file_extension": ".py",
   "mimetype": "text/x-python",
   "name": "python",
   "nbconvert_exporter": "python",
   "pygments_lexer": "ipython3",
   "version": "3.9.12"
  }
 },
 "nbformat": 4,
 "nbformat_minor": 5
}
