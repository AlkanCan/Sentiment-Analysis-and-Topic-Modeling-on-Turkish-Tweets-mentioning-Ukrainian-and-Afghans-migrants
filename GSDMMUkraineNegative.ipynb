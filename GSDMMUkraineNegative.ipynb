{
 "cells": [
  {
   "cell_type": "code",
   "execution_count": 1,
   "id": "c1e3fb11",
   "metadata": {},
   "outputs": [],
   "source": [
    "import numpy as np \n",
    "import pandas as pd\n",
    "\n",
    "from gsdmm import MovieGroupProcess\n",
    "\n",
    "from gensim.models.coherencemodel import CoherenceModel\n",
    "from gensim import corpora, models\n",
    "from gensim.utils import simple_preprocess\n",
    "import gensim\n",
    "from gensim.models.ldamulticore import LdaMulticore\n",
    "import re\n",
    "import spacy\n",
    "\n",
    "from gensim.models import Phrases\n",
    "from gensim.models.phrases import Phraser"
   ]
  },
  {
   "cell_type": "code",
   "execution_count": 2,
   "id": "9f9693ca",
   "metadata": {},
   "outputs": [],
   "source": [
    "df=pd.read_csv(\"predictedsentiment_ukraine.csv\")"
   ]
  },
  {
   "cell_type": "code",
   "execution_count": 4,
   "id": "4315f4d7",
   "metadata": {},
   "outputs": [
    {
     "data": {
      "text/plain": [
       "Neutral     30701\n",
       "Positive     3042\n",
       "Negative     1329\n",
       "Name: PredictedSentiment, dtype: int64"
      ]
     },
     "execution_count": 4,
     "metadata": {},
     "output_type": "execute_result"
    }
   ],
   "source": [
    "df['PredictedSentiment'].value_counts()"
   ]
  },
  {
   "cell_type": "code",
   "execution_count": 5,
   "id": "cefba752",
   "metadata": {},
   "outputs": [
    {
     "data": {
      "text/html": [
       "<div>\n",
       "<style scoped>\n",
       "    .dataframe tbody tr th:only-of-type {\n",
       "        vertical-align: middle;\n",
       "    }\n",
       "\n",
       "    .dataframe tbody tr th {\n",
       "        vertical-align: top;\n",
       "    }\n",
       "\n",
       "    .dataframe thead th {\n",
       "        text-align: right;\n",
       "    }\n",
       "</style>\n",
       "<table border=\"1\" class=\"dataframe\">\n",
       "  <thead>\n",
       "    <tr style=\"text-align: right;\">\n",
       "      <th></th>\n",
       "      <th>Unnamed: 0</th>\n",
       "      <th>Tweet</th>\n",
       "      <th>PredictedSentiment</th>\n",
       "    </tr>\n",
       "  </thead>\n",
       "  <tbody>\n",
       "    <tr>\n",
       "      <th>17</th>\n",
       "      <td>17</td>\n",
       "      <td>ukrayna help demek dünya susmak zalim durmak d...</td>\n",
       "      <td>Negative</td>\n",
       "    </tr>\n",
       "    <tr>\n",
       "      <th>36</th>\n",
       "      <td>36</td>\n",
       "      <td>abd yemek batı as güvenmek yazık ukrayna yüzüs...</td>\n",
       "      <td>Negative</td>\n",
       "    </tr>\n",
       "    <tr>\n",
       "      <th>130</th>\n",
       "      <td>130</td>\n",
       "      <td>adam rusya ukrayna savaş ukrayna kadın tabiî t...</td>\n",
       "      <td>Negative</td>\n",
       "    </tr>\n",
       "    <tr>\n",
       "      <th>166</th>\n",
       "      <td>166</td>\n",
       "      <td>ülke savaş çıkmak halk bir korku endişe yok de...</td>\n",
       "      <td>Negative</td>\n",
       "    </tr>\n",
       "    <tr>\n",
       "      <th>262</th>\n",
       "      <td>262</td>\n",
       "      <td>gelmek kapı açık suriye mülteci takas yapalım ...</td>\n",
       "      <td>Negative</td>\n",
       "    </tr>\n",
       "    <tr>\n",
       "      <th>...</th>\n",
       "      <td>...</td>\n",
       "      <td>...</td>\n",
       "      <td>...</td>\n",
       "    </tr>\n",
       "    <tr>\n",
       "      <th>34953</th>\n",
       "      <td>34953</td>\n",
       "      <td>gerçek an fikir şaşırıyorum hiçbir zaman alman...</td>\n",
       "      <td>Negative</td>\n",
       "    </tr>\n",
       "    <tr>\n",
       "      <th>34954</th>\n",
       "      <td>34954</td>\n",
       "      <td>i̇srafil efendi ukrayna karı kız anas ba bırak...</td>\n",
       "      <td>Negative</td>\n",
       "    </tr>\n",
       "    <tr>\n",
       "      <th>34975</th>\n",
       "      <td>34975</td>\n",
       "      <td>aq yaban sade suriye afgan mi rus ukrayna yaba...</td>\n",
       "      <td>Negative</td>\n",
       "    </tr>\n",
       "    <tr>\n",
       "      <th>34976</th>\n",
       "      <td>34976</td>\n",
       "      <td>yaban deyi ak suriye afgan geliyor rus ukrayna...</td>\n",
       "      <td>Negative</td>\n",
       "    </tr>\n",
       "    <tr>\n",
       "      <th>34977</th>\n",
       "      <td>34977</td>\n",
       "      <td>bura konu medeniyet sahib olup olmak değmek ya...</td>\n",
       "      <td>Negative</td>\n",
       "    </tr>\n",
       "  </tbody>\n",
       "</table>\n",
       "<p>1329 rows × 3 columns</p>\n",
       "</div>"
      ],
      "text/plain": [
       "       Unnamed: 0                                              Tweet  \\\n",
       "17             17  ukrayna help demek dünya susmak zalim durmak d...   \n",
       "36             36  abd yemek batı as güvenmek yazık ukrayna yüzüs...   \n",
       "130           130  adam rusya ukrayna savaş ukrayna kadın tabiî t...   \n",
       "166           166  ülke savaş çıkmak halk bir korku endişe yok de...   \n",
       "262           262  gelmek kapı açık suriye mülteci takas yapalım ...   \n",
       "...           ...                                                ...   \n",
       "34953       34953  gerçek an fikir şaşırıyorum hiçbir zaman alman...   \n",
       "34954       34954  i̇srafil efendi ukrayna karı kız anas ba bırak...   \n",
       "34975       34975  aq yaban sade suriye afgan mi rus ukrayna yaba...   \n",
       "34976       34976  yaban deyi ak suriye afgan geliyor rus ukrayna...   \n",
       "34977       34977  bura konu medeniyet sahib olup olmak değmek ya...   \n",
       "\n",
       "      PredictedSentiment  \n",
       "17              Negative  \n",
       "36              Negative  \n",
       "130             Negative  \n",
       "166             Negative  \n",
       "262             Negative  \n",
       "...                  ...  \n",
       "34953           Negative  \n",
       "34954           Negative  \n",
       "34975           Negative  \n",
       "34976           Negative  \n",
       "34977           Negative  \n",
       "\n",
       "[1329 rows x 3 columns]"
      ]
     },
     "execution_count": 5,
     "metadata": {},
     "output_type": "execute_result"
    }
   ],
   "source": [
    "negative = df[df[\"PredictedSentiment\"] == \"Negative\"]\n",
    "negative"
   ]
  },
  {
   "cell_type": "code",
   "execution_count": 6,
   "id": "50b98d69",
   "metadata": {},
   "outputs": [],
   "source": [
    "def make_n_grams(texts):\n",
    "    bigram = gensim.models.Phrases(texts, min_count=5, threshold=100)  # higher threshold fewer phrases.\n",
    "    bigram_mod = gensim.models.phrases.Phraser(bigram)\n",
    "    trigram = gensim.models.Phrases(bigram[texts], threshold=100)\n",
    "    trigram_mod = gensim.models.phrases.Phraser(trigram)\n",
    "    bigrams_text = [bigram_mod[doc] for doc in texts]\n",
    "    trigrams_text =  [trigram_mod[bigram_mod[doc]] for doc in bigrams_text]\n",
    "    return trigrams_text"
   ]
  },
  {
   "cell_type": "code",
   "execution_count": 7,
   "id": "59aa5fcb",
   "metadata": {},
   "outputs": [
    {
     "name": "stderr",
     "output_type": "stream",
     "text": [
      "C:\\Users\\Alkan\\AppData\\Local\\Temp\\ipykernel_2120\\1752566637.py:1: SettingWithCopyWarning: \n",
      "A value is trying to be set on a copy of a slice from a DataFrame.\n",
      "Try using .loc[row_indexer,col_indexer] = value instead\n",
      "\n",
      "See the caveats in the documentation: https://pandas.pydata.org/pandas-docs/stable/user_guide/indexing.html#returning-a-view-versus-a-copy\n",
      "  negative['Tweet'] = negative.Tweet.values.tolist()\n"
     ]
    }
   ],
   "source": [
    "\n",
    "negative['Tweet'] = negative.Tweet.values.tolist()\n",
    "\n",
    "def sent_to_words(sentences):\n",
    "    for sentence in sentences:\n",
    "        yield(gensim.utils.simple_preprocess(str(sentence)))"
   ]
  },
  {
   "cell_type": "code",
   "execution_count": 8,
   "id": "556cf32e",
   "metadata": {},
   "outputs": [],
   "source": [
    "tokens_tweets = list(sent_to_words(negative['Tweet']))"
   ]
  },
  {
   "cell_type": "code",
   "execution_count": 9,
   "id": "1b7bc67e",
   "metadata": {},
   "outputs": [],
   "source": [
    "np.random.seed(0) #for reproducability"
   ]
  },
  {
   "cell_type": "code",
   "execution_count": 18,
   "id": "5c066314",
   "metadata": {},
   "outputs": [
    {
     "name": "stdout",
     "output_type": "stream",
     "text": [
      "In stage 0: transferred 1034 clusters with 15 clusters populated\n",
      "In stage 1: transferred 506 clusters with 15 clusters populated\n",
      "In stage 2: transferred 289 clusters with 15 clusters populated\n",
      "In stage 3: transferred 230 clusters with 15 clusters populated\n",
      "In stage 4: transferred 183 clusters with 15 clusters populated\n",
      "In stage 5: transferred 178 clusters with 15 clusters populated\n",
      "In stage 6: transferred 165 clusters with 15 clusters populated\n",
      "In stage 7: transferred 162 clusters with 15 clusters populated\n",
      "In stage 8: transferred 119 clusters with 15 clusters populated\n",
      "In stage 9: transferred 113 clusters with 15 clusters populated\n",
      "In stage 10: transferred 114 clusters with 15 clusters populated\n",
      "In stage 11: transferred 120 clusters with 15 clusters populated\n",
      "In stage 12: transferred 104 clusters with 15 clusters populated\n",
      "In stage 13: transferred 98 clusters with 15 clusters populated\n",
      "In stage 14: transferred 106 clusters with 15 clusters populated\n",
      "In stage 15: transferred 95 clusters with 15 clusters populated\n",
      "In stage 16: transferred 108 clusters with 15 clusters populated\n",
      "In stage 17: transferred 87 clusters with 15 clusters populated\n",
      "In stage 18: transferred 95 clusters with 15 clusters populated\n",
      "In stage 19: transferred 89 clusters with 15 clusters populated\n",
      "In stage 20: transferred 95 clusters with 15 clusters populated\n",
      "In stage 21: transferred 103 clusters with 15 clusters populated\n",
      "In stage 22: transferred 106 clusters with 15 clusters populated\n",
      "In stage 23: transferred 109 clusters with 15 clusters populated\n",
      "In stage 24: transferred 101 clusters with 15 clusters populated\n",
      "In stage 25: transferred 101 clusters with 15 clusters populated\n",
      "In stage 26: transferred 94 clusters with 15 clusters populated\n",
      "In stage 27: transferred 77 clusters with 15 clusters populated\n",
      "In stage 28: transferred 81 clusters with 15 clusters populated\n",
      "In stage 29: transferred 91 clusters with 15 clusters populated\n"
     ]
    }
   ],
   "source": [
    "mgp = MovieGroupProcess(K=15, alpha=0.01, beta=0.01, n_iters=30) \n",
    "\n",
    "vocab = set(x for tweet in tokens_tweets for x in tweet)\n",
    "n_terms = len(vocab)\n",
    "model = mgp.fit(tokens_tweets, n_terms)"
   ]
  },
  {
   "cell_type": "code",
   "execution_count": 19,
   "id": "ff2bb9f8",
   "metadata": {},
   "outputs": [],
   "source": [
    "def top_words(cluster_word_distribution, top_cluster, values):\n",
    "    for cluster in top_cluster:\n",
    "        sort_dicts =sorted(mgp.cluster_word_distribution[cluster].items(), key=lambda k: k[1], reverse=True)[:values]\n",
    "        print(\"\\nCluster %s : %s\"%(cluster,sort_dicts))"
   ]
  },
  {
   "cell_type": "code",
   "execution_count": 20,
   "id": "d6c4f280",
   "metadata": {},
   "outputs": [
    {
     "name": "stdout",
     "output_type": "stream",
     "text": [
      "Number of documents per topic : [ 19  24  14  91 180 489  14 113  90   8  28  48  23 161  27]\n",
      "\n",
      "Most important clusters (by number of docs inside): [ 5  4 13  7  3  8 11 10 14  1 12  0  6  2  9]\n",
      "\n",
      "Cluster 5 : [('ukrayna', 643), ('suriye', 263), ('gelmek', 175), ('değmek', 167), ('bir', 166), ('mi', 162), ('olmak', 161), ('ülke', 145), ('türk', 141), ('mülteci', 134), ('antalya', 133), ('desen', 119), ('demek', 104), ('kira', 97), ('arap', 90), ('ev', 84), ('bu', 83), ('nsa', 78), ('rus', 77), ('afgan', 75)]\n",
      "\n",
      "Cluster 4 : [('kira', 222), ('ukrayna', 206), ('ev', 196), ('antalya', 133), ('binmek', 73), ('rus', 73), ('tl', 64), ('olmak', 61), ('fiyat', 61), ('bir', 55), ('savaş', 36), ('ay', 36), ('gelmek', 35), ('yıl', 32), ('desen', 30), ('türk', 29), ('yüz', 29), ('yok', 29), ('sahip', 28), ('bura', 26)]\n",
      "\n",
      "Cluster 13 : [('ukrayna', 206), ('suriye', 102), ('demek', 71), ('değmek', 70), ('olmak', 57), ('mülteci', 49), ('türk', 49), ('bir', 48), ('ülke', 42), ('mi', 42), ('desen', 41), ('istemek', 41), ('millet', 35), ('gelmek', 34), ('bilemek', 30), ('müslüman', 28), ('savaş', 26), ('sen', 25), ('nsa', 24), ('gitmek', 23)]\n",
      "\n",
      "Cluster 7 : [('ukrayna', 142), ('suriye', 78), ('olmak', 49), ('göz', 45), ('ülke', 41), ('mavi', 39), ('türk', 38), ('mülteci', 36), ('demek', 30), ('gelmek', 28), ('saç', 27), ('afgan', 26), ('bir', 25), ('değmek', 24), ('sarı', 24), ('desen', 23), ('mi', 23), ('avrupa', 22), ('istemek', 21), ('biz', 18)]\n",
      "\n",
      "Cluster 3 : [('ukrayna', 109), ('suriye', 53), ('kaçmak', 41), ('mi', 32), ('değmek', 31), ('olmak', 31), ('gelmek', 31), ('bir', 24), ('gitmek', 23), ('afgan', 23), ('nsa', 22), ('ülke', 22), ('desen', 21), ('savaş', 20), ('mülteci', 20), ('yapmak', 16), ('demek', 15), ('bu', 13), ('sen', 12), ('bura', 12)]\n",
      "\n",
      "Cluster 8 : [('ukrayna', 133), ('suriye', 83), ('kaçmak', 59), ('savaş', 43), ('bir', 40), ('demek', 37), ('savaşmak', 31), ('ülke', 29), ('mi', 27), ('değmek', 26), ('olmak', 18), ('desen', 18), ('yıl', 17), ('bu', 17), ('anlamak', 15), ('rusya', 15), ('varmak', 15), ('iki', 14), ('başlamak', 14), ('bilemek', 14)]\n",
      "\n",
      "Cluster 11 : [('ukrayna', 57), ('türk', 28), ('maç', 24), ('bayrak', 18), ('biz', 14), ('bir', 13), ('fenerbahçe', 13), ('değmek', 12), ('mavi', 12), ('mi', 11), ('desen', 11), ('nsa', 10), ('göz', 10), ('kiev', 10), ('suriye', 9), ('demek', 8), ('bu', 8), ('ülke', 8), ('siz', 7), ('olmak', 7)]\n",
      "\n",
      "Cluster 10 : [('ukrayna', 38), ('nazi', 19), ('olmak', 12), ('nsa', 10), ('millet', 10), ('sovyet', 9), ('bir', 8), ('rus', 8), ('bilemek', 8), ('görmek', 7), ('mi', 7), ('türk', 7), ('olarak', 7), ('savaş', 7), ('değmek', 6), ('demek', 6), ('yıl', 6), ('et', 5), ('başlamak', 5), ('zulüm', 5)]\n",
      "\n",
      "Cluster 14 : [('ukrayna', 44), ('suriye', 15), ('savaş', 13), ('bir', 12), ('kaçmak', 11), ('değmek', 10), ('ordu', 10), ('olmak', 9), ('bu', 9), ('asker', 9), ('sen', 8), ('gitmek', 7), ('demek', 7), ('nsa', 6), ('halka', 6), ('mülteci', 6), ('sivil', 5), ('biz', 5), ('yıl', 5), ('istemek', 5)]\n",
      "\n",
      "Cluster 1 : [('türki', 33), ('ukrayna', 27), ('başlamak', 21), ('yard', 21), ('love', 20), ('merkez', 16), ('olmak', 14), ('deme', 14), ('bilemek', 12), ('desen', 9), ('you', 8), ('mi', 4), ('amk', 4), ('satmak', 4), ('am', 4), ('mk', 3), ('ne', 3), ('şimdiden', 3), ('obüs', 3), ('savaş', 2)]\n",
      "\n",
      "Cluster 12 : [('ukrayna', 35), ('demek', 21), ('türk', 18), ('olmak', 14), ('bir', 14), ('suriye', 11), ('kaçmak', 9), ('olarak', 8), ('desen', 7), ('değmek', 7), ('düşman', 7), ('binmek', 7), ('bilemek', 6), ('ülke', 6), ('vatan', 6), ('karşı', 6), ('türki', 5), ('bize', 5), ('millet', 5), ('mu', 5)]\n",
      "\n",
      "Cluster 0 : [('ukrayna', 22), ('değmek', 17), ('kötü', 14), ('nsa', 12), ('savaş', 10), ('iyi', 9), ('suriye', 6), ('sarışın', 6), ('olarak', 6), ('afgan', 5), ('bu', 5), ('göz', 5), ('el', 5), ('gelmek', 5), ('bir', 4), ('mi', 4), ('mavi', 4), ('tek', 4), ('ülke', 4), ('desen', 4)]\n",
      "\n",
      "Cluster 6 : [('ukrayna', 16), ('değmek', 9), ('mülteci', 7), ('suriye', 6), ('istemek', 6), ('soru', 6), ('bu', 6), ('ara', 4), ('mi', 4), ('rus', 4), ('daire', 4), ('yıl', 3), ('vatandaş', 3), ('müslüman', 3), ('arap', 3), ('geçti', 3), ('alman', 3), ('teşkil', 3), ('onmak', 3), ('olmak', 3)]\n",
      "\n",
      "Cluster 2 : [('ev', 18), ('ukrayna', 14), ('kira', 13), ('demek', 8), ('bir', 8), ('sahip', 8), ('gelmek', 7), ('desen', 7), ('mi', 6), ('olmak', 6), ('antalya', 6), ('bu', 5), ('mülteci', 4), ('yüz', 4), ('beyin', 4), ('biz', 4), ('türk', 4), ('duru', 3), ('nsa', 3), ('sade', 3)]\n",
      "\n",
      "Cluster 9 : [('ukrayna', 11), ('antalya', 8), ('bir', 5), ('yemek', 4), ('türk', 3), ('turist', 3), ('yan', 3), ('kat', 3), ('sahip', 2), ('olmak', 2), ('tur', 2), ('dükkân', 2), ('sokak', 2), ('muz', 2), ('başlamak', 2), ('stemi', 2), ('yorum', 2), ('no', 2), ('karşı', 2), ('dernek', 2)]\n"
     ]
    }
   ],
   "source": [
    "doc_count = np.array(mgp.cluster_doc_count)\n",
    "print('Number of documents per topic :', doc_count)\n",
    "\n",
    "# topics sorted by the number of document they are allocated to\n",
    "top_index = doc_count.argsort()[-15:][::-1]\n",
    "print('\\nMost important clusters (by number of docs inside):', top_index)\n",
    "# show the top 5 words in term frequency for each cluster \n",
    "top_words(mgp.cluster_word_distribution, top_index, 20)"
   ]
  },
  {
   "cell_type": "code",
   "execution_count": 100,
   "id": "0561b0d4",
   "metadata": {},
   "outputs": [
    {
     "ename": "SyntaxError",
     "evalue": "EOL while scanning string literal (624936307.py, line 1)",
     "output_type": "error",
     "traceback": [
      "\u001b[1;36m  Input \u001b[1;32mIn [100]\u001b[1;36m\u001b[0m\n\u001b[1;33m    gsdmm_clusters=[\"Cluster 11 : [('afgan', 3160), ('suriye', 2092), ('ülke', 1977), ('bir', 1581), ('olmak', 978), ('mülteci', 944), ('desen', 621), ('demek', 607), ('değil', 563), ('gelmek', 535), ('var', 523), ('türkiye', 491), ('bun', 474), ('türk', 425), ('mi', 417), ('biz', 416), ('on', 412), ('yok', 389), ('kendi', 332), ('kadar', 330)”],\u001b[0m\n\u001b[1;37m                                                                                                                                                                                                                                                                                                                                                            ^\u001b[0m\n\u001b[1;31mSyntaxError\u001b[0m\u001b[1;31m:\u001b[0m EOL while scanning string literal\n"
     ]
    }
   ],
   "source": [
    "gsdmm_clusters=[\"Cluster 11 : [('afgan', 3160), ('suriye', 2092), ('ülke', 1977), ('bir', 1581), ('olmak', 978), ('mülteci', 944), ('desen', 621), ('demek', 607), ('değil', 563), ('gelmek', 535), ('var', 523), ('türkiye', 491), ('bun', 474), ('türk', 425), ('mi', 417), ('biz', 416), ('on', 412), ('yok', 389), ('kendi', 332), ('kadar', 330)”],\n",
    "\n",
    "[\"Cluster 1 : [('afgan', 1903), ('ülke', 1242), ('suriye', 1005), ('bir', 778), ('mülteci', 537), ('olmak', 529), ('çocuk', 376), ('mi', 359), ('demek', 352), ('değil', 313), ('biz', 303), ('bun', 292), ('gelmek', 288), ('ben', 286), ('on', 282), ('desen', 277), ('kendi', 273), ('kız', 260), ('yok', 252), ('vatan', 240)”],\n",
    "\n",
    "[\"Cluster 13 : [('afgan', 200), ('suriye', 152), ('iş', 87), ('bir', 74), ('olmak', 72), ('ülke', 64), ('yok', 59), ('çalışmak', 41), ('desen', 37), ('ev', 37), ('biz', 36), ('var', 36), ('değil', 33), ('do', 31), ('on', 30), ('demek', 29), ('türk', 29), ('mülteci', 28), ('gelmek', 28), ('mi', 27)”],\n",
    "\n",
    "[\"Cluster 5 : [('türkiye', 212), ('bütün', 107), ('iade', 107), ('karışmak', 105), ('mülteci', 100), ('geri', 94), ('mahalle', 94), ('derhâl', 94), ('göçmen', 90), ('alınıp', 88), ('sığınmak', 79), ('kötü', 77), ('karışacak', 76), ('afgan', 73), ('hudutnamustur', 69), ('suriye', 67), ('arap', 66), ('afrikalı', 59), ('edilsinleryoksa', 58), ('ran', 47)”],\n",
    "\n",
    "[\"luster 3 : [('yıl', 185), ('geri', 161), ('çocuk', 129), ('afgan', 101), ('bizde', 99), ('suriye', 83), ('özcan', 79), ('bun', 73), ('tanju', 73), ('karı', 67), ('göz', 67), ('yaşın', 66), ('olabilecek', 66), ('sevmek', 65), ('yavru', 64), ('entegre', 60), ('biz', 56), ('top', 56), ('edeceksiniz', 50), ('bakıyorlar', 49)],\n",
    "\n",
    "[\"Cluster 14 : [('mülteci', 97), ('afgan', 92), ('ayşegül', 81), ('bir', 69), ('yaşın', 56), ('ülke', 40), ('tarafından', 40), ('çocuk', 37), ('tecavüz', 37), ('taş', 36), ('kız', 35), ('hayat', 33), ('aydın', 28), ('olmak', 27), ('uğrayan', 27), ('saldırı', 26), ('istemek', 25), ('baş', 25), ('suriye', 24), ('kafa', 22)”],\n",
    "\n",
    "[\"Cluster 2 : [('ülke', 88), ('afgan', 83), ('suriye', 58), ('mülteci', 52), ('sığınmak', 31), ('istemek', 27), ('irak', 25), ('vs', 23), ('göçmek', 22), ('türkiye', 21), ('kendi', 20), ('sınırdışı', 18), ('arap', 17), ('suri', 17), ('yok', 16), ('ler', 15), ('olmak', 14), ('türk', 14), ('bir', 13), ('vatandaş', 12)”],\n",
    "\n",
    "[\"Cluster 8 : [('afgan', 77), ('suriye', 76), ('sığınmak', 34), ('ülke', 34), ('iş', 30), ('ordu', 28), ('haç', 27), ('millet', 26), ('para', 26), ('el', 26), ('aşı', 26), ('alıyor', 26), ('ekmek', 26), ('proje', 21), ('gitmek', 19), ('istemek', 19), ('dönmek', 19), ('lar', 12), ('göz', 10), ('halk', 10)”],\n",
    "\n",
    "[\"Cluster 0 : [('afgan', 76), ('mülteci', 53), ('bir', 44), ('kız', 32), ('ayşegül', 29), ('olmak', 26), ('ülke', 23), ('tarafından', 22), ('baş', 21), ('desen', 19), ('genç', 19), ('taş', 19), ('suriye', 17), ('yaşın', 17), ('tecavüz', 15), ('iç', 13), ('hayat', 13), ('türkiye', 12), ('mi', 12), ('sınır', 11)”],\n",
    "\n",
    "[\"Cluster 12 : [('afgan', 74), ('türkiye', 44), ('olmak', 36), ('sağlık', 34), ('asker', 29), ('çocuk', 28), ('traş', 28), ('kadın', 28), ('suriye', 25), ('âdeta', 25), ('gelir', 22), ('ülke', 19), ('masal', 19), ('genç', 15), ('taliban', 14), ('mülteci', 14), ('avukat', 14), ('korkunç', 14), ('yaka', 13), ('desen', 12)”],\n",
    "\n",
    "[\"Cluster 10 : [('afgan', 69), ('türkiye', 63), ('olmak', 44), ('ülke', 42), ('sağlık', 39), ('âdeta', 39), ('asker', 39), ('traş', 39), ('afganistan', 35), ('çocuk', 34), ('kadın', 34), ('görünüm', 31), ('girmek', 30), ('sığınmak', 30), ('militan', 30), ('genç', 22), ('idare', 22), ('ediyörpütin', 22), ('hudutnamustur', 21), ('gelirtürkiyeyi', 17)”],\n",
    "\n",
    "[\"Cluster 6 : [('afgan', 50), ('ülke', 24), ('gi', 22), ('değil', 20), ('on', 17), ('emperyalizm', 14), ('ni', 14), ('mi', 12), ('millet', 12), ('bi', 12), ('bir', 11), ('mazlum', 11), ('ede', 11), ('li', 10), ('suri', 10), ('istemek', 10), ('yeli', 10), ('bun', 9), ('ler', 9), ('çocuk', 8)”],\n",
    "\n",
    "[\"Cluster 9 : [('afgan', 36), ('bilemek', 29), ('herkes', 28), ('olmak', 26), ('fakir', 21), ('suriye', 18), ('yine', 18), ('savaşmak', 18), ('mülteci', 14), ('türkiye', 14), ('asker', 14), ('genç', 13), ('bir', 10), ('kadın', 10), ('sağlık', 10), ('almak', 10), ('çocuk', 10), ('bitmek', 10), ('gem', 10), ('kaptan', 10)”],\n",
    "\n",
    "[\"Cluster 7 : [('bir', 42), ('afgan', 24), ('olmak', 17), ('suriye', 12), ('önlem', 12), ('ülke', 11), ('sonra', 10), ('yan', 10), ('biz', 9), ('yok', 9), ('mülteci', 9), ('milyon', 7), ('can', 7), ('türkiye', 6), ('yanmak', 6), ('ad', 6), ('bilemek', 6), ('aile', 6), ('patlamak', 6), ('demek', 5)”],\n",
    "\n",
    "[\"Cluster 4 : [('afgan', 17), ('suriye', 11), ('ülke', 9), ('bir', 9), ('mülteci', 8), ('türkiye', 7), ('pakistan', 7), ('olmak', 6), ('milyon', 6), ('fır', 6), ('işgal', 5), ('değil', 4), ('demek', 4), ('durum', 4), ('vatandaş', 4), ('kul', 4), ('uyuşturmak', 4), ('dava', 4), ('cevap', 4), ('türk', 3)\"]\n"
   ]
  },
  {
   "cell_type": "code",
   "execution_count": null,
   "id": "9791b1e9",
   "metadata": {},
   "outputs": [],
   "source": [
    "gsdmm_clusters = [[\"Cluster 2 : [('afganlar', 987), ('ve', 657), ('suriyeliler', 519), ('bu', 510), ('bir', 502), ('de', 311), ('mülteci', 289), ('da', 261), ('afgan', 259), ('suriyeli', 256), ('ne', 213), ('için', 198), ('var', 198), ('yok', 191), ('türkiye', 179), ('gibi', 160), ('çok', 154), ('değil', 146), ('daha', 134), ('ülke', 127)\"],\n",
    "\n",
    "[\"Cluster 10 : [('afganlar', 563), ('bir', 339), ('bu', 312), ('ve', 298), ('mülteci', 277), ('suriyeliler', 274), ('afgan', 255), ('suriyeli', 227), ('ne', 225), ('da', 162), ('de', 161), ('yok', 123), ('var', 103), ('değil', 101), ('daha', 100), ('gibi', 99), ('kadar', 96), ('için', 92), ('çok', 90), ('ama', 89)\"],\n",
    "\n",
    "[\"Cluster 8 : [('afganlar', 623), ('bu', 395), ('ve', 320), ('bir', 273), ('afgan', 239), ('mülteci', 211), ('suriyeliler', 200), ('ne', 181), ('da', 155), ('de', 153), ('için', 140), ('değil', 126), ('ama', 97), ('suriyeli', 96), ('yok', 93), ('var', 91), ('ya', 87), ('kadar', 85), ('kendi', 85), ('neden', 83)\"],\n",
    "\n",
    "[\"Cluster 14 : [('afganlar', 402), ('ve', 345), ('bu', 242), ('bir', 242), ('mülteci', 227), ('afgan', 216), ('suriyeli', 186), ('suriyeliler', 168), ('da', 130), ('de', 128), ('ne', 119), ('değil', 108), ('türkiye', 103), ('için', 97), ('gibi', 81), ('var', 79), ('kadar', 75), ('çok', 72), ('https', 60), ('co', 60)\"],\n",
    "\n",
    "[\"Cluster 0 : [('afganlar', 442), ('ve', 260), ('bir', 241), ('suriyeliler', 204), ('bu', 188), ('da', 143), ('de', 142), ('afgan', 121), ('ne', 116), ('için', 104), ('mülteci', 101), ('suriyeli', 98), ('türkiye', 90), ('ama', 84), ('değil', 73), ('var', 65), ('gibi', 62), ('yok', 62), ('daha', 61), ('çok', 57)\"],\n",
    "\n",
    "[\"Cluster 7 : [('afganlar', 375), ('bu', 184), ('suriyeliler', 172), ('bir', 151), ('ve', 150), ('ne', 104), ('de', 85), ('mülteci', 84), ('da', 82), ('afgan', 80), ('suriyeli', 80), ('var', 76), ('yok', 75), ('ülke', 67), ('kadar', 60), ('kendi', 59), ('daha', 58), ('ama', 57), ('sonra', 55), ('ya', 50)\"],\n",
    "\n",
    "[\"Cluster 6 : [('afganlar', 290), ('suriyeliler', 162), ('bu', 107), ('ve', 106), ('bir', 92), ('ne', 86), ('mülteci', 61), ('yok', 60), ('var', 57), ('suriyeli', 54), ('dolar', 54), ('afgan', 49), ('mi', 49), ('kendi', 45), ('de', 44), ('da', 44), ('çok', 37), ('biz', 37), ('bi', 36), ('daha', 32)\"],\n",
    "\n",
    "[\"Cluster 11 : [('afganlar', 227), ('bu', 107), ('ve', 94), ('suriyeliler', 80), ('bir', 60), ('mi', 55), ('bi', 52), ('ne', 48), ('de', 44), ('icin', 41), ('da', 40), ('herkes', 37), ('ler', 33), ('ama', 32), ('suri', 32), ('ye', 30), ('ki', 29), ('biliyor', 29), ('daha', 28), ('yeli', 28)\"],\n",
    "\n",
    "[\"Cluster 4 : [('afgan', 176), ('mülteci', 171), ('bir', 148), ('ayşegül', 116), ('afganlar', 74), ('bu', 68), ('tarafından', 64), ('ve', 63), ('https', 62), ('co', 62), ('taşla', 53), ('de', 50), ('yaşındaki', 50), ('tecavüz', 42), ('kız', 41), ('için', 37), ('da', 36), ('suriyeli', 33), ('istemiyorum', 33), ('türk', 32)\"],\n",
    "\n",
    "[\"Cluster 9 : [('afganlar', 150), ('ve', 99), ('suriyeliler', 66), ('bu', 63), ('bir', 62), ('de', 52), ('da', 37), ('suriyeli', 36), ('çok', 34), ('gibi', 32), ('ne', 32), ('afgan', 30), ('var', 29), ('ama', 27), ('türk', 27), ('mülteci', 25), ('daha', 24), ('suriye', 24), ('https', 23), ('co', 23)\"],\n",
    "\n",
    "[\"Cluster 13 : [('afganlar', 138), ('ve', 138), ('suriyeliler', 93), ('sığınmacılar', 38), ('bu', 37), ('mülteci', 30), ('afgan', 30), ('ülkesine', 30), ('milletin', 28), ('de', 28), ('bir', 27), ('ekmeğini', 27), ('haçlı', 27), ('ordusu', 27), ('da', 26), ('parasını', 26), ('aşını', 26), ('işini', 26), ('elinden', 26), ('alıyor', 26)\"],\n",
    "\n",
    "[\"Cluster 12 : [('yıl', 187), ('afganlar', 123), ('bizden', 99), ('suriyeliler', 94), ('geride', 93), ('özcan', 92), ('tanju', 79), ('gerideydi', 78), ('bizim', 69), ('diye', 68), ('sevdiğimiz', 66), ('karısı', 66), ('olabilecek', 66), ('yavrum', 65), ('çocuğum', 64), ('nasıl', 62), ('https', 62), ('co', 62), ('entegre', 61), ('edeceksiniz', 60)\"],\n",
    "\n",
    "[\"Cluster 3 : [('türkiye', 192), ('ve', 118), ('afganlar', 107), ('geri', 96), ('derhal', 96), ('suriyeliler', 94), ('bütün', 94), ('araplar', 94), ('alınıp', 94), ('iade', 94), ('yi', 93), ('karıştırmadan', 91), ('afrikalılar', 91), ('iranlılar', 91), ('mahallemizden', 91), ('edilsinler', 91), ('mülteciler', 80), ('göçmenler', 77), ('yoksa', 77), ('çok', 77)\"],\n",
    "\n",
    "[\"Cluster 1 : [('afganlar', 76), ('ve', 58), ('bir', 54), ('türkiye', 42), ('afgan', 41), ('mülteci', 34), ('ye', 31), ('bu', 22), ('genç', 21), ('https', 21), ('co', 21), ('de', 20), ('ne', 20), ('asker', 20), ('neden', 19), ('suriyeliler', 18), ('suriyeli', 18), ('kadınları', 18), ('olmayan', 18), ('ile', 17)\"],\n",
    "\n",
    "[\"Cluster 5 : [('türkiye', 84), ('afganlar', 77), ('ve', 61), ('ye', 61), ('putin', 44), ('neden', 43), ('adeta', 43), ('genç', 43), ('sağlıklı', 43), ('asker', 43), ('traşlı', 43), ('çocukları', 43), ('kadınları', 43), ('olmayan', 43), ('gelir', 40), ('sınırnamustur', 36), ('daki', 35), ('hudutnamustur', 34), ('ülkemize', 32), ('sığınmacı', 32)\"]]"
   ]
  },
  {
   "cell_type": "code",
   "execution_count": null,
   "id": "aad67171",
   "metadata": {},
   "outputs": [],
   "source": [
    "gsdmm_clusters = pd.DataFrame.from_dict(gsdmm_clusters)"
   ]
  },
  {
   "cell_type": "code",
   "execution_count": null,
   "id": "fe8fbddf",
   "metadata": {},
   "outputs": [],
   "source": [
    "gsdmm_clusters"
   ]
  },
  {
   "cell_type": "code",
   "execution_count": null,
   "id": "e43759a8",
   "metadata": {},
   "outputs": [],
   "source": [
    "gsdmm_clusters.rename(columns={0: \"Dominant Keywords for GSDMM Clusters\"}, inplace=True)"
   ]
  },
  {
   "cell_type": "code",
   "execution_count": null,
   "id": "cc723063",
   "metadata": {},
   "outputs": [],
   "source": [
    "gsdmm_clusters[['Cluster No.(Importance)','Dominant Keywords:GSDMM']] = gsdmm_clusters[\"Dominant Keywords for GSDMM Clusters\"].str.split(\":\",expand=True,)\n",
    "gsdmm_clusters"
   ]
  },
  {
   "cell_type": "code",
   "execution_count": null,
   "id": "cc4fc7ad",
   "metadata": {},
   "outputs": [],
   "source": [
    "# I didn`t rename the clusters\n",
    "\n",
    "topic_dict = {}\n",
    "topic_names = ['type 1',\n",
    "               'type 2',\n",
    "               'type 3',\n",
    "               'type 4',\n",
    "               'type 5',\n",
    "               'type 6',\n",
    "               'type 7',\n",
    "               'type 8',\n",
    "               'type 9',\n",
    "               'type 10',\n",
    "               'type 11',\n",
    "               'type 12',\n",
    "               'type 13',\n",
    "               'type 14',\n",
    "               'type 15'\n",
    "              ]\n",
    "for i, topic_num in enumerate(top_index):\n",
    "    topic_dict[topic_num]=topic_names[i] "
   ]
  },
  {
   "cell_type": "code",
   "execution_count": null,
   "id": "05c8edc1",
   "metadata": {},
   "outputs": [],
   "source": [
    "def create_topics_dataframe(negative_text=negative.Tweet,  mgp=mgp, threshold=0.3, topic_dict=topic_dict, lemma_text=tokens_tweets):\n",
    "    result = pd.DataFrame(columns=['Text', 'Topic', 'Rating', 'Lemma-text'])\n",
    "    for i, text in enumerate(negative_text):\n",
    "        result.at[i, 'Text'] = text\n",
    "        #result.at[i, 'Rating'] = data.Rating[i]\n",
    "        result.at[i, 'Lemma-text'] = lemma_text[i]\n",
    "        prob = mgp.choose_best_label(tokens_tweets[i])\n",
    "        if prob[1] >= threshold:\n",
    "            result.at[i, 'Topic'] = topic_dict[prob[0]]\n",
    "        else:\n",
    "            result.at[i, 'Topic'] = 'Other'\n",
    "    return result"
   ]
  },
  {
   "cell_type": "code",
   "execution_count": null,
   "id": "3c367933",
   "metadata": {},
   "outputs": [],
   "source": [
    "result = create_topics_dataframe(negative_text=negative.Tweet, mgp=mgp, threshold=0.3, topic_dict=topic_dict, lemma_text=tokens_tweets)\n",
    "result.head(16)"
   ]
  },
  {
   "cell_type": "code",
   "execution_count": null,
   "id": "9a9c4ea7",
   "metadata": {},
   "outputs": [],
   "source": [
    "#VISUALIZATION"
   ]
  },
  {
   "cell_type": "code",
   "execution_count": null,
   "id": "4af41a4b",
   "metadata": {},
   "outputs": [],
   "source": [
    "import plotly.express as px\n",
    "\n",
    "fig = px.pie(result, names='Topic',  title=\"Figure 4. GSDMM for Abortion Tweets with Negative Sentiment\", color_discrete_sequence=px.colors.sequential.Burg)\n",
    "fig.show()"
   ]
  },
  {
   "cell_type": "code",
   "execution_count": null,
   "id": "4ce702bb",
   "metadata": {},
   "outputs": [],
   "source": [
    "result['len'] = result.Text.apply(lambda row: len(row.split()))\n",
    "result.head()"
   ]
  },
  {
   "cell_type": "code",
   "execution_count": null,
   "id": "480b76a1",
   "metadata": {},
   "outputs": [],
   "source": [
    "result"
   ]
  },
  {
   "cell_type": "code",
   "execution_count": null,
   "id": "330123ef",
   "metadata": {},
   "outputs": [],
   "source": [
    "#WORDCLOUDS"
   ]
  },
  {
   "cell_type": "code",
   "execution_count": null,
   "id": "6a35b4e7",
   "metadata": {},
   "outputs": [],
   "source": [
    "result['Lemma_text'] = result['Lemma-text'].apply(lambda row: ' '.join(row))"
   ]
  },
  {
   "cell_type": "code",
   "execution_count": null,
   "id": "e69a51d4",
   "metadata": {},
   "outputs": [],
   "source": [
    "result = result.drop('Lemma-text', axis=1)"
   ]
  },
  {
   "cell_type": "code",
   "execution_count": null,
   "id": "c5ba3468",
   "metadata": {},
   "outputs": [],
   "source": [
    "!pip install wordcloud"
   ]
  },
  {
   "cell_type": "code",
   "execution_count": null,
   "id": "fc9f801c",
   "metadata": {},
   "outputs": [],
   "source": [
    "from wordcloud import WordCloud "
   ]
  },
  {
   "cell_type": "code",
   "execution_count": null,
   "id": "6de3252e",
   "metadata": {},
   "outputs": [],
   "source": [
    "my_stopwords = [\"afgan\", \"böyle\", \"bir\", \"bu\", \"şey\", \"mi\", \"mı\", \"var\", \"ki\", \"ama\", \"diye\", \"her\", \"tamam\",\"kadar\", \"işte\", \"çi\", \"çki\", \"bi\", \"rbia\", \"ne\", \"mıdır\", \"midir\", \"da\", \"le\", \"el\",\"için\", \"de\",\"belli\", \"ve\", \"değil\", \"gibi\", \"ile\"]"
   ]
  },
  {
   "cell_type": "code",
   "execution_count": null,
   "id": "2ba1d5e1",
   "metadata": {},
   "outputs": [],
   "source": [
    "import matplotlib.pyplot as plt"
   ]
  },
  {
   "cell_type": "code",
   "execution_count": null,
   "id": "27386c67",
   "metadata": {},
   "outputs": [],
   "source": [
    "def create_WordCloud(data, title=None):\n",
    "    wordcloud = WordCloud(width = 500, height = 500,\n",
    "                          background_color ='white',\n",
    "                          min_font_size = 15, stopwords = my_stopwords\n",
    "                         ).generate(\" \".join(data.values))\n",
    "                      \n",
    "    plt.figure(figsize = (5, 5), facecolor = None) \n",
    "    plt.imshow(wordcloud, interpolation='bilinear') \n",
    "    plt.axis(\"off\") \n",
    "    plt.tight_layout(pad = 0) \n",
    "    plt.title(title,fontsize=20)\n",
    "    plt.show() "
   ]
  },
  {
   "cell_type": "code",
   "execution_count": null,
   "id": "7a9fa581",
   "metadata": {},
   "outputs": [],
   "source": [
    "create_WordCloud(result['Lemma_text'].loc[result.Topic == 'type 1'], title=\"Most used words in negative sentiment tweets\")"
   ]
  },
  {
   "cell_type": "code",
   "execution_count": null,
   "id": "569303be",
   "metadata": {},
   "outputs": [],
   "source": [
    "create_WordCloud(result['Lemma_text'].loc[result.Topic == 'type 2'], title=\"Most used words in negative sentiment tweets\")"
   ]
  },
  {
   "cell_type": "code",
   "execution_count": null,
   "id": "90ed6fc2",
   "metadata": {},
   "outputs": [],
   "source": []
  }
 ],
 "metadata": {
  "kernelspec": {
   "display_name": "Python 3 (ipykernel)",
   "language": "python",
   "name": "python3"
  },
  "language_info": {
   "codemirror_mode": {
    "name": "ipython",
    "version": 3
   },
   "file_extension": ".py",
   "mimetype": "text/x-python",
   "name": "python",
   "nbconvert_exporter": "python",
   "pygments_lexer": "ipython3",
   "version": "3.9.12"
  }
 },
 "nbformat": 4,
 "nbformat_minor": 5
}
